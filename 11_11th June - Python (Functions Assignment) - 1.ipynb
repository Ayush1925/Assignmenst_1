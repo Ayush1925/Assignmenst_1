{
 "cells": [
  {
   "cell_type": "markdown",
   "id": "81c66688-c812-4d36-ba79-26a4556641da",
   "metadata": {},
   "source": [
    "## 1. What is a lambda function in Python, and how does it differ from a regular function?"
   ]
  },
  {
   "cell_type": "raw",
   "id": "910d7db1-1e3f-4f31-8d53-8a2db0a870a5",
   "metadata": {},
   "source": [
    "here are some key points about lambda functions in Python:\n",
    "\n",
    "Lambda functions are small, anonymous functions defined with the lambda keyword.\n",
    "They can take any number of arguments but can only have one expression.\n",
    "The expression is evaluated and returned when the function is called.\n",
    "Lambda functions do not require a return statement, the expression is implicitly returned.\n",
    "They can be used wherever function objects are required, like inside functions like map(), filter(), and reduce().\n",
    "You can't include statements like loops, if, or else in lambda functions; only expressions are allowed.\n",
    "Lambda functions are useful for small tasks that are not reused throughout your code.\n",
    "They can be assigned to variables and used like regular functions."
   ]
  },
  {
   "cell_type": "raw",
   "id": "a689c86e-e55c-4d19-ae1e-07648076dfb2",
   "metadata": {},
   "source": [
    "Syntax: lambda arguments : expression"
   ]
  },
  {
   "cell_type": "code",
   "execution_count": 1,
   "id": "61d72871-ce43-43a6-994a-0e2cb095e0cc",
   "metadata": {},
   "outputs": [],
   "source": [
    "x = lambda x,y : x+y"
   ]
  },
  {
   "cell_type": "code",
   "execution_count": 2,
   "id": "62bc4da1-3623-4588-8331-2dd002917549",
   "metadata": {},
   "outputs": [
    {
     "data": {
      "text/plain": [
       "8"
      ]
     },
     "execution_count": 2,
     "metadata": {},
     "output_type": "execute_result"
    }
   ],
   "source": [
    "x(5,3)"
   ]
  },
  {
   "cell_type": "code",
   "execution_count": null,
   "id": "a535526a-cadb-42bb-a117-7c3a6349df75",
   "metadata": {},
   "outputs": [],
   "source": []
  },
  {
   "cell_type": "markdown",
   "id": "f5848fc5-d40b-4190-ac7b-fa58a351c2d2",
   "metadata": {},
   "source": [
    "## 2. Can a lambda function in Python have multiple arguments? If yes, how can you define and use them?"
   ]
  },
  {
   "cell_type": "raw",
   "id": "30f7053a-54a4-443d-8cbb-2b3cf596af74",
   "metadata": {},
   "source": [
    "Yes, lambda function in Python have multiple arguments."
   ]
  },
  {
   "cell_type": "code",
   "execution_count": 4,
   "id": "7a10fdc9-2be0-4b30-a9ff-2f9639e6f501",
   "metadata": {},
   "outputs": [],
   "source": [
    "x = lambda x,y : x * y # In this lambda function, I have given 2 arguments x and y, and the expression is x * y"
   ]
  },
  {
   "cell_type": "code",
   "execution_count": 5,
   "id": "d68e0b6d-89be-48bb-944f-41c6d0ea346f",
   "metadata": {},
   "outputs": [
    {
     "data": {
      "text/plain": [
       "4"
      ]
     },
     "execution_count": 5,
     "metadata": {},
     "output_type": "execute_result"
    }
   ],
   "source": [
    "x(2,2) # calling lambda function."
   ]
  },
  {
   "cell_type": "code",
   "execution_count": null,
   "id": "5f4778eb-725c-4697-8629-8844d858ede1",
   "metadata": {},
   "outputs": [],
   "source": []
  },
  {
   "cell_type": "markdown",
   "id": "68f22b27-b452-4128-bc74-a4eb80652f9b",
   "metadata": {},
   "source": [
    "## 3. How are lambda functions typically used in Python? Provide an example use case."
   ]
  },
  {
   "cell_type": "raw",
   "id": "a1343e66-b203-4327-96a2-013df76dc1ee",
   "metadata": {},
   "source": [
    "We can use lambda function in filter().\n",
    "filter() function is used to filter a given iterable (list like object) using another function that defines the filtering logic. A lambda function is typically used to define the filtering logic and is passed as the first argument of filter().\n",
    "We should use the lambda function to create simple expressions. For example, expressions that do not include complex structures such as if-else, for-loops, and so on. So, for example, if you want to create a function with a for-loop, you should use a user-defined function.\n",
    "Lambda functions are especially useful when you want to define a small function to pass as an argument to another function.\n",
    "They're often used with functions like map(), filter(), reduce(), and sorted()."
   ]
  },
  {
   "cell_type": "raw",
   "id": "af89f895-7719-41c2-81df-496eea3bc479",
   "metadata": {},
   "source": [
    "Examples of lambda functions."
   ]
  },
  {
   "cell_type": "code",
   "execution_count": 10,
   "id": "2f3eb108-e3dd-4168-abfc-68244008b217",
   "metadata": {},
   "outputs": [
    {
     "name": "stdin",
     "output_type": "stream",
     "text": [
      "First Number 10\n",
      "Second Number 20\n"
     ]
    },
    {
     "data": {
      "text/plain": [
       "30"
      ]
     },
     "execution_count": 10,
     "metadata": {},
     "output_type": "execute_result"
    }
   ],
   "source": [
    "#First Example\n",
    "add = lambda: int(input(\"First Number\")) + int(input(\"Second Number\"))\n",
    "add()"
   ]
  },
  {
   "cell_type": "code",
   "execution_count": 12,
   "id": "debcddbe-532c-4b72-9b1e-d058dd774b9a",
   "metadata": {},
   "outputs": [
    {
     "name": "stdin",
     "output_type": "stream",
     "text": [
      "Enter Firs Digit 10\n",
      "Enter Second Digit 10\n"
     ]
    },
    {
     "data": {
      "text/plain": [
       "100"
      ]
     },
     "execution_count": 12,
     "metadata": {},
     "output_type": "execute_result"
    }
   ],
   "source": [
    "#Second Example\n",
    "Mul = lambda a,b : a * b\n",
    "num1 = int(input(\"Enter Firs Digit\"))\n",
    "num2 = int(input(\"Enter Second Digit\"))\n",
    "Mul(num1,num2)"
   ]
  },
  {
   "cell_type": "code",
   "execution_count": 13,
   "id": "78b7b9cc-304e-4b88-8586-b956539e9f0c",
   "metadata": {},
   "outputs": [
    {
     "name": "stdout",
     "output_type": "stream",
     "text": [
      "{'name': 'Product4', 'price': 20}\n",
      "{'name': 'Product2', 'price': 30}\n",
      "{'name': 'Product3', 'price': 40}\n",
      "{'name': 'Product1', 'price': 50}\n"
     ]
    }
   ],
   "source": [
    "#Third Example\n",
    "# A list of dictionaries is created, where each dictionary represents a product. \n",
    "# Each product has two properties: 'name' and 'price'.\n",
    "\n",
    "products = [\n",
    "    {'name': 'Product1', 'price': 50},\n",
    "    {'name': 'Product2', 'price': 30},\n",
    "    {'name': 'Product3', 'price': 40},\n",
    "    {'name': 'Product4', 'price': 20},\n",
    "]\n",
    "\n",
    "# The products list and a lambda function are passed to the sorted() method. \n",
    "# The sorted() function's key parameter accepts a function as an argument. \n",
    "# This function generates a'sorting key' for each entry in the list.\n",
    "\n",
    "# In this case, the lambda function lambda x: x['price'] takes an argument (a dictionary) and returns the value of its 'price' key. \n",
    "# These pricing values are used by the sorted() method to compare products and determine their rank in the sorted list.\n",
    "\n",
    "sorted_products = sorted(products, key=lambda x: x['price'])\n",
    "\n",
    "for product in sorted_products:\n",
    "    print(product)"
   ]
  },
  {
   "cell_type": "code",
   "execution_count": null,
   "id": "907a0c58-2784-4b3f-977a-bfa4d6cc7502",
   "metadata": {},
   "outputs": [],
   "source": []
  },
  {
   "cell_type": "markdown",
   "id": "cbed3eb8-c5dc-4d9b-9065-20aace54f66c",
   "metadata": {},
   "source": [
    "## 4. What are the advantages and limitations of lambda functions compared to regular functions in Python?"
   ]
  },
  {
   "cell_type": "raw",
   "id": "975c6f1d-dd00-402a-9205-5d515d826103",
   "metadata": {},
   "source": [
    "Lambda expressions a special syntax in Python for creating anonymous functions."
   ]
  },
  {
   "cell_type": "raw",
   "id": "be355003-192b-4158-8343-4f52e41a8fd8",
   "metadata": {},
   "source": [
    "**The pros of using lambda function:\n",
    "\n",
    "They can be immediately passed around (no variable needed)\n",
    "They can only have a single line of code within them\n",
    "They return automatically\n",
    "They can’t have a docstring and they don’t have a name\n",
    "They use a different and unfamiliar syntax"
   ]
  },
  {
   "cell_type": "raw",
   "id": "c961eaab-e047-4f57-8514-c86fb916916b",
   "metadata": {},
   "source": [
    "**The cons of lambda:\n",
    "\n",
    "lambda expressions are an odd and unfamiliar syntax to many Python programmers\n",
    "lambda functions inherently lack a name or documentation, meaning reading their code is the only way to figure out what they do\n",
    "lambda expressions can have only one statement in them so certain language features that improve readability, like tuple unpacking, can’t be used with them\n",
    "lambda functions can often be replaced with already existing functions in the standard library or built-in to Python"
   ]
  },
  {
   "cell_type": "code",
   "execution_count": null,
   "id": "47ed6d61-ff7e-46c0-8124-fbe6e7eb4fc9",
   "metadata": {},
   "outputs": [],
   "source": []
  },
  {
   "cell_type": "markdown",
   "id": "6fcbddfd-197d-4c37-8397-ef680bc8fae2",
   "metadata": {},
   "source": [
    "## 5. Are lambda functions in Python able to access variables defined outside of their own scope? Explain with an example."
   ]
  },
  {
   "cell_type": "raw",
   "id": "a0661733-11e3-4eca-bb7c-a91fc981e18e",
   "metadata": {},
   "source": [
    "Lambda functions have their own local namespace and cannot access variables other than those in their parameter list and those in the global namespace.\n",
    "A lambda expression introduces a new local scope for the function it creates.\n",
    "Lambdas can see all the variables that live in the functions where they are coded."
   ]
  },
  {
   "cell_type": "raw",
   "id": "f4c635c6-fa59-47ba-8d98-25fc83df97ee",
   "metadata": {},
   "source": [
    "Example:"
   ]
  },
  {
   "cell_type": "code",
   "execution_count": 15,
   "id": "310e5715-89a5-4a2c-bfb7-478749bc5b66",
   "metadata": {},
   "outputs": [
    {
     "name": "stdout",
     "output_type": "stream",
     "text": [
      "16\n"
     ]
    }
   ],
   "source": [
    "def func(): \n",
    "    x = 4 \n",
    "    action = (lambda n: x ** n)          # x remembered from enclosing def \n",
    "    return action \n",
    "\n",
    "x = func() \n",
    "print(x(2))                              # Prints 16, 4 ** 2"
   ]
  },
  {
   "cell_type": "code",
   "execution_count": null,
   "id": "1fd6e404-9671-4f98-95ec-b28d35cf812b",
   "metadata": {},
   "outputs": [],
   "source": []
  },
  {
   "cell_type": "markdown",
   "id": "8bc09563-ff6e-485e-9262-4fcf51f5d1aa",
   "metadata": {},
   "source": [
    "## 6. Write a lambda function to calculate the square of a given number."
   ]
  },
  {
   "cell_type": "raw",
   "id": "0be9d7f4-e378-4c7e-95ce-e04bc9b5b72c",
   "metadata": {},
   "source": [
    "Answer:"
   ]
  },
  {
   "cell_type": "code",
   "execution_count": 26,
   "id": "d61c046d-9e5b-4ba3-837a-80030c1efdc4",
   "metadata": {},
   "outputs": [],
   "source": [
    "Square = lambda n : n*n"
   ]
  },
  {
   "cell_type": "code",
   "execution_count": 31,
   "id": "a313ec62-06dc-4b6b-8383-5ef47b8e056c",
   "metadata": {},
   "outputs": [
    {
     "data": {
      "text/plain": [
       "25"
      ]
     },
     "execution_count": 31,
     "metadata": {},
     "output_type": "execute_result"
    }
   ],
   "source": [
    "Square(5)"
   ]
  },
  {
   "cell_type": "code",
   "execution_count": null,
   "id": "9cd85e46-06d9-496e-8ffc-6c0759d489ad",
   "metadata": {},
   "outputs": [],
   "source": []
  },
  {
   "cell_type": "markdown",
   "id": "af12de5d-e70a-463c-9e19-3cc4d6826d13",
   "metadata": {},
   "source": [
    "## 7. Create a lambda function to find the maximum value in a list of integers."
   ]
  },
  {
   "cell_type": "raw",
   "id": "5351a4db-cef0-4247-8bde-f6c9b7737d45",
   "metadata": {},
   "source": [
    "Answer:"
   ]
  },
  {
   "cell_type": "code",
   "execution_count": 49,
   "id": "b90882f7-b851-452c-b5cd-4c0c3bc95b18",
   "metadata": {},
   "outputs": [
    {
     "name": "stdout",
     "output_type": "stream",
     "text": [
      "5\n"
     ]
    }
   ],
   "source": [
    "list = [1, 2, 3, 4, 5]\n",
    "maximum = max(list, key=lambda x:int(x))\n",
    "print(maximum)"
   ]
  },
  {
   "cell_type": "code",
   "execution_count": null,
   "id": "5c088620-4c43-40a3-a6e1-3652a6f5c6c9",
   "metadata": {},
   "outputs": [],
   "source": []
  },
  {
   "cell_type": "markdown",
   "id": "27af7505-3828-4142-8959-f4ef7cfedbfa",
   "metadata": {},
   "source": [
    "## 8. Implement a lambda function to filter out all the even numbers from a list of integers."
   ]
  },
  {
   "cell_type": "raw",
   "id": "cfbd8e63-7a6e-405a-a9e1-cb473454cc17",
   "metadata": {},
   "source": [
    "Answer:"
   ]
  },
  {
   "cell_type": "code",
   "execution_count": 2,
   "id": "47a21992-155c-486b-9ebf-4efd0864237c",
   "metadata": {},
   "outputs": [
    {
     "name": "stdout",
     "output_type": "stream",
     "text": [
      "[2, 4, 6, 8, 10]\n"
     ]
    }
   ],
   "source": [
    "my_list = [1,2,3,4,5,6,7,8,9,10]\n",
    "even_numbers = list(filter(lambda x: x%2==0, my_list))\n",
    "print(even_numbers)"
   ]
  },
  {
   "cell_type": "code",
   "execution_count": null,
   "id": "165f2348-6581-4750-8a09-4b8f0e3be45c",
   "metadata": {},
   "outputs": [],
   "source": []
  },
  {
   "cell_type": "markdown",
   "id": "18263ef6-78ea-415c-9267-87eda0b8b102",
   "metadata": {},
   "source": [
    "## 9. Write a lambda function to sort a list of strings in ascending order based on the length of each string."
   ]
  },
  {
   "cell_type": "code",
   "execution_count": 12,
   "id": "433a3214-fd7d-4a32-a4c9-c4ad83031374",
   "metadata": {},
   "outputs": [
    {
     "name": "stdout",
     "output_type": "stream",
     "text": [
      "['Ayush', 'Binny', 'Kiddo']\n"
     ]
    }
   ],
   "source": [
    "Fruits = [\"Kiddo\",\"Ayush\",\"Binny\"]\n",
    "Asc = sorted(Fruits, key = lambda x: x[0])\n",
    "print(Asc)"
   ]
  },
  {
   "cell_type": "code",
   "execution_count": null,
   "id": "776b1284-58bd-494a-af3f-a938714cb288",
   "metadata": {},
   "outputs": [],
   "source": []
  },
  {
   "cell_type": "markdown",
   "id": "81a0ce28-a30d-4674-95f5-ada5693daa62",
   "metadata": {},
   "source": [
    "## 10. Create a lambda function that takes two lists as input and returns a new list containing the common elements between the two lists."
   ]
  },
  {
   "cell_type": "raw",
   "id": "05b317b6-56f8-4b4c-8da7-5a9b6fa205aa",
   "metadata": {},
   "source": [
    "Answer:"
   ]
  },
  {
   "cell_type": "code",
   "execution_count": 10,
   "id": "fdbbe1f5-b0a3-4359-b557-256fdfa3652c",
   "metadata": {},
   "outputs": [
    {
     "name": "stdout",
     "output_type": "stream",
     "text": [
      "Original arrays:\n",
      "[1, 2, 3, 5, 7, 8, 9, 10]\n",
      "[1, 2, 4, 8, 9]\n",
      "\n",
      "Intersection of the said arrays:  [1, 2, 8, 9]\n"
     ]
    }
   ],
   "source": [
    "#Example 1\n",
    "array_nums1 = [1, 2, 3, 5, 7, 8, 9, 10]\n",
    "array_nums2 = [1, 2, 4, 8, 9]\n",
    "print(\"Original arrays:\")\n",
    "print(array_nums1)\n",
    "print(array_nums2)\n",
    "result = list(filter(lambda x: x in array_nums1, array_nums2)) \n",
    "print (\"\\nIntersection of the said arrays: \",result)"
   ]
  },
  {
   "cell_type": "code",
   "execution_count": null,
   "id": "8498c058-c834-40ee-9f8e-125ec0a08529",
   "metadata": {},
   "outputs": [],
   "source": []
  },
  {
   "cell_type": "code",
   "execution_count": 17,
   "id": "9b8bc297-99da-4490-963c-b2a928f7f6b4",
   "metadata": {},
   "outputs": [
    {
     "name": "stdin",
     "output_type": "stream",
     "text": [
      "Enter numbers in the first list seperated by a coma:  1,2,3\n",
      "Enter numbers in the second list seperated by a coma:  2,3,6\n"
     ]
    },
    {
     "name": "stdout",
     "output_type": "stream",
     "text": [
      "\n",
      "Intersection of the said list:  ['2', '3']\n"
     ]
    }
   ],
   "source": [
    "#Example 2\n",
    "array_nums1 = []\n",
    "array_nums1 = input(\"Enter numbers in the first list seperated by a coma: \")\n",
    "\n",
    "array_nums2 = []\n",
    "array_nums2 = input(\"Enter numbers in the second list seperated by a coma: \")\n",
    "\n",
    "result = list(filter(lambda x: x in array_nums1,array_nums2))\n",
    "while ',' in result:\n",
    "    result.remove(',')\n",
    "print (\"\\nIntersection of the said list: \",result)"
   ]
  },
  {
   "cell_type": "code",
   "execution_count": null,
   "id": "c82b9465-7954-451b-8d39-2c17ba5fd488",
   "metadata": {},
   "outputs": [],
   "source": []
  },
  {
   "cell_type": "markdown",
   "id": "d4285ec7-58bc-4794-9136-0fd9d8b89b78",
   "metadata": {},
   "source": [
    "## 11. Write a recursive function to calculate the factorial of a given positive integer."
   ]
  },
  {
   "cell_type": "raw",
   "id": "48a20f85-ed3c-4309-9ad4-0a05388d366d",
   "metadata": {},
   "source": [
    "Answer:"
   ]
  },
  {
   "cell_type": "code",
   "execution_count": 18,
   "id": "e2b22207-0bf3-4ebc-9613-80becc740b0f",
   "metadata": {},
   "outputs": [],
   "source": [
    "def recursive_function(n):\n",
    "    if n == 1:\n",
    "        return 1\n",
    "    else:\n",
    "        return n * recursive_function(n-1)"
   ]
  },
  {
   "cell_type": "code",
   "execution_count": 23,
   "id": "e45f4bd9-5f78-44fa-a743-368596e88402",
   "metadata": {},
   "outputs": [
    {
     "data": {
      "text/plain": [
       "6"
      ]
     },
     "execution_count": 23,
     "metadata": {},
     "output_type": "execute_result"
    }
   ],
   "source": [
    "recursive_function(3)"
   ]
  },
  {
   "cell_type": "code",
   "execution_count": null,
   "id": "6d73e267-53fa-47d0-9a97-8b1ced46e8e1",
   "metadata": {},
   "outputs": [],
   "source": []
  },
  {
   "cell_type": "markdown",
   "id": "c5da4629-0310-433a-9245-8f4d3546dc97",
   "metadata": {},
   "source": [
    "## 12. Implement a recursive function to compute the nth Fibonacci number."
   ]
  },
  {
   "cell_type": "raw",
   "id": "72a91941-567d-408b-9fb5-4d48104a9851",
   "metadata": {},
   "source": [
    "Answer:"
   ]
  },
  {
   "cell_type": "code",
   "execution_count": 38,
   "id": "82caf377-ca5c-4af7-938d-a8a276445e6f",
   "metadata": {},
   "outputs": [
    {
     "name": "stdout",
     "output_type": "stream",
     "text": [
      "12th Element of the Fibonacci Series: 144\n"
     ]
    }
   ],
   "source": [
    "def Fibonacci_Series(n):   \n",
    "    # using if-else conditional statement  \n",
    "    if n < 0:  \n",
    "        print(\"Oops! Incorrect input\")  \n",
    "    # First Fibonacci number is 0  \n",
    "    elif n == 0:   \n",
    "        return (0)   \n",
    "    # Second Fibonacci number is 1   \n",
    "    elif n == 1:  \n",
    "        return (1)  \n",
    "    else:  \n",
    "        return (Fibonacci_Series(n - 1) + Fibonacci_Series(n - 2))   \n",
    "# printing the 12th element of the Fibonacci Series  \n",
    "print(\"12th Element of the Fibonacci Series:\", Fibonacci_Series(12))  "
   ]
  },
  {
   "cell_type": "code",
   "execution_count": null,
   "id": "58ee7c21-27c1-401d-baed-a2736e25eef6",
   "metadata": {},
   "outputs": [],
   "source": []
  },
  {
   "cell_type": "markdown",
   "id": "7848875f-f7f3-49c8-9f67-5870591e520f",
   "metadata": {},
   "source": [
    "## 13. Create a recursive function to find the sum of all the elements in a given list."
   ]
  },
  {
   "cell_type": "raw",
   "id": "fbdd35b6-c654-4ef4-bd37-c5051b3832ae",
   "metadata": {},
   "source": [
    "Answer:"
   ]
  },
  {
   "cell_type": "code",
   "execution_count": 75,
   "id": "a99251c8-6507-4631-a3c9-5e751a1b75bf",
   "metadata": {},
   "outputs": [
    {
     "name": "stdin",
     "output_type": "stream",
     "text": [
      "Enter the number of elements for list: 3\n",
      "Enter element: 1\n",
      "Enter element: 2\n",
      "Enter element: 3\n"
     ]
    },
    {
     "name": "stdout",
     "output_type": "stream",
     "text": [
      "The list is:\n",
      "[1, 2, 3]\n",
      "Sum of items in list:\n",
      "6\n"
     ]
    }
   ],
   "source": [
    "def sum_arr(arr,size):\n",
    "   if (size == 0):\n",
    "     return 0\n",
    "   else:\n",
    "     return arr[size-1] + sum_arr(arr,size-1)\n",
    "n=int(input(\"Enter the number of elements for list:\"))\n",
    "a=[]\n",
    "for i in range(0,n):\n",
    "    element=int(input(\"Enter element:\"))\n",
    "    a.append(element)\n",
    "print(\"The list is:\")\n",
    "print(a)\n",
    "print(\"Sum of items in list:\")\n",
    "b=sum_arr(a,n)\n",
    "print(b)"
   ]
  },
  {
   "cell_type": "code",
   "execution_count": null,
   "id": "7003833d-40b2-4d62-a8d4-bd36fca3e977",
   "metadata": {},
   "outputs": [],
   "source": []
  },
  {
   "cell_type": "markdown",
   "id": "4891039e-548d-4ff3-a293-639a5f9e52db",
   "metadata": {},
   "source": [
    "## 14. Write a recursive function to determine whether a given string is a palindrome."
   ]
  },
  {
   "cell_type": "raw",
   "id": "a39bcb80-eaae-46c1-b2ac-8d845bdd36d1",
   "metadata": {},
   "source": [
    "Answer:"
   ]
  },
  {
   "cell_type": "code",
   "execution_count": 66,
   "id": "d9e0d200-2bab-434d-bd06-eac0737e6822",
   "metadata": {},
   "outputs": [
    {
     "name": "stdin",
     "output_type": "stream",
     "text": [
      "Enter string: HH\n"
     ]
    },
    {
     "name": "stdout",
     "output_type": "stream",
     "text": [
      "String is a palindrome!\n"
     ]
    }
   ],
   "source": [
    "def is_palindrome(s):\n",
    "    if len(s) < 1:\n",
    "        return True\n",
    "    else:\n",
    "        if s[0] == s[-1]:\n",
    "            return is_palindrome(s[1:-1])\n",
    "        else:\n",
    "            return False\n",
    "a=str(input(\"Enter string:\"))\n",
    "if(is_palindrome(a)==True):\n",
    "    print(\"String is a palindrome!\")\n",
    "else:\n",
    "    print(\"String is not a palindrome!\")"
   ]
  },
  {
   "cell_type": "code",
   "execution_count": null,
   "id": "1d452611-edbb-47ed-99c3-9674b9f59964",
   "metadata": {},
   "outputs": [],
   "source": []
  },
  {
   "cell_type": "markdown",
   "id": "eb7a2dbd-931a-4a80-b91c-2dad2bdb7b6d",
   "metadata": {},
   "source": [
    "## 15. Implement a recursive function to find the greatest common divisor (GCD) of two positive integers."
   ]
  },
  {
   "cell_type": "raw",
   "id": "fb7097c3-49d5-4ba0-991e-99fd93592862",
   "metadata": {},
   "source": [
    "Answer:"
   ]
  },
  {
   "cell_type": "code",
   "execution_count": 74,
   "id": "c14a8e5f-7fcd-4c0f-bb30-7aefb18958d3",
   "metadata": {},
   "outputs": [
    {
     "name": "stdin",
     "output_type": "stream",
     "text": [
      "Enter first number: 20\n",
      "Enter second number: 15\n"
     ]
    },
    {
     "name": "stdout",
     "output_type": "stream",
     "text": [
      "GCD is: \n",
      "5\n"
     ]
    }
   ],
   "source": [
    "def gcd(a,b):\n",
    "    if(b==0):\n",
    "        return a\n",
    "    else:\n",
    "        return gcd(b,a%b)\n",
    "a=int(input(\"Enter first number:\"))\n",
    "b=int(input(\"Enter second number:\"))\n",
    "GCD=gcd(a,b)\n",
    "print(\"GCD is: \")\n",
    "print(GCD)"
   ]
  },
  {
   "cell_type": "code",
   "execution_count": null,
   "id": "78759fca-cc33-44de-9dfd-0e2f7718fd90",
   "metadata": {},
   "outputs": [],
   "source": []
  }
 ],
 "metadata": {
  "kernelspec": {
   "display_name": "Python 3 (ipykernel)",
   "language": "python",
   "name": "python3"
  },
  "language_info": {
   "codemirror_mode": {
    "name": "ipython",
    "version": 3
   },
   "file_extension": ".py",
   "mimetype": "text/x-python",
   "name": "python",
   "nbconvert_exporter": "python",
   "pygments_lexer": "ipython3",
   "version": "3.11.4"
  }
 },
 "nbformat": 4,
 "nbformat_minor": 5
}
