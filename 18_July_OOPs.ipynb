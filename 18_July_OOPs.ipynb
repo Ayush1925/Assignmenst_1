{
 "cells": [
  {
   "cell_type": "markdown",
   "id": "264272dc",
   "metadata": {},
   "source": [
    "# 1. What is the primary goal of Object-Oriented Programming (OOP)?"
   ]
  },
  {
   "cell_type": "markdown",
   "id": "352150d8",
   "metadata": {},
   "source": [
    "To hold entire data into a single object such that it would be easy to pass this to other methods and objects."
   ]
  },
  {
   "cell_type": "markdown",
   "id": "ccba3b56",
   "metadata": {},
   "source": [
    "# 2. What is an object in Python?"
   ]
  },
  {
   "cell_type": "markdown",
   "id": "30fb46bc",
   "metadata": {},
   "source": [
    "An Object is an instance of a Class. A class is like a blueprint while an instance is a copy of the class with actual values. Python is an object-oriented programming language that stresses objects i.e. it mainly emphasizes functions"
   ]
  },
  {
   "cell_type": "markdown",
   "id": "fea2fe9c",
   "metadata": {},
   "source": [
    "Example:"
   ]
  },
  {
   "cell_type": "code",
   "execution_count": 566,
   "id": "17e38db9",
   "metadata": {},
   "outputs": [],
   "source": [
    "class Person:\n",
    "    def __init__(self,name):\n",
    "        self.name = name\n",
    "        print(self.name)"
   ]
  },
  {
   "cell_type": "code",
   "execution_count": 567,
   "id": "0895b070",
   "metadata": {},
   "outputs": [
    {
     "name": "stdout",
     "output_type": "stream",
     "text": [
      "Ayush\n"
     ]
    }
   ],
   "source": [
    "Person1 = Person(\"Ayush\") #creating an OBJECT"
   ]
  },
  {
   "cell_type": "markdown",
   "id": "f11d37fe",
   "metadata": {},
   "source": [
    "# 3. What is a class in Python?"
   ]
  },
  {
   "cell_type": "markdown",
   "id": "40116ea1",
   "metadata": {},
   "source": [
    "A class is a user-defined blueprint or prototype from which objects are created. Classes provide a means of bundling data and functionality together. Creating a new class creates a new type of object, allowing new instances of that type to be made"
   ]
  },
  {
   "cell_type": "markdown",
   "id": "a2b06511",
   "metadata": {},
   "source": [
    "Example:"
   ]
  },
  {
   "cell_type": "code",
   "execution_count": 588,
   "id": "fdbbc8c4",
   "metadata": {},
   "outputs": [],
   "source": [
    "class Person: #class name\n",
    "    def __init__(self,name): #class constructor\n",
    "        self.name = name\n",
    "    def Show(self):\n",
    "        print(f\"{self.name}\")"
   ]
  },
  {
   "cell_type": "code",
   "execution_count": 589,
   "id": "9ddff6b0",
   "metadata": {},
   "outputs": [],
   "source": [
    "Person1 = Person(\"Ayush\")"
   ]
  },
  {
   "cell_type": "markdown",
   "id": "943c60f7",
   "metadata": {},
   "source": [
    "# 4. What are attributes and methods in a class?"
   ]
  },
  {
   "cell_type": "markdown",
   "id": "122985d5",
   "metadata": {},
   "source": [
    "Any variable that is bound in a class is a class attribute . Any function defined within a class is a method . Methods receive an instance of the class, conventionally called self , as the first argument."
   ]
  },
  {
   "cell_type": "markdown",
   "id": "7d68aa9a",
   "metadata": {},
   "source": [
    "Example:"
   ]
  },
  {
   "cell_type": "code",
   "execution_count": 592,
   "id": "3b00d49e",
   "metadata": {},
   "outputs": [],
   "source": [
    "class Person: #class name\n",
    "    Count = 1 #class attribute\n",
    "    def __init__(self,name): #class constructor\n",
    "        self.name = name     #instance attributes\n",
    "    def Show(self):          #creating method\n",
    "        print(f\"{self.name}\")"
   ]
  },
  {
   "cell_type": "code",
   "execution_count": 587,
   "id": "5ae8decb",
   "metadata": {},
   "outputs": [
    {
     "name": "stdout",
     "output_type": "stream",
     "text": [
      "Ayush\n"
     ]
    }
   ],
   "source": [
    "Person1 = Person(\"Ayush\")\n",
    "Person1.Show()"
   ]
  },
  {
   "cell_type": "markdown",
   "id": "4aa25493",
   "metadata": {},
   "source": [
    "# 5. What is the difference between class variables and instance variables in Python?"
   ]
  },
  {
   "cell_type": "markdown",
   "id": "c8bfe4e9",
   "metadata": {},
   "source": [
    "Class variables are useful for storing data that is shared among all instances of a class, such as constants or default values. Instance variables are used to store data that is unique to each instance of a class, such as object properties."
   ]
  },
  {
   "cell_type": "markdown",
   "id": "a793a13b",
   "metadata": {},
   "source": [
    "# 6. What is the purpose of the self parameter in Python class methods?"
   ]
  },
  {
   "cell_type": "markdown",
   "id": "1b2b8aa4",
   "metadata": {},
   "source": [
    "SELF represents the instance of class. This handy keyword allows you to access variables, attributes, and methods of a defined class in Python. The self parameter doesn't have to be named “self,” as you can call it by any other name."
   ]
  },
  {
   "cell_type": "markdown",
   "id": "693e1a3b",
   "metadata": {},
   "source": [
    "# 7. For a library management system, you have to design the \"Book\" class with OOP\n",
    "principles in mind. The “Book” class will have following attributes:\n",
    "a. title: Represents the title of the book.\n",
    "b. author: Represents the author(s) of the book.\n",
    "c. isbn: Represents the ISBN (International Standard Book Number) of the book.\n",
    "d. publication_year: Represents the year of publication of the book.\n",
    "e. available_copies: Represents the number of copies available for checkout.\n",
    "The class will also include the following methods:\n",
    "a. check_out(self): Decrements the available copies by one if there are copies\n",
    "available for checkout.\n",
    "b. return_book(self): Increments the available copies by one when a book is\n",
    "returned.\n",
    "c. display_book_info(self): Displays the information about the book, including its\n",
    "attributes and the number of available copies."
   ]
  },
  {
   "cell_type": "code",
   "execution_count": 547,
   "id": "02e04470",
   "metadata": {},
   "outputs": [],
   "source": [
    "class Book:\n",
    "    def __init__(self,author,isbn,publication_year,available_copies=0):\n",
    "        self.author = author\n",
    "        self.isbn = isbn\n",
    "        self.publication_year = publication_year\n",
    "        self.available_copies = available_copies\n",
    "    \n",
    "    def check_out(self,Number):\n",
    "        self.Number = Number\n",
    "        if self.available_copies >= self.Number:\n",
    "            print(f\"Available For Check Out\")\n",
    "            self.available_copies = self.available_copies - self.Number\n",
    "            print('Remaining Copies  =',self.available_copies)\n",
    "        else:\n",
    "                print(f\"Not Available For Check Out\")\n",
    "   \n",
    "    def return_book(self,Number):\n",
    "        self.Number = Number\n",
    "        self.available_copies = self.available_copies + self.Number\n",
    "        print(f\"{self.available_copies}\")\n",
    "    \n",
    "    def display_book_info(self):\n",
    "        print(f\"Author Name : {self.author}, ISBN : {self.isbn} , Publication Year : {self.publication_year} , Available_copies : {self.available_copies}\")"
   ]
  },
  {
   "cell_type": "code",
   "execution_count": 548,
   "id": "19145a93",
   "metadata": {},
   "outputs": [],
   "source": [
    "Book = Book('A','B','c',20)"
   ]
  },
  {
   "cell_type": "code",
   "execution_count": 549,
   "id": "dc35e072",
   "metadata": {},
   "outputs": [
    {
     "name": "stdout",
     "output_type": "stream",
     "text": [
      "Available For Check Out\n",
      "Remaining Copies  = 1\n"
     ]
    }
   ],
   "source": [
    "Book.check_out(19)"
   ]
  },
  {
   "cell_type": "code",
   "execution_count": 550,
   "id": "63ccaa3d",
   "metadata": {},
   "outputs": [
    {
     "name": "stdout",
     "output_type": "stream",
     "text": [
      "6\n"
     ]
    }
   ],
   "source": [
    "Book.return_book(5)"
   ]
  },
  {
   "cell_type": "code",
   "execution_count": 551,
   "id": "524ee2dc",
   "metadata": {},
   "outputs": [
    {
     "name": "stdout",
     "output_type": "stream",
     "text": [
      "Author Name : A, ISBN : B , Publication Year : c , Available_copies : 6\n"
     ]
    }
   ],
   "source": [
    "Book.display_book_info()"
   ]
  },
  {
   "cell_type": "code",
   "execution_count": null,
   "id": "8689ee8b",
   "metadata": {},
   "outputs": [],
   "source": []
  },
  {
   "cell_type": "markdown",
   "id": "d1f5858e",
   "metadata": {},
   "source": [
    "# 8. For a ticket booking system, you have to design the \"Ticket\" class with OOP\n",
    "principles in mind. The “Ticket” class should have the following attributes:\n",
    "a. ticket_id: Represents the unique identifier for the ticket.\n",
    "b. event_name: Represents the name of the event.\n",
    "c. event_date: Represents the date of the event.\n",
    "d. venue: Represents the venue of the event.\n",
    "e. seat_number: Represents the seat number associated with the ticket.\n",
    "f. price: Represents the price of the ticket.\n",
    "g. is_reserved: Represents the reservation status of the ticket.\n",
    "The class also includes the following methods:\n",
    "a. reserve_ticket(self): Marks the ticket as reserved if it is not already reserved.\n",
    "b. cancel_reservation(self): Cancels the reservation of the ticket if it is already\n",
    "reserved.\n",
    "c. display_ticket_info(self): Displays the information about the ticket, including its\n",
    "attributes and reservation status."
   ]
  },
  {
   "cell_type": "code",
   "execution_count": 552,
   "id": "e850dd66",
   "metadata": {},
   "outputs": [],
   "source": [
    "class Ticket:\n",
    "    def __init__(self,ticket_id,event_name,event_date,venue,seat_number,price,is_reserved=0):\n",
    "        self.ticket_id = ticket_id\n",
    "        self.event_name = event_name\n",
    "        self.event_date = event_date\n",
    "        self.venue = venue\n",
    "        self.seat_number = seat_number\n",
    "        self.price = price\n",
    "        self.is_reserved = is_reserved\n",
    "        \n",
    "        self.Ticket_list = []\n",
    "        self.Ticket_list.append(ticket_id)\n",
    "    \n",
    "   \n",
    "    \n",
    "    def reserve_ticket(self,number):\n",
    "        \n",
    "        self.number = number\n",
    "        if number in self.Ticket_list:\n",
    "            print('Ticket is Already Reserved')\n",
    "        \n",
    "        else:\n",
    "            self.Ticket_list.append(number)\n",
    "            print('Ticket Reserved')\n",
    "            \n",
    "            self.is_reserved = 'Reserved'\n",
    "    \n",
    "    def cancel_reservation(self,number):\n",
    "        \n",
    "        self.number = number\n",
    "        if number in self.Ticket_list:\n",
    "            self.Ticket_list.remove(number)\n",
    "            self.is_reserved = 'Cancelled'\n",
    "            print('Ticket Cancelled')\n",
    "        else:\n",
    "            print('Not Reserved')\n",
    "    \n",
    "    def display_ticket_info(self):\n",
    "        print(f\"Ticket Id : {self.ticket_id}, Event Name : {self.event_name}, Event Date : {self.event_date}, Event Venue : {self.venue}, Seat Number : {self.seat_number}, Price : {self.price}\")\n",
    "        \n",
    "        print(f\"Ticket Status : {self.is_reserved}\")\n",
    "        "
   ]
  },
  {
   "cell_type": "code",
   "execution_count": 553,
   "id": "13998558",
   "metadata": {},
   "outputs": [],
   "source": [
    "Ticket = Ticket('1234t','Ayush','02/10/2023','Delhi','65J','25000','Reserved')"
   ]
  },
  {
   "cell_type": "code",
   "execution_count": 554,
   "id": "2d68cff7",
   "metadata": {},
   "outputs": [
    {
     "name": "stdout",
     "output_type": "stream",
     "text": [
      "Ticket is Already Reserved\n"
     ]
    }
   ],
   "source": [
    "Ticket.reserve_ticket('1234t')"
   ]
  },
  {
   "cell_type": "code",
   "execution_count": 555,
   "id": "dfc6fefb",
   "metadata": {},
   "outputs": [
    {
     "name": "stdout",
     "output_type": "stream",
     "text": [
      "Ticket Cancelled\n"
     ]
    }
   ],
   "source": [
    "Ticket.cancel_reservation('1234t')"
   ]
  },
  {
   "cell_type": "code",
   "execution_count": 556,
   "id": "cde5a8fa",
   "metadata": {},
   "outputs": [
    {
     "name": "stdout",
     "output_type": "stream",
     "text": [
      "Ticket Id : 1234t, Event Name : Ayush, Event Date : 02/10/2023, Event Venue : Delhi, Seat Number : 65J, Price : 25000\n",
      "Ticket Status : Cancelled\n"
     ]
    }
   ],
   "source": [
    "Ticket.display_ticket_info()"
   ]
  },
  {
   "cell_type": "code",
   "execution_count": null,
   "id": "6a34cd00",
   "metadata": {},
   "outputs": [],
   "source": []
  },
  {
   "cell_type": "markdown",
   "id": "0704cb2e",
   "metadata": {},
   "source": [
    "# 9. You are creating a shopping cart for an e-commerce website. Using OOP to model\n",
    "the \"ShoppingCart\" functionality the class should contain following attributes and\n",
    "methods:\n",
    "a. items: Represents the list of items in the shopping cart.\n",
    "The class also includes the following methods:\n",
    "\n",
    "a. add_item(self, item): Adds an item to the shopping cart by appending it to the\n",
    "list of items.\n",
    "b. remove_item(self, item): Removes an item from the shopping cart if it exists in\n",
    "the list.\n",
    "c. view_cart(self): Displays the items currently present in the shopping cart.\n",
    "d. clear_cart(self): Clears all items from the shopping cart by reassigning an\n",
    "empty list to the items attribute."
   ]
  },
  {
   "cell_type": "code",
   "execution_count": 557,
   "id": "304cc8dc",
   "metadata": {},
   "outputs": [],
   "source": [
    "class ShoppingCart:\n",
    "    def __init__(self,items):\n",
    "        self.items = items\n",
    "        self.Listofitems = []\n",
    "        self.Listofitems.append(items)\n",
    "    def add_item(self,item):\n",
    "        self.item = item\n",
    "        if item in self.Listofitems:\n",
    "            print('Item is already available in the Cart')\n",
    "        else:\n",
    "            self.Listofitems.append(item)\n",
    "    def remove_item(self,item):\n",
    "        self.item = item\n",
    "        if item in self.Listofitems:\n",
    "            self.Listofitems.remove(item)\n",
    "        else:\n",
    "            print('Item not listed in the Cart')\n",
    "    def view_cart(self):\n",
    "        print(f\"Items in the Cart are : {self.Listofitems}\")\n",
    "    \n",
    "    def clear_cart(self):\n",
    "        self.Listofitems.clear()\n",
    "        print(f\"{self.Listofitems}\")"
   ]
  },
  {
   "cell_type": "code",
   "execution_count": 558,
   "id": "264d54e8",
   "metadata": {},
   "outputs": [],
   "source": [
    "ShoppingCart = ShoppingCart('Bag')"
   ]
  },
  {
   "cell_type": "code",
   "execution_count": 559,
   "id": "e1462e40",
   "metadata": {},
   "outputs": [
    {
     "name": "stdout",
     "output_type": "stream",
     "text": [
      "Items in the Cart are : ['Bag', 'Pen']\n"
     ]
    }
   ],
   "source": [
    "ShoppingCart.add_item('Pen')\n",
    "ShoppingCart.view_cart()"
   ]
  },
  {
   "cell_type": "code",
   "execution_count": 560,
   "id": "d6d9ec85",
   "metadata": {},
   "outputs": [
    {
     "name": "stdout",
     "output_type": "stream",
     "text": [
      "Items in the Cart are : ['Pen']\n"
     ]
    }
   ],
   "source": [
    "ShoppingCart.remove_item('Bag')\n",
    "ShoppingCart.view_cart()"
   ]
  },
  {
   "cell_type": "code",
   "execution_count": 561,
   "id": "5ea92c09",
   "metadata": {},
   "outputs": [
    {
     "name": "stdout",
     "output_type": "stream",
     "text": [
      "[]\n"
     ]
    }
   ],
   "source": [
    "ShoppingCart.clear_cart()"
   ]
  },
  {
   "cell_type": "code",
   "execution_count": null,
   "id": "3db70301",
   "metadata": {},
   "outputs": [],
   "source": []
  },
  {
   "cell_type": "markdown",
   "id": "3d97babe",
   "metadata": {},
   "source": [
    "# 10. Imagine a school management system. You have to design the \"Student\" class using\n",
    "OOP concepts.The “Student” class has the following attributes:\n",
    "a. name: Represents the name of the student.\n",
    "b. age: Represents the age of the student.\n",
    "c. grade: Represents the grade or class of the student.\n",
    "d. student_id: Represents the unique identifier for the student.\n",
    "e. attendance: Represents the attendance record of the student.\n",
    "The class should also include the following methods:\n",
    "a. update_attendance(self, date, status): Updates the attendance record of the\n",
    "student for a given date with the provided status (e.g., present or absent).\n",
    "b. get_attendance(self): Returns the attendance record of the student.\n",
    "c. get_average_attendance(self): Calculates and returns the average\n",
    "attendance percentage of the student based on their attendance record."
   ]
  },
  {
   "cell_type": "code",
   "execution_count": 530,
   "id": "31a9d62b",
   "metadata": {},
   "outputs": [],
   "source": [
    "class Student:\n",
    "    def __init__(self,name,age,grade,student_id):\n",
    "        self.name = name\n",
    "        self.age = age\n",
    "        self.grade = grade\n",
    "        self.student_id = student_id\n",
    "        self.attendance = {}\n",
    "    def update_attendance(self,date,status):\n",
    "        self.attendance[date] = status\n",
    "    def get_attendance(self):\n",
    "        return self.attendance\n",
    "    \n",
    "    def average_attendance(self):\n",
    "        total_days = len(self.attendance)\n",
    "        present_days = sum(status == 'Present' for status in self.attendance.values())\n",
    "        attendance_percentage = (present_days/total_days)*100\n",
    "        return attendance_percentage"
   ]
  },
  {
   "cell_type": "code",
   "execution_count": null,
   "id": "017e2c74",
   "metadata": {},
   "outputs": [],
   "source": []
  },
  {
   "cell_type": "code",
   "execution_count": 531,
   "id": "bbd2830b",
   "metadata": {},
   "outputs": [],
   "source": [
    "Student1 = Student('CDC','25','A',139)\n",
    "Student1.update_attendance('01/2/03','Absent')\n",
    "Student1.update_attendance('02/02/03','Present')\n",
    "Student1.update_attendance('03/02/03','Present')\n",
    "Student1.update_attendance('04/02/03','Present')\n",
    "Student1.update_attendance('05/02/03','Present')\n",
    "Student1.update_attendance('06/02/03','Absent')"
   ]
  },
  {
   "cell_type": "code",
   "execution_count": 532,
   "id": "1f965b8c",
   "metadata": {},
   "outputs": [
    {
     "name": "stdout",
     "output_type": "stream",
     "text": [
      "{'01/2/03': 'Absent', '02/02/03': 'Present', '03/02/03': 'Present', '04/02/03': 'Present', '05/02/03': 'Present', '06/02/03': 'Absent'}\n"
     ]
    }
   ],
   "source": [
    "Record = Student1.get_attendance()\n",
    "print(Record)"
   ]
  },
  {
   "cell_type": "code",
   "execution_count": 533,
   "id": "9597d45f",
   "metadata": {},
   "outputs": [
    {
     "data": {
      "text/plain": [
       "66.66666666666666"
      ]
     },
     "execution_count": 533,
     "metadata": {},
     "output_type": "execute_result"
    }
   ],
   "source": [
    "Student1.average_attendance()"
   ]
  },
  {
   "cell_type": "code",
   "execution_count": null,
   "id": "d23908af",
   "metadata": {},
   "outputs": [],
   "source": []
  },
  {
   "cell_type": "code",
   "execution_count": null,
   "id": "f69da9be",
   "metadata": {},
   "outputs": [],
   "source": []
  }
 ],
 "metadata": {
  "kernelspec": {
   "display_name": "Python 3 (ipykernel)",
   "language": "python",
   "name": "python3"
  },
  "language_info": {
   "codemirror_mode": {
    "name": "ipython",
    "version": 3
   },
   "file_extension": ".py",
   "mimetype": "text/x-python",
   "name": "python",
   "nbconvert_exporter": "python",
   "pygments_lexer": "ipython3",
   "version": "3.11.3"
  }
 },
 "nbformat": 4,
 "nbformat_minor": 5
}
