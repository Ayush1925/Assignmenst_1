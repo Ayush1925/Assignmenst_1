{
 "cells": [
  {
   "cell_type": "markdown",
   "id": "fcecfc69-b330-452e-86ec-ce58623d49b1",
   "metadata": {},
   "source": [
    "## 1. What is the role of try and exception block?"
   ]
  },
  {
   "cell_type": "raw",
   "id": "d840bc5a-94ea-48b8-be4f-9eb1f34be4f3",
   "metadata": {},
   "source": [
    "try block: The code within the try block contains the statements that may potentially raise an exception. It allows you to specify the section of code that you want to monitor for exceptions.\n",
    "\n",
    "except block: If an exception occurs within the try block, the corresponding except block(s) are executed. The except block allows you to define the actions or code that should be executed when a specific exception is raised. You can have multiple except blocks to handle different types of exceptions.\n",
    "\n",
    "The else block allows you run code without errors.\n",
    "The finally block executes code regardless of the try-and-except blocks.\n",
    "Use the raise keyword to throw (or raise) an exception."
   ]
  },
  {
   "cell_type": "raw",
   "id": "ce809e7c-863b-4685-88b6-f64a394cfa8b",
   "metadata": {},
   "source": [
    "Example:"
   ]
  },
  {
   "cell_type": "code",
   "execution_count": 1,
   "id": "bb59f954-4330-4d38-88a8-b9a2faa2563d",
   "metadata": {},
   "outputs": [
    {
     "name": "stdout",
     "output_type": "stream",
     "text": [
      "x value is not defined\n"
     ]
    }
   ],
   "source": [
    "try:\n",
    "    print(x)\n",
    "except:\n",
    "    print(\"x value is not defined\")"
   ]
  },
  {
   "cell_type": "code",
   "execution_count": null,
   "id": "cfa0d53b-adfa-4397-8c75-48d584d85c26",
   "metadata": {},
   "outputs": [],
   "source": []
  },
  {
   "cell_type": "markdown",
   "id": "d5aff076-7433-46dc-8a1f-7ba0efbf08bd",
   "metadata": {},
   "source": [
    "## 2. What is the syntax for a basic try-except block?"
   ]
  },
  {
   "cell_type": "raw",
   "id": "1b2528cc-899e-43c1-9a39-cc7a150a8acc",
   "metadata": {},
   "source": [
    "First, the try clause is executed i.e. the code between try. If there is no exception, then only the try clause will run, except clause is finished. If any exception occurs, the try clause will be skipped and except clause will run."
   ]
  },
  {
   "cell_type": "code",
   "execution_count": 3,
   "id": "8876ecca-4172-4e50-8c76-30bdae1c8193",
   "metadata": {},
   "outputs": [
    {
     "name": "stdout",
     "output_type": "stream",
     "text": [
      "y value is not defined\n"
     ]
    }
   ],
   "source": [
    "try:\n",
    "    print(y) # exception found here, y value is not defined\n",
    "except:      # except block will run now\n",
    "    print(\"y value is not defined\")"
   ]
  },
  {
   "cell_type": "code",
   "execution_count": 4,
   "id": "6f1de72c-8106-4a45-8eec-c36b6dc3e4d4",
   "metadata": {},
   "outputs": [
    {
     "name": "stdout",
     "output_type": "stream",
     "text": [
      "10\n"
     ]
    }
   ],
   "source": [
    "try:\n",
    "    y = 10\n",
    "    print(y) # no exception found, try block will run\n",
    "except:\n",
    "    print(\"y value is not defined\")"
   ]
  },
  {
   "cell_type": "code",
   "execution_count": null,
   "id": "0da3c306-2920-44da-a2de-51b6a38de1ab",
   "metadata": {},
   "outputs": [],
   "source": []
  },
  {
   "cell_type": "markdown",
   "id": "b039bba0-585f-4703-84c5-ab0d621bd39c",
   "metadata": {},
   "source": [
    "## 3. What happens if an exception occurs inside a try block and there is no matching except block?"
   ]
  },
  {
   "cell_type": "raw",
   "id": "322daab1-edb0-4130-b7d7-ae3900ca1eb3",
   "metadata": {},
   "source": [
    "A 'try' block must be accompanied by either an 'except' or 'finally' block. An empty except block with a pass statement can be used if no specific exception needs to be caught, but this is generally discouraged as it may hide important exceptions for debugging purposes ."
   ]
  },
  {
   "cell_type": "code",
   "execution_count": null,
   "id": "4852d183-f612-4cb5-ba58-a34e10af785c",
   "metadata": {},
   "outputs": [],
   "source": []
  },
  {
   "cell_type": "markdown",
   "id": "dece5609-7aa8-42a3-85f3-3d26f4cfd0e1",
   "metadata": {},
   "source": [
    "## 4. What is the difference between using a bare except block and specifying a specific exception type?"
   ]
  },
  {
   "cell_type": "raw",
   "id": "63a3631f-d56a-40e3-a2bd-c240e6a4cbe2",
   "metadata": {},
   "source": [
    "A bare except: clause will catch SystemExit and KeyboardInterrupt exceptions, making it harder to interrupt a program with Control-C, and can disguise other problems. If you want to catch all exceptions that signal program errors, use except Exception: (bare except is equivalent to except BaseException:)."
   ]
  },
  {
   "cell_type": "raw",
   "id": "651dc382-25b1-4539-81f5-138de4d392f5",
   "metadata": {},
   "source": [
    "Consider the following code. If the user were to try exiting the program, the keyboard interrupt would be caught by the except clause. This would be undesirable, as it prevents the user from actually exiting the program until they provide valid input."
   ]
  },
  {
   "cell_type": "code",
   "execution_count": null,
   "id": "02ef8964-27aa-43d2-8043-31dc182ce81e",
   "metadata": {},
   "outputs": [
    {
     "name": "stdin",
     "output_type": "stream",
     "text": [
      "Input a number: 3\n",
      "Input a number: 3\n",
      "Input a number: 4\n",
      "Input a number: r\n"
     ]
    },
    {
     "name": "stdout",
     "output_type": "stream",
     "text": [
      "Not a number, try again!\n"
     ]
    }
   ],
   "source": [
    "while True:\n",
    "  try:\n",
    "    s = input('Input a number:')\n",
    "    x = int(s)\n",
    "  except:\n",
    "    print('Not a number, try again!')"
   ]
  },
  {
   "cell_type": "raw",
   "id": "73a8fd53-9351-44d4-ac97-281184c1016c",
   "metadata": {},
   "source": [
    "A way to prevent this would be to use Exception which will ensure that the user will not be trapped. The only problem with this approach is that Exception is generic and will handle pretty much anything thrown at it."
   ]
  },
  {
   "cell_type": "raw",
   "id": "8be3a896-3f90-444f-8dcd-03dba0e13e46",
   "metadata": {},
   "source": [
    "A way to prevent this issue is below:"
   ]
  },
  {
   "cell_type": "code",
   "execution_count": 2,
   "id": "af1ae92c-d53f-4921-9911-88c91d7da40e",
   "metadata": {},
   "outputs": [
    {
     "name": "stdin",
     "output_type": "stream",
     "text": [
      "Input a number: 3\n",
      "Input a number: q\n"
     ]
    },
    {
     "name": "stdout",
     "output_type": "stream",
     "text": [
      "Not a number, try again!\n"
     ]
    }
   ],
   "source": [
    "while True:\n",
    "    try:\n",
    "        s = input('Input a number:')\n",
    "        x = int(s)\n",
    "    except ValueError:\n",
    "        print('Not a number, try again!')\n",
    "        if s.lower() == 'exit' or s.lower() == 'q':\n",
    "            break  # Exit the loop if the user inputs 'exit' or 'q'"
   ]
  },
  {
   "cell_type": "code",
   "execution_count": null,
   "id": "baa8c912-3219-4843-8e86-239fb1723ce7",
   "metadata": {},
   "outputs": [],
   "source": []
  },
  {
   "cell_type": "markdown",
   "id": "6e3e0b90-32e1-48ee-ac3e-0fe277dac83b",
   "metadata": {},
   "source": [
    "## 5. Can you have nested try-except blocks in Python? If yes, then give an example."
   ]
  },
  {
   "cell_type": "raw",
   "id": "884c7a6e-c00e-4201-9891-c0540c3a8e83",
   "metadata": {},
   "source": [
    "We can have nested try-except blocks in Python. In this case, if an exception is raised in the nested try block, the nested except block is used to handle it. In case the nested except is not able to handle it, the outer except blocks are used to handle the exception."
   ]
  },
  {
   "cell_type": "code",
   "execution_count": null,
   "id": "45d87831-d730-40d6-bb94-e4a2ff7d3809",
   "metadata": {},
   "outputs": [],
   "source": []
  },
  {
   "cell_type": "code",
   "execution_count": 32,
   "id": "6ffed388-5270-4c3f-9e5b-5bb931ad4f50",
   "metadata": {},
   "outputs": [
    {
     "name": "stdin",
     "output_type": "stream",
     "text": [
      "Enter A Value 5\n"
     ]
    },
    {
     "name": "stdout",
     "output_type": "stream",
     "text": [
      "25\n",
      "20.0\n"
     ]
    }
   ],
   "source": [
    "try:\n",
    "    a = int(input(\"Enter A Value\"))\n",
    "    y = a * a\n",
    "    print(y)\n",
    "    try:\n",
    "       z = 100/a \n",
    "       print(z)\n",
    "    except ZeroDivisionError as e:\n",
    "        print(e)\n",
    "except:\n",
    "    pass"
   ]
  },
  {
   "cell_type": "code",
   "execution_count": null,
   "id": "2be87201-bd8d-4ea0-b2da-a12220b9db64",
   "metadata": {},
   "outputs": [],
   "source": []
  },
  {
   "cell_type": "markdown",
   "id": "fcfee36b-33cc-46d2-91b3-1a5e656eb262",
   "metadata": {},
   "source": [
    "## 6. Can we use multiple exception blocks, if yes then give an example."
   ]
  },
  {
   "cell_type": "raw",
   "id": "84611814-75cf-47f3-9a0f-6316d71259ba",
   "metadata": {},
   "source": [
    "By handling multiple exceptions, a program can respond to different exceptions without terminating it. In Python, try-except blocks can be used to catch and respond to one or multiple exceptions. In cases where a process raises more than one possible exception, they can all be handled using a single except clause."
   ]
  },
  {
   "cell_type": "code",
   "execution_count": 15,
   "id": "a5b4bcd3-1446-4786-96db-ab1f4c5b25a5",
   "metadata": {},
   "outputs": [
    {
     "name": "stdin",
     "output_type": "stream",
     "text": [
      "Enter First value 10\n",
      "Enter Second value 5\n"
     ]
    },
    {
     "name": "stdout",
     "output_type": "stream",
     "text": [
      "2.0\n"
     ]
    }
   ],
   "source": [
    "try:\n",
    "    a = int(input(\"Enter First value\"))\n",
    "    b = int(input(\"Enter Second value\"))\n",
    "    c = a/b\n",
    "    print(c)\n",
    "except ZeroDivisionError as e:\n",
    "    print(e)\n",
    "except TypeError as e:\n",
    "    print(e)\n",
    "except ValueError as e:\n",
    "    print(e)"
   ]
  },
  {
   "cell_type": "code",
   "execution_count": 16,
   "id": "054a4441-8f00-417c-9462-625a05c3be58",
   "metadata": {},
   "outputs": [
    {
     "name": "stdin",
     "output_type": "stream",
     "text": [
      "Enter First value r\n"
     ]
    },
    {
     "name": "stdout",
     "output_type": "stream",
     "text": [
      "invalid literal for int() with base 10: 'r'\n"
     ]
    }
   ],
   "source": [
    "try:\n",
    "    a = int(input(\"Enter First value\"))\n",
    "    b = int(input(\"Enter Second value\"))\n",
    "    c = a/b\n",
    "    print(c)\n",
    "except ZeroDivisionError as e:\n",
    "    print(e)\n",
    "except TypeError as e:\n",
    "    print(e)\n",
    "except ValueError as e:\n",
    "    print(e)"
   ]
  },
  {
   "cell_type": "code",
   "execution_count": 17,
   "id": "6beb8871-b921-4fe4-98b5-0e0e670ed6ba",
   "metadata": {},
   "outputs": [
    {
     "name": "stdin",
     "output_type": "stream",
     "text": [
      "Enter First value 10\n",
      "Enter Second value 0\n"
     ]
    },
    {
     "name": "stdout",
     "output_type": "stream",
     "text": [
      "division by zero\n"
     ]
    }
   ],
   "source": [
    "try:\n",
    "    a = int(input(\"Enter First value\"))\n",
    "    b = int(input(\"Enter Second value\"))\n",
    "    c = a/b\n",
    "    print(c)\n",
    "except ZeroDivisionError as e:\n",
    "    print(e)\n",
    "except TypeError as e:\n",
    "    print(e)\n",
    "except ValueError as e:\n",
    "    print(e)"
   ]
  },
  {
   "cell_type": "code",
   "execution_count": null,
   "id": "4ca4255c-2539-4d2a-86a5-90f4c23f5e72",
   "metadata": {},
   "outputs": [],
   "source": []
  },
  {
   "cell_type": "markdown",
   "id": "8f0fc710-8b83-4974-bf40-19db26112214",
   "metadata": {},
   "source": [
    "## 7. Write the reason due to which following errors are raised:"
   ]
  },
  {
   "cell_type": "raw",
   "id": "5f968d3e-dfcc-403e-80bc-358dcb03d7d3",
   "metadata": {},
   "source": [
    "a. EOFError\n",
    "b. FloatingPointError\n",
    "c. IndexError\n",
    "d. MemoryError\n",
    "e. OverflowError\n",
    "f. TabError\n",
    "g. ValueError"
   ]
  },
  {
   "cell_type": "raw",
   "id": "2f2ef752-d1ca-48d6-9c03-cedd7e208d25",
   "metadata": {},
   "source": [
    "Answer:"
   ]
  },
  {
   "cell_type": "raw",
   "id": "603a7262-26a2-45a8-a361-969d432aeb72",
   "metadata": {},
   "source": [
    "a. EOFError\n",
    "   EOFError: Raised when the input() function hits an end-of-file condition (EOF).\n",
    "\n",
    "b. FloatingPointError\n",
    "   FloatingPointError: Raised when a floating point operation fails.\n",
    "\n",
    "c. IndexError\n",
    "   IndexError: Raised when a sequence subscript (index) is out of range.\n",
    "\n",
    "d. MemoryError\n",
    "   MemoryError: Raised when an operation runs out of memory.\n",
    "\n",
    "e. OverflowError\n",
    "   OverflowError: Raised when the result of an arithmetic operation is too large to be expressed.\n",
    "\n",
    "f. TabError\n",
    "   TabError: Raised when indentation contains mixed tabs and spaces.\n",
    "\n",
    "g. ValueError\n",
    "   ValueError: Raised when a built-in operation or function receives an argument that has the right type but an inappropriate value."
   ]
  },
  {
   "cell_type": "code",
   "execution_count": null,
   "id": "9ba19082-50b0-4041-a030-49ed8c56983c",
   "metadata": {},
   "outputs": [],
   "source": []
  },
  {
   "cell_type": "markdown",
   "id": "579f8da8-92f1-4631-87f4-dcbf964d0ea3",
   "metadata": {},
   "source": [
    "## 8. Write code for the following given scenario and add try-exception block to it."
   ]
  },
  {
   "cell_type": "raw",
   "id": "dbbd6b05-1e38-41dd-b24d-00dfc70ea5c5",
   "metadata": {},
   "source": [
    "a. Program to divide two numbers\n",
    "b. Program to convert a string to an integer\n",
    "c. Program to access an element in a list\n",
    "d. Program to handle a specific exception\n",
    "e. Program to handle any exception"
   ]
  },
  {
   "cell_type": "raw",
   "id": "c1b292c3-ec1a-49b1-950e-f9b918437f30",
   "metadata": {},
   "source": [
    "Answer:"
   ]
  },
  {
   "cell_type": "raw",
   "id": "cc7dff44-24e3-48d0-b019-1f8bfe462048",
   "metadata": {},
   "source": [
    "a. Program to divide two numbers"
   ]
  },
  {
   "cell_type": "code",
   "execution_count": 18,
   "id": "a94dcf8b-cb06-4624-bf7f-442895379ef8",
   "metadata": {},
   "outputs": [
    {
     "name": "stdin",
     "output_type": "stream",
     "text": [
      "First Number 2\n",
      "Seconf Number 0\n"
     ]
    },
    {
     "name": "stdout",
     "output_type": "stream",
     "text": [
      "division by zero\n"
     ]
    }
   ],
   "source": [
    "try:\n",
    "    x = int(input(\"First Number\"))\n",
    "    y = int(input(\"Seconf Number\"))\n",
    "    D = x / y\n",
    "except ZeroDivisionError as e:\n",
    "    print(e)"
   ]
  },
  {
   "cell_type": "code",
   "execution_count": null,
   "id": "b5e58366-00da-4e51-90f7-1c1426e51aa6",
   "metadata": {},
   "outputs": [],
   "source": []
  },
  {
   "cell_type": "raw",
   "id": "c4464252-f7fd-4ee2-8f07-213db1ebd462",
   "metadata": {},
   "source": [
    "b. Program to convert a string to an integer"
   ]
  },
  {
   "cell_type": "code",
   "execution_count": 46,
   "id": "94c5d3e9-4865-426b-b394-cad9f59fa4a1",
   "metadata": {},
   "outputs": [
    {
     "name": "stdin",
     "output_type": "stream",
     "text": [
      "Enter a value 5\n"
     ]
    },
    {
     "name": "stdout",
     "output_type": "stream",
     "text": [
      "Entered Value : 5 ,  Data Type of entered value : <class 'str'> \n",
      "Data Type After Converting : <class 'int'>\n"
     ]
    }
   ],
   "source": [
    "try:\n",
    "    x = str(input(\"Enter a value\"))\n",
    "    y = int(x)\n",
    "    print(\"Entered Value :\", x, \",  Data Type of entered value :\", type(x),\"\\n\" \"Data Type After Converting :\", type(y)) \n",
    "except ValueError as e:\n",
    "    print(e)"
   ]
  },
  {
   "cell_type": "code",
   "execution_count": null,
   "id": "677cbed2-59e0-40db-9ded-b1140bb45071",
   "metadata": {},
   "outputs": [],
   "source": []
  },
  {
   "cell_type": "raw",
   "id": "6c640a58-6d0e-4d39-94c1-8483f57c1642",
   "metadata": {},
   "source": [
    "c. Program to access an element in a list"
   ]
  },
  {
   "cell_type": "code",
   "execution_count": 61,
   "id": "f5f7eed5-79a4-40d8-8360-bbdbf79bde98",
   "metadata": {},
   "outputs": [
    {
     "name": "stdout",
     "output_type": "stream",
     "text": [
      "name 'r' is not defined\n"
     ]
    }
   ],
   "source": [
    "try:\n",
    "    list1 = [1,2,3,4]\n",
    "    i = r\n",
    "    if i in list1:\n",
    "        print(\"Element Present In The list1\")\n",
    "except NameError as e:\n",
    "    print(e)"
   ]
  },
  {
   "cell_type": "code",
   "execution_count": 62,
   "id": "b8d03c87-3db3-46fb-a6bf-093efb9ef1b9",
   "metadata": {},
   "outputs": [
    {
     "name": "stdout",
     "output_type": "stream",
     "text": [
      "Element Present In The list1\n"
     ]
    }
   ],
   "source": [
    "try:\n",
    "    list1 = [1,2,3,4]\n",
    "    i = 4\n",
    "    if i in list1:\n",
    "        print(\"Element Present In The list1\")\n",
    "except NameError as e:\n",
    "    print(e)"
   ]
  },
  {
   "cell_type": "code",
   "execution_count": null,
   "id": "313dec53-077d-4e04-89b1-4efdaec37280",
   "metadata": {},
   "outputs": [],
   "source": []
  },
  {
   "cell_type": "raw",
   "id": "d70543a1-75ab-4594-bf3c-a629df3410aa",
   "metadata": {},
   "source": [
    "d. Program to handle a specific exception"
   ]
  },
  {
   "cell_type": "code",
   "execution_count": 65,
   "id": "4b13b54a-20e2-4f11-91fc-8c48ad45906a",
   "metadata": {},
   "outputs": [
    {
     "name": "stdin",
     "output_type": "stream",
     "text": [
      "Enter any number r\n"
     ]
    },
    {
     "name": "stdout",
     "output_type": "stream",
     "text": [
      "invalid literal for int() with base 10: 'r'\n"
     ]
    }
   ],
   "source": [
    "# code with exception\n",
    "try:\n",
    "    x = int(input(\"Enter any number\"))\n",
    "    y = x*x\n",
    "    print(x,\"*\",x, \"is\", y)\n",
    "except ValueError as e:\n",
    "    print(e)"
   ]
  },
  {
   "cell_type": "code",
   "execution_count": 66,
   "id": "5d863cde-178b-4f2f-98fe-6da452488382",
   "metadata": {},
   "outputs": [
    {
     "name": "stdin",
     "output_type": "stream",
     "text": [
      "Enter any number 5\n"
     ]
    },
    {
     "name": "stdout",
     "output_type": "stream",
     "text": [
      "5 * 5 is 25\n"
     ]
    }
   ],
   "source": [
    "try:\n",
    "    x = int(input(\"Enter any number\"))\n",
    "    y = x*x\n",
    "    print(x,\"*\",x, \"is\", y)\n",
    "except ValueError as e:\n",
    "    print(e)"
   ]
  },
  {
   "cell_type": "code",
   "execution_count": null,
   "id": "fd1452d6-13c1-46b1-9516-42630b456ffe",
   "metadata": {},
   "outputs": [],
   "source": []
  },
  {
   "cell_type": "code",
   "execution_count": null,
   "id": "660029aa-3d5d-494e-b029-45f40de82abf",
   "metadata": {},
   "outputs": [],
   "source": []
  },
  {
   "cell_type": "code",
   "execution_count": null,
   "id": "e064aaf6-750f-46a9-9536-a7686fe28b4f",
   "metadata": {},
   "outputs": [],
   "source": []
  }
 ],
 "metadata": {
  "kernelspec": {
   "display_name": "Python 3 (ipykernel)",
   "language": "python",
   "name": "python3"
  },
  "language_info": {
   "codemirror_mode": {
    "name": "ipython",
    "version": 3
   },
   "file_extension": ".py",
   "mimetype": "text/x-python",
   "name": "python",
   "nbconvert_exporter": "python",
   "pygments_lexer": "ipython3",
   "version": "3.11.4"
  }
 },
 "nbformat": 4,
 "nbformat_minor": 5
}
