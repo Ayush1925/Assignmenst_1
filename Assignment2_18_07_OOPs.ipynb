{
 "cells": [
  {
   "cell_type": "markdown",
   "id": "592514e0",
   "metadata": {},
   "source": [
    "1. Explain what inheritance is in object-oriented programming and why it is used."
   ]
  },
  {
   "cell_type": "markdown",
   "id": "34015c57",
   "metadata": {},
   "source": [
    "In oject-oriented programming(OOP), inheritance is a mechanism that allows a class to inherit properties and behaviors from another class. It is fundamental concept in OOP that promotes code reuse and establishes relationships between classes.\n",
    "Inheritance is a feature or a process in which, new classes are created from the existing classes. The new class is called 'derived class' or 'child class' and existing class is knowd as the 'base class' or 'parent class'. The derived class now is said to be inherited from the base class."
   ]
  },
  {
   "cell_type": "code",
   "execution_count": null,
   "id": "b3f0a0c0",
   "metadata": {},
   "outputs": [],
   "source": []
  },
  {
   "cell_type": "markdown",
   "id": "d0dbac21",
   "metadata": {},
   "source": [
    "2. Discuss the concept of single inheritance and multiple inheritance, highlighting their\n",
    "differences and advantages."
   ]
  },
  {
   "cell_type": "markdown",
   "id": "4d2d4681",
   "metadata": {},
   "source": [
    "Single Inheritance is the most accessible from of Inheritance where a single child class is obtained from a single parent class. To its candid nature, it is also called Simple Inheritance.\n",
    "Single inheritance allows an obtained class to inherit properties from a single parent class, thus enabling code reusability and adding new features to existing code.\n",
    "\n",
    "Disadvantage of Single Inheritance: \n",
    "    Decreases the Execution Speed: loading mutliple classes because they are independent.\n",
    "    Tightly Coupled Classes : This means that even though parent classes can be executed independently, child classes cannot be executed without defining their parent classes.\n",
    "    \n",
    "Multiple Python Inheritance : A single-child class is inherited from two or more parent classes in multiple inheritances. 'The child can access all the parent classes' method and attributes.\n",
    "However, if two parents have similar 'named' methods, the child class executes the method of the first parent in order of reference. We can utilize the Method Resolution Order function to understand better which class's methods will be implemented first. It tells the order in which the child's class is taken to visit the other classes.\n",
    "\n",
    "Disadvantages of Multple Inheritance:\n",
    "    Complexity: Multiple inheritance can make code more complex and difficult to understand. With multiple parent classes, it       can be challenging to keep track of all the properties and methods that a child class has inherited, and this can lead to       errors and bugs."
   ]
  },
  {
   "cell_type": "code",
   "execution_count": null,
   "id": "ecf12fb2",
   "metadata": {},
   "outputs": [],
   "source": []
  },
  {
   "cell_type": "markdown",
   "id": "b800b208",
   "metadata": {},
   "source": [
    "3. Explain the terms \"base class\" and \"derived class\" in the context of inheritance."
   ]
  },
  {
   "cell_type": "markdown",
   "id": "e9d49fb2",
   "metadata": {},
   "source": [
    "It allows you to define a child class that reuses (inherits), extends, or modifies the behavior of a parent class. The class whose members are inherited is called the base class. The class that inherits the members of the base class is called the derived class"
   ]
  },
  {
   "cell_type": "markdown",
   "id": "191f85f5",
   "metadata": {},
   "source": [
    "Example:"
   ]
  },
  {
   "cell_type": "code",
   "execution_count": 249,
   "id": "d41ebe44",
   "metadata": {},
   "outputs": [],
   "source": [
    "class Person: #Base Class\n",
    "    def __init__(self,name):\n",
    "        self.name = name\n",
    "    def Show():\n",
    "        pass"
   ]
  },
  {
   "cell_type": "code",
   "execution_count": 250,
   "id": "3069321c",
   "metadata": {},
   "outputs": [],
   "source": [
    "class Book(Person): #Derived Class\n",
    "    def __init__(self,name,Year):\n",
    "        self.Year = Year\n",
    "        super().__init__(name)\n",
    "    def Show(self):\n",
    "        print(f\"Name : {self.name} , Year : {self.Year} \")"
   ]
  },
  {
   "cell_type": "code",
   "execution_count": 251,
   "id": "ac9512a1",
   "metadata": {},
   "outputs": [
    {
     "name": "stdout",
     "output_type": "stream",
     "text": [
      "Name : Kiddo , Year : 2000 \n"
     ]
    }
   ],
   "source": [
    "Book = Book(\"Kiddo\",2000)\n",
    "Book.Show()"
   ]
  },
  {
   "cell_type": "code",
   "execution_count": null,
   "id": "2dd35680",
   "metadata": {},
   "outputs": [],
   "source": []
  },
  {
   "cell_type": "markdown",
   "id": "e079ad7c",
   "metadata": {},
   "source": [
    "4. What is the significance of the \"protected\" access modifier in inheritance? How does\n",
    "it differ from \"private\" and \"public\" modifiers?"
   ]
  },
  {
   "cell_type": "markdown",
   "id": "4d87aa28",
   "metadata": {},
   "source": [
    "Public Acces Modifiers:\n",
    "\n",
    "By default the member variables and methods are public which means they can be accessed from anywhere outside or inside the class. No public keyword is required to make the class or methods and properties public.Here is an example of Public access modifier."
   ]
  },
  {
   "cell_type": "code",
   "execution_count": 252,
   "id": "9464b2e2",
   "metadata": {},
   "outputs": [],
   "source": [
    "class Person: #Base Class\n",
    "    def __init__(self,name):\n",
    "        self.name = name\n",
    "    def Show():\n",
    "        pass"
   ]
  },
  {
   "cell_type": "code",
   "execution_count": 253,
   "id": "e5ae846b",
   "metadata": {},
   "outputs": [],
   "source": [
    "class Book(Person): #Derived Class\n",
    "    def __init__(self,name,Year):\n",
    "        self.Year = Year\n",
    "        super().__init__(name)\n",
    "    def Show(self):\n",
    "        print(f\"Name : {self.name} , Year : {self.Year} \")"
   ]
  },
  {
   "cell_type": "code",
   "execution_count": 254,
   "id": "4fae16f8",
   "metadata": {},
   "outputs": [
    {
     "name": "stdout",
     "output_type": "stream",
     "text": [
      "Name : Kiddo , Year : 2000 \n"
     ]
    }
   ],
   "source": [
    "Book = Book(\"Kiddo\",2000)\n",
    "Book.Show()"
   ]
  },
  {
   "cell_type": "markdown",
   "id": "9112a160",
   "metadata": {},
   "source": []
  },
  {
   "cell_type": "markdown",
   "id": "c8e216e9",
   "metadata": {},
   "source": [
    "Private Acces Modifiers:\n",
    "\n",
    "Class properties and methods with private access modifier can only be accessed within the class where they are defined and cannot be accessed outside the class. In Python private properties and methods are declared by adding a prefix with two underscores(‘__’) before their declaration."
   ]
  },
  {
   "cell_type": "code",
   "execution_count": 255,
   "id": "6095246e",
   "metadata": {},
   "outputs": [],
   "source": [
    "class Person:\n",
    "    def __init__(self,name):\n",
    "        self.__name = name\n",
    "    def Show(self):\n",
    "        print(self.__name)"
   ]
  },
  {
   "cell_type": "code",
   "execution_count": 256,
   "id": "beb14a4b",
   "metadata": {},
   "outputs": [
    {
     "name": "stdout",
     "output_type": "stream",
     "text": [
      "Kiddo\n"
     ]
    }
   ],
   "source": [
    "Person = Person(\"Kiddo\")\n",
    "Person.Show()"
   ]
  },
  {
   "cell_type": "code",
   "execution_count": null,
   "id": "5f2b9018",
   "metadata": {},
   "outputs": [],
   "source": []
  },
  {
   "cell_type": "markdown",
   "id": "a2f3b3b4",
   "metadata": {},
   "source": [
    "Protected Acces Modifiers:\n",
    "\n",
    "Class properties and methods with protected access modifier can be accessed within the class and from the class that inherits the protected class. In python, protected members and methods are declared using single underscore(‘_’) as prefix before their names."
   ]
  },
  {
   "cell_type": "code",
   "execution_count": 257,
   "id": "d9b3b2bf",
   "metadata": {},
   "outputs": [],
   "source": [
    "class Person:\n",
    "    def __init__(self,name):\n",
    "        self._name = name\n",
    "    def _Show(self):\n",
    "        print(self._name)"
   ]
  },
  {
   "cell_type": "code",
   "execution_count": 258,
   "id": "68aabcda",
   "metadata": {},
   "outputs": [],
   "source": [
    "class Book(Person):\n",
    "    def __init__(self,name,Year):\n",
    "        self._Year = Year\n",
    "        super().__init__(name)\n",
    "    def Show(self):\n",
    "        self._Show()\n",
    "        print(f\"{self._Year} \")"
   ]
  },
  {
   "cell_type": "code",
   "execution_count": 259,
   "id": "d9cae403",
   "metadata": {},
   "outputs": [
    {
     "name": "stdout",
     "output_type": "stream",
     "text": [
      "Ayush\n",
      "2000 \n"
     ]
    }
   ],
   "source": [
    "Book = Book(\"Ayush\",2000)\n",
    "Book.Show()"
   ]
  },
  {
   "cell_type": "code",
   "execution_count": null,
   "id": "c98dac64",
   "metadata": {},
   "outputs": [],
   "source": []
  },
  {
   "cell_type": "markdown",
   "id": "651faa53",
   "metadata": {},
   "source": [
    "5. What is the purpose of the \"super\" keyword in inheritance? Provide an example."
   ]
  },
  {
   "cell_type": "markdown",
   "id": "75132822",
   "metadata": {},
   "source": [
    "In Python, the super() function is used to refer to the parent class or superclass. It allows you to call methods defined in the superclass from the subclass, enabling you to extend and customize the functionality inherited from the parent class."
   ]
  },
  {
   "cell_type": "code",
   "execution_count": 260,
   "id": "543a8e27",
   "metadata": {},
   "outputs": [],
   "source": [
    "class Person: #Base Class\n",
    "    def __init__(self,name):\n",
    "        self.name = name\n",
    "    def Show():\n",
    "        pass"
   ]
  },
  {
   "cell_type": "code",
   "execution_count": 261,
   "id": "4e68e14a",
   "metadata": {},
   "outputs": [],
   "source": [
    "class Book(Person): #Derived Class\n",
    "    def __init__(self,name,Year):\n",
    "        self.Year = Year\n",
    "        super().__init__(name)#Using super() for inheriting the attributes from the base class.\n",
    "    def Show(self):\n",
    "        print(f\"Name : {self.name} , Year : {self.Year} \")"
   ]
  },
  {
   "cell_type": "code",
   "execution_count": 262,
   "id": "c6427799",
   "metadata": {},
   "outputs": [
    {
     "name": "stdout",
     "output_type": "stream",
     "text": [
      "Name : Kiddo , Year : 2000 \n"
     ]
    }
   ],
   "source": [
    "Book = Book(\"Kiddo\",2000)\n",
    "Book.Show()"
   ]
  },
  {
   "cell_type": "code",
   "execution_count": null,
   "id": "d7b3f6da",
   "metadata": {},
   "outputs": [],
   "source": []
  },
  {
   "cell_type": "markdown",
   "id": "c824d8ef",
   "metadata": {},
   "source": [
    "6. Create a base class called \"Vehicle\" with attributes like \"make\", \"model\", and \"year\".\n",
    "Then, create a derived class called \"Car\" that inherits from \"Vehicle\" and adds an\n",
    "attribute called \"fuel_type\". Implement appropriate methods in both classes."
   ]
  },
  {
   "cell_type": "code",
   "execution_count": 263,
   "id": "6f7a3ca5",
   "metadata": {},
   "outputs": [],
   "source": [
    "class Vehicle:\n",
    "    def __init__(self,make,model,year):\n",
    "        self.make = make\n",
    "        self.model = model\n",
    "        self.year = year\n",
    "    def Show(self):\n",
    "        pass"
   ]
  },
  {
   "cell_type": "code",
   "execution_count": 264,
   "id": "eb8df25d",
   "metadata": {},
   "outputs": [],
   "source": [
    "class Car(Vehicle):\n",
    "    def __init__(self,make,model,year,fuel_type):\n",
    "        self.fuel_type = fuel_type\n",
    "        super().__init__(make,model,year)\n",
    "    def Show(self):\n",
    "        print(f\" Make : {self.make} , Model : {self.model} , Year : {self.year} , Fuel Type : {self.fuel_type}\")"
   ]
  },
  {
   "cell_type": "code",
   "execution_count": 265,
   "id": "622dfa43",
   "metadata": {},
   "outputs": [
    {
     "name": "stdout",
     "output_type": "stream",
     "text": [
      " Make : Bayerische , Model : 2023 BMW X3 , Year : 2023 , Fuel Type : Diesel\n"
     ]
    }
   ],
   "source": [
    "Car = Car(\"Bayerische\",\"2023 BMW X3\",2023,\"Diesel\")\n",
    "Car.Show()"
   ]
  },
  {
   "cell_type": "code",
   "execution_count": null,
   "id": "f6aed896",
   "metadata": {},
   "outputs": [],
   "source": []
  },
  {
   "cell_type": "markdown",
   "id": "2bf62770",
   "metadata": {},
   "source": [
    "7. Create a base class called \"Employee\" with attributes like \"name\" and \"salary.\"\n",
    "Derive two classes, \"Manager\" and \"Developer,\" from \"Employee.\" Add an additional\n",
    "attribute called \"department\" for the \"Manager\" class and \"programming_language\"\n",
    "for the \"Developer\" class."
   ]
  },
  {
   "cell_type": "code",
   "execution_count": 266,
   "id": "d429b8eb",
   "metadata": {},
   "outputs": [],
   "source": [
    "class Employee:\n",
    "    def __init__(self,name,salary):\n",
    "        self.name = name\n",
    "        self.salary = salary\n",
    "    def Show():\n",
    "        pass"
   ]
  },
  {
   "cell_type": "code",
   "execution_count": 267,
   "id": "e8a59940",
   "metadata": {},
   "outputs": [],
   "source": [
    "class Manager(Employee):\n",
    "    def __init__(self,name,salary,department):\n",
    "        self.department = department\n",
    "        super().__init__(name,salary)\n",
    "    def Show(self):\n",
    "        print(f\"Name : {self.name} , Salary : {self.salary} , Department : {self.department}\")"
   ]
  },
  {
   "cell_type": "code",
   "execution_count": 268,
   "id": "332cd971",
   "metadata": {},
   "outputs": [],
   "source": [
    "class Developer(Employee):\n",
    "    def __init__(self,name,salary,programming_language):\n",
    "        self.programming_language = programming_language\n",
    "        super().__init__(name,salary)\n",
    "    def Show(self):\n",
    "        print(f\"Name : {self.name} , Salary : {self.salary} , Programming Language : {self.programming_language}\")"
   ]
  },
  {
   "cell_type": "code",
   "execution_count": 269,
   "id": "1826ad11",
   "metadata": {},
   "outputs": [
    {
     "name": "stdout",
     "output_type": "stream",
     "text": [
      "Name : Ayush , Salary : 50K , Department : IT\n"
     ]
    }
   ],
   "source": [
    "Manager = Manager(\"Ayush\",\"50K\",\"IT\")\n",
    "Manager.Show()"
   ]
  },
  {
   "cell_type": "code",
   "execution_count": 270,
   "id": "4155491c",
   "metadata": {},
   "outputs": [
    {
     "name": "stdout",
     "output_type": "stream",
     "text": [
      "Name : Ayush , Salary : 50K , Programming Language : python\n"
     ]
    }
   ],
   "source": [
    "Developer = Developer(\"Ayush\",\"50K\",\"python\")\n",
    "Developer.Show()"
   ]
  },
  {
   "cell_type": "code",
   "execution_count": null,
   "id": "6f07e973",
   "metadata": {},
   "outputs": [],
   "source": []
  },
  {
   "cell_type": "markdown",
   "id": "aad5eb02",
   "metadata": {},
   "source": [
    "8. Design a base class called \"Shape\" with attributes like \"colour\" and \"border_width.\"\n",
    "Create derived classes, \"Rectangle\" and \"Circle,\" that inherit from \"Shape\" and add\n",
    "specific attributes like \"length\" and \"width\" for the \"Rectangle\" class and \"radius\" for\n",
    "the \"Circle\" class."
   ]
  },
  {
   "cell_type": "code",
   "execution_count": 271,
   "id": "fab3150a",
   "metadata": {},
   "outputs": [],
   "source": [
    "class Shape:\n",
    "    def __init__(self,colour,border_width):\n",
    "        self.colour = colour\n",
    "        self.border_width = border_width\n",
    "    def Show(self):\n",
    "        pass"
   ]
  },
  {
   "cell_type": "code",
   "execution_count": 272,
   "id": "70acc4ff",
   "metadata": {},
   "outputs": [],
   "source": [
    "class Rectangle(Shape):\n",
    "    def __init__(self,colour,border_width,length,width):\n",
    "        self.length = length\n",
    "        self.width = width\n",
    "        super().__init__(colour,border_width)\n",
    "    def Show(self):\n",
    "        print(f\"Color is : {self.colour} Width is : {self.width} Length is : {self.length}  \")"
   ]
  },
  {
   "cell_type": "code",
   "execution_count": 273,
   "id": "a0a8e9d0",
   "metadata": {},
   "outputs": [],
   "source": [
    "class Circle(Shape):\n",
    "    def __init__(self,colour,border_width,radius):\n",
    "        self.radius = radius\n",
    "        super().__init__(colour,border_width)\n",
    "    def Show(self):\n",
    "        print(f\"Colour is : {self.colour} , Radius is : {self.radius}\")"
   ]
  },
  {
   "cell_type": "code",
   "execution_count": 274,
   "id": "b7449701",
   "metadata": {},
   "outputs": [
    {
     "name": "stdout",
     "output_type": "stream",
     "text": [
      "Color is : Yellow Width is : 20 Length is : 20  \n"
     ]
    }
   ],
   "source": [
    "Rectangle = Rectangle(\"Yellow\",\"20\",\"20\",\"20\")\n",
    "Rectangle.Show()"
   ]
  },
  {
   "cell_type": "code",
   "execution_count": 275,
   "id": "dedbcb58",
   "metadata": {},
   "outputs": [
    {
     "name": "stdout",
     "output_type": "stream",
     "text": [
      "Colour is : Green , Radius is : 5\n"
     ]
    }
   ],
   "source": [
    "Circle = Circle(\"Green\",5,5)\n",
    "Circle.Show()"
   ]
  },
  {
   "cell_type": "code",
   "execution_count": null,
   "id": "519a8690",
   "metadata": {},
   "outputs": [],
   "source": []
  },
  {
   "cell_type": "markdown",
   "id": "96ad04c6",
   "metadata": {},
   "source": [
    "9. Create a base class called \"Device\" with attributes like \"brand\" and \"model.\" Derive\n",
    "two classes, \"Phone\" and \"Tablet,\" from \"Device.\" Add specific attributes like\n",
    "\"screen_size\" for the \"Phone\" class and \"battery_capacity\" for the \"Tablet\" class."
   ]
  },
  {
   "cell_type": "code",
   "execution_count": 276,
   "id": "dfcb3b82",
   "metadata": {},
   "outputs": [],
   "source": [
    "class Device:\n",
    "    def __init__(self,brand,model):\n",
    "        self.brand = brand\n",
    "        self.model = model\n",
    "    def Show(self):\n",
    "        pass"
   ]
  },
  {
   "cell_type": "code",
   "execution_count": 277,
   "id": "1b46da58",
   "metadata": {},
   "outputs": [],
   "source": [
    "class Phone(Device):\n",
    "    def __init__(self,brand,model,screen_size):\n",
    "        self.screen_size = screen_size\n",
    "        super().__init__(brand,model)\n",
    "    def Show(self):\n",
    "        print(f\"Brand is : {self.brand} , Model is : {self.model} , Screen Size is : {self.screen_size}\")"
   ]
  },
  {
   "cell_type": "code",
   "execution_count": 278,
   "id": "4410bd2b",
   "metadata": {},
   "outputs": [],
   "source": [
    "class Tablet(Device):\n",
    "    def __init__(self,brand,model,battery_capacity):\n",
    "        self.battery_capacity = battery_capacity\n",
    "        super().__init__(brand,model)\n",
    "    def Show(self):\n",
    "        print(f\"Brand is : {self.brand} , Model is : {self.model} , Battery Capacity is : {self.battery_capacity}\")"
   ]
  },
  {
   "cell_type": "code",
   "execution_count": 279,
   "id": "b851b624",
   "metadata": {},
   "outputs": [
    {
     "name": "stdout",
     "output_type": "stream",
     "text": [
      "Brand is : Apple , Model is : iPhone11 , Screen Size is : 6.1\n"
     ]
    }
   ],
   "source": [
    "Phone = Phone(\"Apple\",\"iPhone11\",6.1)\n",
    "Phone.Show()"
   ]
  },
  {
   "cell_type": "code",
   "execution_count": 280,
   "id": "974aade1",
   "metadata": {},
   "outputs": [
    {
     "name": "stdout",
     "output_type": "stream",
     "text": [
      "Brand is : Apple , Model is : Apple 2022 , Battery Capacity is : 7538 mAh\n"
     ]
    }
   ],
   "source": [
    "Tablet = Tablet(\"Apple\",\"Apple 2022\",\"7538 mAh\")\n",
    "Tablet.Show()"
   ]
  },
  {
   "cell_type": "markdown",
   "id": "e6e9a241",
   "metadata": {},
   "source": [
    "10. Create a base class called \"BankAccount\" with attributes like \"account_number\" and\n",
    "\"balance.\" Derive two classes, \"SavingsAccount\" and \"CheckingAccount,\" from\n",
    "\"BankAccount.\" Add specific methods like \"calculate_interest\" for the\n",
    "\"SavingsAccount\" class and \"deduct_fees\" for the \"CheckingAccount\" class."
   ]
  },
  {
   "cell_type": "code",
   "execution_count": 281,
   "id": "1ef1d843",
   "metadata": {},
   "outputs": [],
   "source": [
    "class BankAccount:\n",
    "    def __init__(self,account_number,balance):\n",
    "        self.account_number = account_number\n",
    "        self.balance = balance\n",
    "    def Show(self):\n",
    "        pass"
   ]
  },
  {
   "cell_type": "code",
   "execution_count": 282,
   "id": "47d36f6b",
   "metadata": {},
   "outputs": [],
   "source": [
    "class SavingsAccount(BankAccount):\n",
    "    def __init__(self,account_number,balance,Interest_rate,Number_of_days): # Adding two more attributes to calcualte interest Earned\n",
    "        self.Interest_rate = Interest_rate\n",
    "        self.Number_of_days = Number_of_days\n",
    "        super().__init__(account_number,balance)\n",
    "    def calculate_interest(self):\n",
    "        Interest = self.balance*(self.Interest_rate/100)*(self.Number_of_days/365)\n",
    "        print(f\"Interest Earned = {Interest}\")"
   ]
  },
  {
   "cell_type": "code",
   "execution_count": 283,
   "id": "4ecb2896",
   "metadata": {},
   "outputs": [
    {
     "name": "stdout",
     "output_type": "stream",
     "text": [
      "Interest Earned = 5917.808219178082\n"
     ]
    }
   ],
   "source": [
    "SavingsAccount = SavingsAccount(\"12345677\",100000,12,180)\n",
    "SavingsAccount.calculate_interest()"
   ]
  },
  {
   "cell_type": "code",
   "execution_count": 284,
   "id": "d747ce82",
   "metadata": {},
   "outputs": [],
   "source": [
    "class CheckingAccount(BankAccount):\n",
    "    def __init__(self,account_number,balance,Deduct_Fee):#Adding Deduct_Fee Attribute for finding the Deduction Amount\n",
    "            self.Deduct_Fee = Deduct_Fee\n",
    "            super().__init__(account_number,balance)\n",
    "    def deduct_fees(self):\n",
    "        Total_Amount = self.balance-self.Deduct_Fee\n",
    "        print(f\"Deduct Fee = {self.Deduct_Fee} , Remaining Balance = {Total_Amount}\")"
   ]
  },
  {
   "cell_type": "code",
   "execution_count": 285,
   "id": "073893a2",
   "metadata": {},
   "outputs": [
    {
     "name": "stdout",
     "output_type": "stream",
     "text": [
      "Deduct Fee = 500 , Remaining Balance = 99500\n"
     ]
    }
   ],
   "source": [
    "CheckingAccount = CheckingAccount(\"12345677\",100000,500)\n",
    "CheckingAccount.deduct_fees()"
   ]
  },
  {
   "cell_type": "code",
   "execution_count": null,
   "id": "b9f881dc",
   "metadata": {},
   "outputs": [],
   "source": []
  }
 ],
 "metadata": {
  "kernelspec": {
   "display_name": "Python 3 (ipykernel)",
   "language": "python",
   "name": "python3"
  },
  "language_info": {
   "codemirror_mode": {
    "name": "ipython",
    "version": 3
   },
   "file_extension": ".py",
   "mimetype": "text/x-python",
   "name": "python",
   "nbconvert_exporter": "python",
   "pygments_lexer": "ipython3",
   "version": "3.11.3"
  }
 },
 "nbformat": 4,
 "nbformat_minor": 5
}
