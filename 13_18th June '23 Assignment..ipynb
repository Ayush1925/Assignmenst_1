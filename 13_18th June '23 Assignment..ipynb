{
 "cells": [
  {
   "cell_type": "markdown",
   "id": "a3671e56-2084-413e-9509-b06af9ba2d49",
   "metadata": {},
   "source": [
    "## 1. What is the role of the 'else' block in a try-except statement? Provide an example scenario where it would be useful."
   ]
  },
  {
   "cell_type": "raw",
   "id": "a732825c-8a3f-4ed0-9a16-341c25ca1613",
   "metadata": {},
   "source": [
    "The else block in a try-except statement is an optional block of code that is executed if no exceptions are raised in the try block. This means that if no exceptions occur, the code in the else block is executed."
   ]
  },
  {
   "cell_type": "code",
   "execution_count": 3,
   "id": "c19f3311-556e-4d3b-8404-4dc3f9b309be",
   "metadata": {},
   "outputs": [
    {
     "name": "stdin",
     "output_type": "stream",
     "text": [
      "Enter First Integer 2\n",
      "Enter Second Inteer 0\n"
     ]
    },
    {
     "name": "stdout",
     "output_type": "stream",
     "text": [
      "division by zero\n"
     ]
    }
   ],
   "source": [
    "try:\n",
    "    x = int(input(\"Enter First Integer\"))\n",
    "    y = int(input(\"Enter Second Inteer\"))\n",
    "    c = x/y\n",
    "except ZeroDivisionError as a:\n",
    "    print(a)\n",
    "else:\n",
    "    print(f\"{c}\")"
   ]
  },
  {
   "cell_type": "code",
   "execution_count": null,
   "id": "143de7b1-7212-4c20-bd99-2f67c9e51c66",
   "metadata": {},
   "outputs": [],
   "source": []
  },
  {
   "cell_type": "markdown",
   "id": "f71ee219-1584-4574-8ee5-409194420699",
   "metadata": {},
   "source": [
    "## 2. Can a try-except block be nested inside another try-except block? Explain with an example."
   ]
  },
  {
   "cell_type": "raw",
   "id": "1fd1218b-059c-47ed-b540-60aa4344bb87",
   "metadata": {},
   "source": [
    "We can have nested try-except blocks in Python. In this case, if an exception is raised in the nested try block, the nested except block is used to handle it. In case the nested except is not able to handle it, the outer except blocks are used to handle the exception."
   ]
  },
  {
   "cell_type": "code",
   "execution_count": 5,
   "id": "0c353e33-04db-4c67-9b6b-cf7963993042",
   "metadata": {},
   "outputs": [
    {
     "name": "stdout",
     "output_type": "stream",
     "text": [
      "outer try block\n",
      "nested try block\n",
      "outer except block\n",
      "division by zero\n"
     ]
    }
   ],
   "source": [
    "x = 10\n",
    "y = 0\n",
    "\n",
    "try:\n",
    "    print(\"outer try block\")\n",
    "    try:\n",
    "        print(\"nested try block\")\n",
    "        print(x / y)\n",
    "    except TypeError as te:\n",
    "        print(\"nested except block\")\n",
    "        print(te)\n",
    "except ZeroDivisionError as ze:\n",
    "    print(\"outer except block\")\n",
    "    print(ze)"
   ]
  },
  {
   "cell_type": "code",
   "execution_count": null,
   "id": "c505af43-6540-4fc2-b681-0de025c5029f",
   "metadata": {},
   "outputs": [],
   "source": []
  },
  {
   "cell_type": "markdown",
   "id": "4623d721-0e9c-43f1-849a-4bd2dcd1d4cc",
   "metadata": {},
   "source": [
    "## 3. How can you create a custom exception class in Python? Provide an example that demonstrates its usage."
   ]
  },
  {
   "cell_type": "code",
   "execution_count": 6,
   "id": "eb66a9a8-a192-4f08-92e4-faf0d0865bfb",
   "metadata": {},
   "outputs": [],
   "source": [
    "class WrongGuess(Exception):\n",
    "    \"Guessed the wrong number\"\n",
    "    pass"
   ]
  },
  {
   "cell_type": "code",
   "execution_count": 12,
   "id": "3ee11fde-0489-458c-a4b4-f410a5104e9a",
   "metadata": {},
   "outputs": [
    {
     "name": "stdin",
     "output_type": "stream",
     "text": [
      "Guess the number 45\n"
     ]
    },
    {
     "name": "stdout",
     "output_type": "stream",
     "text": [
      "You Guessed The Wrong Number\n"
     ]
    }
   ],
   "source": [
    "n = 30\n",
    "try:\n",
    "    x = int(input(\"Guess the number\"))\n",
    "    if x == n:\n",
    "        print(\"You Guessed Right\")\n",
    "    else:\n",
    "        raise WrongGuess\n",
    "except WrongGuess:\n",
    "    print(\"You Guessed The Wrong Number\")"
   ]
  },
  {
   "cell_type": "code",
   "execution_count": null,
   "id": "7697b8ec-1eb8-41d3-97ee-14c9460d7aec",
   "metadata": {},
   "outputs": [],
   "source": []
  },
  {
   "cell_type": "markdown",
   "id": "9d90afd4-ae40-40dc-8333-d1a260971913",
   "metadata": {},
   "source": [
    "## 4. What are some common exceptions that are built-in to Python?"
   ]
  },
  {
   "cell_type": "raw",
   "id": "a9b6d0ac-903d-497e-8cec-6f77ab88bfc5",
   "metadata": {},
   "source": [
    "Some of the most common types of exceptions are:\n",
    "\n",
    "ZeroDivisionError: Raised when the second argument of a division or modulo operation is zero.\n",
    "\n",
    "TypeError: Raised when an operation or function is applied to an object of inappropriate type.\n",
    "\n",
    "ValueError: Raised when a built-in operation or function receives an argument that has the right type but an inappropriate value.\n",
    "\n",
    "IndexError: Raised when a sequence subscript is out of range.\n",
    "\n",
    "KeyError: Raised when a dictionary key is not found.\n",
    "\n",
    "FileNotFoundError: Raised when a file or directory is requested but doesn’t exist.\n",
    "\n",
    "IOError: Raised when an I/O operation (such as a print statement, the built-in open() function or a method of a file object) fails for an I/O-related reason.\n",
    "\n",
    "ImportError: Raised when an import statement fails to find the module definition or when a from ... import fails to find a name that is to be imported.\n",
    "\n",
    "MemoryError: Raised when an operation runs out of memory.\n",
    "\n",
    "OverflowError: Raised when the result of an arithmetic operation is too large to be expressed by the normal number format.\n",
    "\n",
    "AttributeError: Raised when an attribute reference or assignment fails.\n",
    "\n",
    "SyntaxError: Raised when the parser encounters a syntax error.\n",
    "\n",
    "IndentationError: Raised when there is incorrect indentation.\n",
    "\n",
    "NameError: Raised when a local or global name is not found."
   ]
  },
  {
   "cell_type": "code",
   "execution_count": null,
   "id": "784f0c56-dd48-4320-84fc-4f66a541b07d",
   "metadata": {},
   "outputs": [],
   "source": []
  },
  {
   "cell_type": "markdown",
   "id": "dfba06a3-31c8-4175-9fcb-36b1fd5faacf",
   "metadata": {},
   "source": [
    "## 5. What is logging in Python, and why is it important in software development?"
   ]
  },
  {
   "cell_type": "raw",
   "id": "a49f02e4-b014-4875-b5b4-88ff777d16cb",
   "metadata": {},
   "source": [
    "Logging is a technique for monitoring events that take place when some software is in use.\n",
    "For the creation, operation, and debugging of software, logging is crucial.\n",
    "There are very little odds that you would find the source of the issue if your programme fails and you don't have any logging records.\n",
    "Additionally, it will take a lot of time to identify the cause. \n",
    "Logging is a way to store information about your script and track events that occur. When writing any complex script in Python, logging is essential for debugging software as you develop it. Without logging, finding the source of a problem in your code may be extremely time consuming."
   ]
  },
  {
   "cell_type": "raw",
   "id": "2d327e96-078a-4b72-97eb-63db684fb22f",
   "metadata": {},
   "source": [
    "When you run an algorithm and want to confirm it is doing what you expected, it is natural to add some print() statements at strategic locations to show the program’s state. Printing can help debug simpler scripts, but as your code gets more and more complex, printing lacks the flexibility and robustness that logging has.\n",
    "\n",
    "With logging, you can pinpoint where a logging call came from, differentiate severity between messages, and write information to a file, which printing cannot do. For example, we can turn on and off the message from a particular module of a larger program. We can also increase or decrease the verbosity of the logging messages without changing a lot of code."
   ]
  },
  {
   "cell_type": "raw",
   "id": "db9f2a79-277c-46a4-96ad-c970ccda0fba",
   "metadata": {},
   "source": [
    "The logging system in Python operates under a hierarchical namespace and different levels of severity. The Python script can create a logger under a namespace, and every time a message is logged, the script must specify its severity. The logged message can go to different places depending on the handler we set up for the namespace. The most common handler is to simply print on the screen, like the ubiquitous print() function. When we start the program, we may register a new handler and set up the level of severity to which the handler will react."
   ]
  },
  {
   "cell_type": "code",
   "execution_count": null,
   "id": "760eccaf-b2a4-46f1-be6d-bc2283cab037",
   "metadata": {},
   "outputs": [],
   "source": []
  },
  {
   "cell_type": "markdown",
   "id": "6c2ab146-f74c-4436-b29f-3e6d3b30d6ce",
   "metadata": {},
   "source": [
    "## 6. Explain the purpose of log levels in Python logging and provide examples of when each log level would be appropriate."
   ]
  },
  {
   "cell_type": "code",
   "execution_count": 13,
   "id": "b3f63b83-081f-47f7-88f6-7ae424f75743",
   "metadata": {},
   "outputs": [
    {
     "name": "stderr",
     "output_type": "stream",
     "text": [
      "DEBUG:root:This is a debug message\n",
      "INFO:root:This is an info message\n",
      "WARNING:root:This is a warning message\n",
      "ERROR:root:This is an error message\n",
      "CRITICAL:root:This is a critical message\n"
     ]
    }
   ],
   "source": [
    "# first import the logging library\n",
    "import logging\n",
    "\n",
    "\"\"\" In the code above, we first import the logging module, then we call the \n",
    "    basicConfig method to configure the logging. \n",
    "    \n",
    "    We set the level to DEBUG, which means that all logs of level \n",
    "    DEBUG and above will be tracked.\"\"\"\n",
    "\n",
    "logging.basicConfig(level=logging.DEBUG)\n",
    "\n",
    "# Logging Level: severity of the event being logged\n",
    "# Least severe to most severe\n",
    "logging.debug('This is a debug message')\n",
    "logging.info('This is an info message')\n",
    "logging.warning('This is a warning message')\n",
    "logging.error('This is an error message')\n",
    "logging.critical('This is a critical message')\n"
   ]
  },
  {
   "cell_type": "code",
   "execution_count": 21,
   "id": "c9a71b1b-39ca-44fa-9323-3fc871f0bcf1",
   "metadata": {},
   "outputs": [
    {
     "name": "stderr",
     "output_type": "stream",
     "text": [
      "DEBUG:root:Variables are 1 and 2\n"
     ]
    },
    {
     "data": {
      "text/plain": [
       "3"
      ]
     },
     "execution_count": 21,
     "metadata": {},
     "output_type": "execute_result"
    }
   ],
   "source": [
    "#Debug\n",
    "import logging\n",
    "logging.basicConfig(level=logging.DEBUG)\n",
    "def ADD(x,y):\n",
    "    logging.debug('Variables are %s and %s',x,y)\n",
    "    return x + y\n",
    "add(1,2)"
   ]
  },
  {
   "cell_type": "code",
   "execution_count": 22,
   "id": "123cecc8-42d6-4849-94c4-32e56ff6520f",
   "metadata": {},
   "outputs": [
    {
     "name": "stderr",
     "output_type": "stream",
     "text": [
      "INFO:root:User Kiddo logged in\n"
     ]
    }
   ],
   "source": [
    "# info\n",
    "import logging\n",
    "logging.basicConfig(level=logging.INFO)\n",
    "def login(user):\n",
    "    logging.info('User %s logged in', user)\n",
    "login('Kiddo')"
   ]
  },
  {
   "cell_type": "code",
   "execution_count": 23,
   "id": "473d6eb7-dd51-46e4-8022-3e47a867a480",
   "metadata": {},
   "outputs": [
    {
     "name": "stderr",
     "output_type": "stream",
     "text": [
      "WARNING:root:Sorry you have Low balance: 10000\n"
     ]
    }
   ],
   "source": [
    "#warning\n",
    "import logging\n",
    "\n",
    "logging.basicConfig(level=logging.WARNING)\n",
    "\n",
    "def MyBalance(amount):\n",
    "    if amount < 40000:\n",
    "        logging.warning('Sorry you have Low balance: %s', amount)\n",
    "\n",
    "MyBalance(10000)"
   ]
  },
  {
   "cell_type": "code",
   "execution_count": 24,
   "id": "ebd8fca3-039d-4077-a9e9-41ae1b4516cf",
   "metadata": {},
   "outputs": [
    {
     "name": "stderr",
     "output_type": "stream",
     "text": [
      "ERROR:root:You are trying to divide by zero, which is not allowed\n"
     ]
    }
   ],
   "source": [
    "#Error\n",
    "import logging\n",
    "\n",
    "logging.basicConfig(level=logging.ERROR)\n",
    "\n",
    "def LetUsDivide(n, d):\n",
    "    try:\n",
    "        result = n / d\n",
    "    except ZeroDivisionError:\n",
    "        logging.error('You are trying to divide by zero, which is not allowed')\n",
    "    else:\n",
    "        return result\n",
    "\n",
    "LetUsDivide(4, 0)"
   ]
  },
  {
   "cell_type": "code",
   "execution_count": 25,
   "id": "4fa57826-d000-4b2e-9f8a-9b939e015981",
   "metadata": {},
   "outputs": [
    {
     "name": "stderr",
     "output_type": "stream",
     "text": [
      "CRITICAL:root:System failure: You need to handle the issue now\n"
     ]
    }
   ],
   "source": [
    "#Critical Error\n",
    "import logging\n",
    "\n",
    "logging.basicConfig(level=logging.CRITICAL)\n",
    "\n",
    "def LetUsCheckSystem(sys):\n",
    "    if sys != 'OK':\n",
    "        logging.critical('System failure: %s', sys)\n",
    "\n",
    "LetUsCheckSystem('You need to handle the issue now')"
   ]
  },
  {
   "cell_type": "code",
   "execution_count": null,
   "id": "3c66aa44-c8a0-43bb-b624-980a7baf4875",
   "metadata": {},
   "outputs": [],
   "source": []
  },
  {
   "cell_type": "markdown",
   "id": "8678d102-2eef-4dc0-b250-bf6918fdffac",
   "metadata": {},
   "source": [
    "## 7. What are log formatters in Python logging, and how can you customise the log message format using formatters?"
   ]
  },
  {
   "cell_type": "raw",
   "id": "a249187d-803b-408d-b4e5-51f5035e6e90",
   "metadata": {},
   "source": [
    "A formatter is created and added to the handler to transform log messages into placeholder data. In this formatter, the time of the log request (as an epoch timestamp), the logging level, the logger's name, the module name, and the log message will all print."
   ]
  },
  {
   "cell_type": "code",
   "execution_count": 27,
   "id": "b86ba569-2048-4019-8815-00fb7a25f46e",
   "metadata": {},
   "outputs": [
    {
     "name": "stderr",
     "output_type": "stream",
     "text": [
      "CRITICAL:root:System failure: You need to handle the issue now\n"
     ]
    }
   ],
   "source": [
    "import os\n",
    "import logging\n",
    "\n",
    "# Specify the directory and file\n",
    "dir_path = r'G:\\Ayush_Assignments\\Logging'\n",
    "log_file = 'system.txt'\n",
    "full_path = os.path.join(dir_path, log_file)\n",
    "\n",
    "# Check if the directory exists and create it if necessary\n",
    "os.makedirs(dir_path, exist_ok=True)\n",
    "\n",
    "# Set up logging\n",
    "# Get a logger instance (this will fetch the root logger)\n",
    "logger = logging.getLogger()\n",
    "\n",
    "# Set the level of the logger to CRITICAL\n",
    "# This means it will handle events of level CRITICAL and above\n",
    "logger.setLevel(logging.CRITICAL)\n",
    "\n",
    "# Create a FileHandler instance to write logs to a file\n",
    "handler = logging.FileHandler(full_path)\n",
    "\n",
    "# Set the format of the logs using a Formatter\n",
    "# This format includes the log timestamp, log level and log message\n",
    "handler.setFormatter(logging.Formatter('%(asctime)s:%(levelname)s:%(message)s'))\n",
    "\n",
    "# Add the handler to the logger\n",
    "# This connects the logger to the handler so that logs get written to the file\n",
    "logger.addHandler(handler)\n",
    "\n",
    "\n",
    "def LetUsCheckSystem(sys):\n",
    "    if sys != 'OK':\n",
    "        logging.critical('System failure: %s', sys)\n",
    "\n",
    "LetUsCheckSystem('You need to handle the issue now')\n",
    "handler.close()\n"
   ]
  },
  {
   "cell_type": "code",
   "execution_count": null,
   "id": "d6f2bb59-c31f-40ba-8216-d585826287ff",
   "metadata": {},
   "outputs": [],
   "source": []
  },
  {
   "cell_type": "markdown",
   "id": "42edbfe7-2ee6-4b02-8816-3b8b09f5b9e0",
   "metadata": {},
   "source": [
    "## 8. How can you set up logging to capture log messages from multiple modules or classes in a Python application?"
   ]
  },
  {
   "cell_type": "code",
   "execution_count": null,
   "id": "ba5bb9dd-6c16-4a72-af2e-4fafc0bbfad0",
   "metadata": {},
   "outputs": [],
   "source": []
  },
  {
   "cell_type": "raw",
   "id": "d1febcd0-2b78-4136-9b9c-9ffec7c2f740",
   "metadata": {},
   "source": [
    "To set up logging to capture log messages from multiple modules or classes in a Python application, you can use the built-in logging module. The logging module provides a flexible and powerful framework for generating log messages, and it allows you to capture logs from different parts of your application."
   ]
  },
  {
   "cell_type": "raw",
   "id": "cd4ffa8b-74c4-4963-bbe2-81d554c008bb",
   "metadata": {},
   "source": [
    "Here's a step-by-step guide to set up logging in your Python application:"
   ]
  },
  {
   "cell_type": "code",
   "execution_count": 1,
   "id": "f0c138fc-4bac-4b81-a874-d215a13b5449",
   "metadata": {},
   "outputs": [],
   "source": [
    "## 1. Import the logging module:\n",
    "\n",
    "import logging"
   ]
  },
  {
   "cell_type": "code",
   "execution_count": 2,
   "id": "bb08fe1c-e5ac-4085-ab91-96cbe5df33d2",
   "metadata": {},
   "outputs": [],
   "source": [
    "## 2. Configure the logging settings:"
   ]
  },
  {
   "cell_type": "raw",
   "id": "1695cb7e-0edc-40d0-b29a-93eb88f8e3d3",
   "metadata": {},
   "source": [
    "Before you start logging, you need to configure the logging settings according to your needs. You can choose the log format, set the log level, and specify the output destination (e.g., file or console)."
   ]
  },
  {
   "cell_type": "code",
   "execution_count": 3,
   "id": "1b26fcd4-84ae-40a9-bedf-71e44a2ddf4f",
   "metadata": {},
   "outputs": [],
   "source": [
    "logging.basicConfig(\n",
    "    level=logging.DEBUG,  # Set the desired log level (DEBUG, INFO, WARNING, ERROR, CRITICAL)\n",
    "    format='%(asctime)s - %(name)s - %(levelname)s - %(message)s',\n",
    "    filename='app.log',  # Output log messages to a file (optional)\n",
    "    filemode='a'  # Append mode for the log file (optional)\n",
    ")"
   ]
  },
  {
   "cell_type": "code",
   "execution_count": 4,
   "id": "8ba9e3bf-7520-48e7-be5d-9c226a67c556",
   "metadata": {},
   "outputs": [],
   "source": [
    "## 3. Get a logger for each module or class:"
   ]
  },
  {
   "cell_type": "raw",
   "id": "4da59597-6367-4737-bad3-580771c91669",
   "metadata": {},
   "source": [
    "In each module or class where you want to log messages, create a logger instance with the appropriate name. Usually, it's a good practice to use the module or class name as the logger name to identify the source of the log messages."
   ]
  },
  {
   "cell_type": "code",
   "execution_count": 5,
   "id": "82302c43-a1cf-4668-a90b-904db9c88af8",
   "metadata": {},
   "outputs": [],
   "source": [
    "# In module 'example_module.py'\n",
    "logger = logging.getLogger(__name__)"
   ]
  },
  {
   "cell_type": "code",
   "execution_count": 6,
   "id": "43549b5a-c7fb-4f7f-a99c-e6d097a0bab5",
   "metadata": {},
   "outputs": [],
   "source": [
    "## 4. Start logging in your code:"
   ]
  },
  {
   "cell_type": "raw",
   "id": "00e6bf44-3286-4145-ae75-c74242bc3b89",
   "metadata": {},
   "source": [
    "Now that you have the loggers set up for each module or class, you can use them to log messages at different log levels."
   ]
  },
  {
   "cell_type": "code",
   "execution_count": 7,
   "id": "693e9850-5b78-479d-8cfd-d25e9dd3f82a",
   "metadata": {},
   "outputs": [],
   "source": [
    "logger.debug('This is a debug message')\n",
    "logger.info('This is an info message')\n",
    "logger.warning('This is a warning message')\n",
    "logger.error('This is an error message')\n",
    "logger.critical('This is a critical message')"
   ]
  },
  {
   "cell_type": "code",
   "execution_count": 8,
   "id": "29868607-6ae4-478f-9060-df55647c5990",
   "metadata": {},
   "outputs": [],
   "source": [
    "## 5. Customize log levels (optional):"
   ]
  },
  {
   "cell_type": "raw",
   "id": "0d8b787a-035c-44e8-b712-6b9d18505b18",
   "metadata": {},
   "source": [
    "If you want to filter log messages dynamically, you can set the logging level for individual loggers. For example, if you only want to see log messages with a level of WARNING or higher, you can do the following:"
   ]
  },
  {
   "cell_type": "code",
   "execution_count": 9,
   "id": "0c9f265e-9e9e-4c5d-beba-1fbd51e9d478",
   "metadata": {},
   "outputs": [],
   "source": [
    "logger.setLevel(logging.WARNING)"
   ]
  },
  {
   "cell_type": "raw",
   "id": "b2db63d3-4837-4845-a7ec-474c682def55",
   "metadata": {},
   "source": [
    "That's it! With this setup, your Python application will generate log messages from various modules or classes and save them to the specified log file (if you chose to use one). You can also modify the logging configuration to suit your specific requirements, such as sending logs to different destinations, rotating log files, or customizing the log format."
   ]
  },
  {
   "cell_type": "code",
   "execution_count": null,
   "id": "e4a3c6d7-b860-4f46-a371-75ce255dcb67",
   "metadata": {},
   "outputs": [],
   "source": []
  },
  {
   "cell_type": "markdown",
   "id": "8ee8ad59-0e8c-495b-b1de-6a6817bd25d2",
   "metadata": {},
   "source": [
    "## 9. What is the difference between the logging and print statements in Python? When should you use logging over print statements in a real-world application?"
   ]
  },
  {
   "cell_type": "code",
   "execution_count": null,
   "id": "4c23b54e-f3bb-4b63-9685-603c9e31ba23",
   "metadata": {},
   "outputs": [],
   "source": []
  },
  {
   "cell_type": "raw",
   "id": "e085eb6f-4199-4c97-bb90-f8e9abdd6c66",
   "metadata": {},
   "source": [
    "Logging:\n",
    "\n",
    "The logging module provides a powerful mechanism for generating log messages with various log levels (e.g., DEBUG, INFO, WARNING, ERROR, CRITICAL).\n",
    "\n",
    "Log messages can be directed to different output destinations, such as a file, the console, or external log management systems.\n",
    "\n",
    "It allows you to define custom loggers for different parts of your application, making it easier to track the origin of log messages.\n",
    "\n",
    "Log messages can include additional context, such as the time of the event, the log level, and the logger name, which can be helpful for debugging and monitoring.\n",
    "\n",
    "Logging is more flexible and configurable compared to print statements, allowing you to control log verbosity and filter log messages dynamically."
   ]
  },
  {
   "cell_type": "raw",
   "id": "638fce0d-63cf-4f8e-976d-8c2a463b5667",
   "metadata": {},
   "source": [
    "Print Statements:\n",
    "\n",
    "The print statement is a simple way to display information to the console during program execution.\n",
    "\n",
    "Print statements are typically used for quick debugging or getting immediate feedback during development.\n",
    "\n",
    "They do not offer different log levels or the ability to direct output to different destinations; the output goes to the console by default.\n",
    "\n",
    "Print statements don't provide any structured format for the output, which can make it challenging to distinguish different types of information when debugging complex applications."
   ]
  },
  {
   "cell_type": "raw",
   "id": "318d8785-4660-4653-b8e5-73d1849eda04",
   "metadata": {},
   "source": [
    "When to use logging over print statements in a real-world application:\n",
    "\n",
    "Production and Debugging: In a real-world application, you should use logging for generating log messages in production environments. Print statements should be avoided in production because they can clutter the console output and are difficult to remove from the codebase when debugging is complete.\n",
    "\n",
    "Flexibility: Logging provides greater flexibility in terms of filtering and controlling log output. You can set different log levels for different parts of your application, allowing you to fine-tune the verbosity of log messages.\n",
    "\n",
    "Error Tracking: Logging allows you to record critical errors, warnings, and other events in a structured format, making it easier to track and analyze issues in the application. In a production environment, this information is invaluable for monitoring and troubleshooting.\n",
    "\n",
    "Multiple Output Destinations: Logging can direct log messages to various output destinations, such as log files, external services, or even email alerts. This flexibility makes it easier to handle logs in different ways depending on your application's needs.\n",
    "\n",
    "Long-Term Use: In large and complex applications, using print statements for debugging can quickly become overwhelming and hard to manage. Logging provides a more organized approach to tracking and handling information throughout the application's lifecycle."
   ]
  },
  {
   "cell_type": "raw",
   "id": "e813cba7-9958-4939-a490-4048e1e654e8",
   "metadata": {},
   "source": [
    "In summary, while print statements are handy for quick debugging during development, logging should be the preferred method for generating log messages in real-world applications. It offers better control, flexibility, and structured output, which are crucial for maintaining and troubleshooting complex systems."
   ]
  },
  {
   "cell_type": "code",
   "execution_count": null,
   "id": "b6a551d8-9bbc-412c-95e7-58c2f4cd4dd6",
   "metadata": {},
   "outputs": [],
   "source": []
  },
  {
   "cell_type": "markdown",
   "id": "5de5efc9-a5c4-4eff-be2a-132d5be3944b",
   "metadata": {},
   "source": [
    "## 10. Write a Python program that logs a message to a file named \"app.log\" with the following requirements:"
   ]
  },
  {
   "cell_type": "raw",
   "id": "4d79cdca-8ee3-4d3c-b8da-44e9290ea6ae",
   "metadata": {},
   "source": [
    "● The log message should be \"Hello, World!\"\n",
    "● The log level should be set to \"INFO.\"\n",
    "● The log file should append new log entries without overwriting previous ones."
   ]
  },
  {
   "cell_type": "code",
   "execution_count": null,
   "id": "d1e41645-5564-4f2a-af59-2a9b20511f5f",
   "metadata": {},
   "outputs": [],
   "source": []
  },
  {
   "cell_type": "code",
   "execution_count": 10,
   "id": "2bb9f32c-40e7-48a0-928c-25187875ea25",
   "metadata": {},
   "outputs": [],
   "source": [
    "import logging\n",
    "\n",
    "def setup_logger():\n",
    "    # Create a logger instance\n",
    "    logger = logging.getLogger(\"my_logger\")\n",
    "    logger.setLevel(logging.INFO)\n",
    "\n",
    "    # Create a file handler and set it to append mode\n",
    "    file_handler = logging.FileHandler(\"app.log\", mode=\"a\")\n",
    "    \n",
    "    # Create a log formatter\n",
    "    log_formatter = logging.Formatter(\"%(asctime)s - %(levelname)s - %(message)s\")\n",
    "\n",
    "    # Set the formatter for the file handler\n",
    "    file_handler.setFormatter(log_formatter)\n",
    "\n",
    "    # Add the file handler to the logger\n",
    "    logger.addHandler(file_handler)\n",
    "\n",
    "    return logger\n",
    "\n",
    "def main():\n",
    "    logger = setup_logger()\n",
    "    logger.info(\"Hello, World!\")\n",
    "\n",
    "if __name__ == \"__main__\":\n",
    "    main()"
   ]
  },
  {
   "cell_type": "raw",
   "id": "56c5dd28-93cf-4401-99b5-0fb5516a3844",
   "metadata": {},
   "source": [
    "Explanation:\n",
    "\n",
    "The setup_logger() function sets up the logging configuration as per the requirements. It creates a logger named \"my_logger\" and sets its log level to INFO. It also creates a file handler named file_handler and sets it to append mode (mode=\"a\") so that new log entries will be appended to the existing \"app.log\" file without overwriting previous logs.\n",
    "\n",
    "The log format is specified using a Formatter object, which includes the timestamp (%(asctime)s), log level (%(levelname)s), and the log message (%(message)s).\n",
    "\n",
    "The main() function calls setup_logger() to create the logger and sets up the log file. Then, it logs the message \"Hello, World!\" at the INFO log level.\n",
    "\n",
    "When you run this program, it will log the message \"Hello, World!\" to the \"app.log\" file in the specified format and without overwriting previous log entries. If the \"app.log\" file does not exist, the program will create it. Otherwise, it will append new log messages to the existing file.\n"
   ]
  },
  {
   "cell_type": "code",
   "execution_count": null,
   "id": "c32eef1d-3c30-452d-9e75-f78f681a6aff",
   "metadata": {},
   "outputs": [],
   "source": []
  },
  {
   "cell_type": "markdown",
   "id": "98de222c-3cf4-4e34-bb1e-2d995c6632a4",
   "metadata": {},
   "source": [
    "## 11. Create a Python program that logs an error message to the console and a file named\"errors.log\" if an exception occurs during the program's execution. The error message should include the exception type and a timestamp."
   ]
  },
  {
   "cell_type": "code",
   "execution_count": null,
   "id": "bd8b8bfa-ed33-40e2-b4c3-b1f19c03598e",
   "metadata": {},
   "outputs": [],
   "source": []
  },
  {
   "cell_type": "code",
   "execution_count": 11,
   "id": "4cf63436-8b2e-4d6b-9dee-395ac6591b12",
   "metadata": {},
   "outputs": [
    {
     "name": "stdout",
     "output_type": "stream",
     "text": [
      "Exception occurred at 2023-07-29 23:35:38: ZeroDivisionError: division by zero\n"
     ]
    }
   ],
   "source": [
    "import logging\n",
    "import traceback\n",
    "import datetime\n",
    "\n",
    "def setup_logger():\n",
    "    # Create a logger instance\n",
    "    logger = logging.getLogger(\"error_logger\")\n",
    "    logger.setLevel(logging.ERROR)\n",
    "\n",
    "    # Create a file handler and set it to append mode\n",
    "    file_handler = logging.FileHandler(\"errors.log\", mode=\"a\")\n",
    "    \n",
    "    # Create a log formatter\n",
    "    log_formatter = logging.Formatter(\"%(asctime)s - %(levelname)s - %(message)s\")\n",
    "\n",
    "    # Set the formatter for the file handler\n",
    "    file_handler.setFormatter(log_formatter)\n",
    "\n",
    "    # Add the file handler to the logger\n",
    "    logger.addHandler(file_handler)\n",
    "\n",
    "    return logger\n",
    "\n",
    "def main():\n",
    "    logger = setup_logger()\n",
    "\n",
    "    try:\n",
    "        # Your main program logic goes here\n",
    "        # For this example, let's intentionally raise an exception\n",
    "        x = 10 / 0\n",
    "\n",
    "    except Exception as e:\n",
    "        # Log the exception to the console and the \"errors.log\" file\n",
    "        timestamp = datetime.datetime.now().strftime('%Y-%m-%d %H:%M:%S')\n",
    "        error_message = f\"Exception occurred at {timestamp}: {type(e).__name__}: {str(e)}\"\n",
    "        print(error_message)  # Log to console\n",
    "        logger.error(error_message)  # Log to file\n",
    "\n",
    "        # Optionally, log the full traceback to the \"errors.log\" file\n",
    "        logger.error(traceback.format_exc())\n",
    "\n",
    "if __name__ == \"__main__\":\n",
    "    main()"
   ]
  },
  {
   "cell_type": "raw",
   "id": "b2f85710-b6aa-480f-a6b5-5f9660cd5b88",
   "metadata": {},
   "source": [
    "Explanation:\n",
    "\n",
    "The setup_logger() function sets up the logging configuration. It creates a logger named \"error_logger\" and sets its log level to ERROR. It also creates a file handler named file_handler and sets it to append mode (mode=\"a\") so that new log entries will be appended to the existing \"errors.log\" file.\n",
    "\n",
    "The log format is specified using a Formatter object, which includes the timestamp (%(asctime)s), log level (%(levelname)s), and the log message (%(message)s).\n",
    "\n",
    "The main() function calls setup_logger() to create the logger and sets up the log file. Then, it executes the main program logic inside a try block.\n",
    "\n",
    "If an exception occurs during the execution of the main program logic, it will be caught by the except block. The program then logs the exception message, including the exception type and timestamp, to both the console and the \"errors.log\" file.\n",
    "\n",
    "Optionally, the program also logs the full traceback to the \"errors.log\" file using the traceback.format_exc() function. This provides more detailed information about the stack trace and can be helpful for debugging the issue.\n",
    "\n",
    "When you run this program and an exception occurs, it will log the error message with the timestamp to both the console and the \"errors.log\" file. If the \"errors.log\" file does not exist, the program will create it. Otherwise, it will append new error messages to the existing file.\n"
   ]
  },
  {
   "cell_type": "code",
   "execution_count": null,
   "id": "d4b80e96-6b52-4712-902e-8ed7b7b0aa8d",
   "metadata": {},
   "outputs": [],
   "source": []
  }
 ],
 "metadata": {
  "kernelspec": {
   "display_name": "Python 3 (ipykernel)",
   "language": "python",
   "name": "python3"
  },
  "language_info": {
   "codemirror_mode": {
    "name": "ipython",
    "version": 3
   },
   "file_extension": ".py",
   "mimetype": "text/x-python",
   "name": "python",
   "nbconvert_exporter": "python",
   "pygments_lexer": "ipython3",
   "version": "3.11.4"
  }
 },
 "nbformat": 4,
 "nbformat_minor": 5
}
