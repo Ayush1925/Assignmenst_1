{
 "cells": [
  {
   "cell_type": "markdown",
   "id": "63b42fa1",
   "metadata": {},
   "source": [
    "## 1. In the below elements which of them are values or an expression? eg:- values can be\n",
    "## integer or string and expressions will be mathematical operators.\n"
   ]
  },
  {
   "cell_type": "raw",
   "id": "21d6e440",
   "metadata": {},
   "source": [
    "*\n",
    "\n",
    "'hello'\n",
    "\n",
    "-87.8\n",
    "\n",
    " -\n",
    "\n",
    " /\n",
    "\n",
    " +\n",
    "\n",
    " 6"
   ]
  },
  {
   "cell_type": "raw",
   "id": "adf9b165",
   "metadata": {},
   "source": [
    "Answer : \n",
    "    Values are       : 'hello' , -87.8 , 6\n",
    "    Expressions are  : * , - , / , +"
   ]
  },
  {
   "cell_type": "code",
   "execution_count": null,
   "id": "760c07aa",
   "metadata": {},
   "outputs": [],
   "source": []
  },
  {
   "cell_type": "markdown",
   "id": "c6c2c442",
   "metadata": {},
   "source": [
    "## 2. What is the difference between string and variable?"
   ]
  },
  {
   "cell_type": "markdown",
   "id": "370be237",
   "metadata": {},
   "source": [
    "A string is one of many types of values. Strings represent texts. Integers represent whole numbers, etc. \n",
    "\n",
    "str = \"Hello Kiddo\" \n",
    "Here \"Hello Kiddo\" is a String\n",
    "\n",
    "A variable is a “place” where you can store any of these types of values, but is not in itself a value.\n",
    "\n",
    "x = 20\n",
    "Here x is a variable"
   ]
  },
  {
   "cell_type": "code",
   "execution_count": null,
   "id": "463c1ac9",
   "metadata": {},
   "outputs": [],
   "source": []
  },
  {
   "cell_type": "markdown",
   "id": "a6329f5b",
   "metadata": {},
   "source": [
    "## 3. Describe three different data types."
   ]
  },
  {
   "cell_type": "markdown",
   "id": "a98282df",
   "metadata": {},
   "source": [
    "Data types are the classification of data items. Data types represents a kind of value which determines what can be done to that data."
   ]
  },
  {
   "cell_type": "raw",
   "id": "da07937f",
   "metadata": {},
   "source": [
    "a. Integers : Integers are whole numbers, without a fractional component. They can be positive or negative.\n",
    "              eg: x = 7\n",
    "            \n",
    "b. Floats   : Floats represent the real numbers and are written with a decimal point.\n",
    "              eg: x = 7.7\n",
    "\n",
    "c. Strings  : Strings in Python are arrays of bytes representing Unicode characters. A string is a collection of one or more                   characters put in a single quote, double-quote, or triple-quote.\n",
    "              eg: x = \"Hello Kiddo\"\n",
    "           \n",
    "d. Lists    : Lists are just like arrays, declared in other languages which is an ordered collection of data. It is very                       flexible as the items in a list do not need to be of the same type. \n",
    "              Lists are mutable, which means their elements can be changed(added,modified or deleted) after they are created.\n",
    "              Lists are Heterogeneous: The items stored can be of any type numeric, string, boolean, objects, etc\n",
    "              A list is created by placing items (elements) inside square brackets [], separated by commas."
   ]
  },
  {
   "cell_type": "code",
   "execution_count": 3,
   "id": "0b7228ed",
   "metadata": {},
   "outputs": [
    {
     "name": "stdout",
     "output_type": "stream",
     "text": [
      "['Apple', 1]\n"
     ]
    }
   ],
   "source": [
    "Fruits = [\"Apple\",1]\n",
    "print(Fruits)"
   ]
  },
  {
   "cell_type": "markdown",
   "id": "079541e5",
   "metadata": {},
   "source": [
    "e. Tuples\n",
    "\n",
    "Definition: A tuple in Python is similar to a list. It's an ordered collection of items.\n",
    "\n",
    "Immutable: The major difference from lists is that tuples are immutable, which means their elements cannot be changed (no addition, modification, or deletion) after they are created.\n",
    "Creation: A tuple is created by placing items (elements) inside parentheses (), separated by commas.\n",
    "Heterogeneous Elements: Like lists, a tuple can also contain elements of different types: integers, floats, strings, and even other tuples or lists."
   ]
  },
  {
   "cell_type": "code",
   "execution_count": 4,
   "id": "4240664a",
   "metadata": {},
   "outputs": [
    {
     "name": "stdout",
     "output_type": "stream",
     "text": [
      "(1, 2, 3, 4, 5)\n"
     ]
    }
   ],
   "source": [
    "my_tuple = (1, 2, 3, 4, 5)\n",
    "print(my_tuple)"
   ]
  },
  {
   "cell_type": "markdown",
   "id": "bd1f3e21",
   "metadata": {},
   "source": [
    "f.  Dictionaries\n",
    "\n",
    "Definition: A dictionary in Python is an unordered collection of items. Each item stored in a dictionary has a key and value, making it a key-value pair.\n",
    "\n",
    "Mutable: Dictionaries are mutable, which means you can change their elements. You can add, modify, or delete key-value pairs from a dictionary.\n",
    "\n",
    "Creation: A dictionary is created by placing items (key-value pairs) inside curly braces {}, separated by commas. Each item is a pair made up of a key and a value, separated by a colon :.\n",
    "\n",
    "Heterogeneous Elements: Keys and values in a dictionary can be of any type. Values can be heterogeneous, but keys should be of an immutable type (like string, number, or tuple).\n",
    "\n",
    "Unique Keys: Each key in a dictionary should be unique. If a dictionary is created with duplicate keys, the last assignment will overwrite the previous ones.\n",
    "\n",
    "Accessing Values: You can access a value in a dictionary by providing the corresponding key inside square brackets [].\n",
    "\n",
    "Updating Values: You can update the value for a particular key by using the assignment operator =.\n",
    "\n",
    "Adding and Deleting Key-Value Pairs: You can add a new key-value pair simply by assigning a value to a new key. You can delete a key-value pair using the del keyword."
   ]
  },
  {
   "cell_type": "code",
   "execution_count": 5,
   "id": "8570c421",
   "metadata": {},
   "outputs": [
    {
     "name": "stdout",
     "output_type": "stream",
     "text": [
      "{'name': 'Alice', 'age': 25}\n"
     ]
    }
   ],
   "source": [
    "person = {\"name\": \"Alice\", \"age\": 25}\n",
    "print(person)"
   ]
  },
  {
   "cell_type": "code",
   "execution_count": 7,
   "id": "f6864e34",
   "metadata": {},
   "outputs": [
    {
     "name": "stdout",
     "output_type": "stream",
     "text": [
      "Alice\n"
     ]
    }
   ],
   "source": [
    "person = {\"name\": \"Alice\", \"age\": 25}\n",
    "print(person[\"name\"])"
   ]
  },
  {
   "cell_type": "code",
   "execution_count": 8,
   "id": "e39131a1",
   "metadata": {},
   "outputs": [
    {
     "name": "stdout",
     "output_type": "stream",
     "text": [
      "{'name': 'Kiddo', 'age': 25}\n"
     ]
    }
   ],
   "source": [
    "person = {\"name\": \"Alice\", \"age\": 25}\n",
    "person[\"name\"] = \"Kiddo\"\n",
    "print(person)"
   ]
  },
  {
   "cell_type": "code",
   "execution_count": 10,
   "id": "85184d84",
   "metadata": {},
   "outputs": [
    {
     "name": "stdout",
     "output_type": "stream",
     "text": [
      "{'name': 'Alice'}\n"
     ]
    }
   ],
   "source": [
    "person = {\"name\": \"Alice\", \"age\": 25}\n",
    "del person[\"age\"]\n",
    "printa(person)"
   ]
  },
  {
   "cell_type": "markdown",
   "id": "941faedc",
   "metadata": {},
   "source": [
    "g.  Sets: A set is an unordered collection of items where every element is unique."
   ]
  },
  {
   "cell_type": "code",
   "execution_count": 12,
   "id": "35cd3cbf",
   "metadata": {},
   "outputs": [
    {
     "name": "stdout",
     "output_type": "stream",
     "text": [
      "{'blue', 'red', 'green'}\n"
     ]
    }
   ],
   "source": [
    "colors = {\"red\", \"green\", \"blue\"}\n",
    "print(colors)"
   ]
  },
  {
   "cell_type": "code",
   "execution_count": null,
   "id": "6675f7ac",
   "metadata": {},
   "outputs": [],
   "source": []
  },
  {
   "cell_type": "markdown",
   "id": "a13f80d8",
   "metadata": {},
   "source": [
    "## 4. What is an expression made up of? What do all expressions do?"
   ]
  },
  {
   "cell_type": "markdown",
   "id": "b6e792ca",
   "metadata": {},
   "source": [
    "An expression is a combination of values, variables, operators, and calls to functions. Expressions need to be evaluated. If you ask Python to print an expression, the interpreter evaluates the expression and displays the result."
   ]
  },
  {
   "cell_type": "code",
   "execution_count": 13,
   "id": "48ff7ba7",
   "metadata": {},
   "outputs": [
    {
     "name": "stdout",
     "output_type": "stream",
     "text": [
      "Hello\n",
      "5\n"
     ]
    }
   ],
   "source": [
    "print(\"Hello\")\n",
    "print(len(\"Hello\"))"
   ]
  },
  {
   "cell_type": "code",
   "execution_count": null,
   "id": "57fb7dd9",
   "metadata": {},
   "outputs": [],
   "source": []
  },
  {
   "cell_type": "markdown",
   "id": "90a3e10a",
   "metadata": {},
   "source": [
    "## 5. This assignment statements, like spam = 10. What is the difference between an\n",
    "## expression and a statement?"
   ]
  },
  {
   "cell_type": "markdown",
   "id": "5be3d2dc",
   "metadata": {},
   "source": [
    "An expression evaluates to a value. A statement does something. An expression is something that can be reduced to a value, for example \"1+3\" is an expression, but \"foo = 1+3\" is not."
   ]
  },
  {
   "cell_type": "code",
   "execution_count": 18,
   "id": "245721d6",
   "metadata": {},
   "outputs": [
    {
     "name": "stdout",
     "output_type": "stream",
     "text": [
      "2\n"
     ]
    }
   ],
   "source": [
    "#x + 2         # an expression\n",
    "x = 1         # a statement \n",
    "y = x + 1     # a statement\n",
    "print(y)       # a statement (in 2.x)"
   ]
  },
  {
   "cell_type": "code",
   "execution_count": null,
   "id": "06694a8f",
   "metadata": {},
   "outputs": [],
   "source": []
  },
  {
   "cell_type": "markdown",
   "id": "4b27084d",
   "metadata": {},
   "source": [
    "## 6. After running the following code, what does the variable bacon contain?\n",
    "\n",
    "   ## bacon = 22\n",
    "\n",
    "   ## bacon + 1"
   ]
  },
  {
   "cell_type": "markdown",
   "id": "c0371833",
   "metadata": {},
   "source": [
    "The bacon variable is set to 22. The bacon + 1 expression does not reassign the value in bacon (that would need an assignment statement: bacon = bacon + 1)"
   ]
  },
  {
   "cell_type": "code",
   "execution_count": 20,
   "id": "4dc331cd",
   "metadata": {},
   "outputs": [
    {
     "name": "stdout",
     "output_type": "stream",
     "text": [
      "22\n"
     ]
    }
   ],
   "source": [
    "bacon = 22\n",
    "bacon + 1\n",
    "print(bacon)"
   ]
  },
  {
   "cell_type": "markdown",
   "id": "6679ebf5",
   "metadata": {},
   "source": [
    "## 7. What should the values of the following two terms be?\n",
    " \n",
    "  ## 'spam' + 'spamspam'\n",
    "  ## 'spam' * 3"
   ]
  },
  {
   "cell_type": "markdown",
   "id": "d298929d",
   "metadata": {},
   "source": [
    "Both expressions evaluate to the string 'spamspamspam'"
   ]
  },
  {
   "cell_type": "code",
   "execution_count": 23,
   "id": "d8da4a05",
   "metadata": {},
   "outputs": [
    {
     "data": {
      "text/plain": [
       "'spamspamspam'"
      ]
     },
     "execution_count": 23,
     "metadata": {},
     "output_type": "execute_result"
    }
   ],
   "source": [
    "'spam' + 'spamspam'"
   ]
  },
  {
   "cell_type": "code",
   "execution_count": 24,
   "id": "492c0f30",
   "metadata": {},
   "outputs": [
    {
     "data": {
      "text/plain": [
       "'spamspamspam'"
      ]
     },
     "execution_count": 24,
     "metadata": {},
     "output_type": "execute_result"
    }
   ],
   "source": [
    "'spam' * 3"
   ]
  },
  {
   "cell_type": "code",
   "execution_count": null,
   "id": "8deff9cd",
   "metadata": {},
   "outputs": [],
   "source": []
  },
  {
   "cell_type": "markdown",
   "id": "97452910",
   "metadata": {},
   "source": [
    "## 8. Why is eggs a valid variable name while 100 is invalid?"
   ]
  },
  {
   "cell_type": "markdown",
   "id": "eb2946d4",
   "metadata": {},
   "source": [
    "Variable names cannot begin with a number."
   ]
  },
  {
   "cell_type": "code",
   "execution_count": null,
   "id": "b88c1dde",
   "metadata": {},
   "outputs": [],
   "source": []
  },
  {
   "cell_type": "markdown",
   "id": "049b686b",
   "metadata": {},
   "source": [
    "## 9. What three functions can be used to get the integer, floating-point number, or string\n",
    "## version of a value?"
   ]
  },
  {
   "cell_type": "markdown",
   "id": "817e767e",
   "metadata": {},
   "source": [
    "The int(), float(), and str() functions will evaluate to the integer, floating-point number, and string versions of the value passed to them."
   ]
  },
  {
   "cell_type": "code",
   "execution_count": null,
   "id": "a397cce6",
   "metadata": {},
   "outputs": [],
   "source": []
  },
  {
   "cell_type": "markdown",
   "id": "2e829e78",
   "metadata": {},
   "source": [
    "## 10. Why does this expression cause an error? How can you fix it?\n",
    " \n",
    "   ## 'I have eaten ' + 99 + ' burritos.'\n"
   ]
  },
  {
   "cell_type": "markdown",
   "id": "7e27e887",
   "metadata": {},
   "source": [
    "The expression causes an error because 99 is an integer, and only strings can be concatenated to other strings with the + operator. The correct way is I have eaten ' + str(99) + ' burritos.'."
   ]
  },
  {
   "cell_type": "code",
   "execution_count": 28,
   "id": "75d59ee0",
   "metadata": {},
   "outputs": [
    {
     "name": "stdout",
     "output_type": "stream",
     "text": [
      "I have eaten 99 burritos\n"
     ]
    }
   ],
   "source": [
    "print('I have eaten'\" \"  + str(99) + \" \" 'burritos')"
   ]
  },
  {
   "cell_type": "code",
   "execution_count": null,
   "id": "5870ef98",
   "metadata": {},
   "outputs": [],
   "source": []
  }
 ],
 "metadata": {
  "kernelspec": {
   "display_name": "Python 3 (ipykernel)",
   "language": "python",
   "name": "python3"
  },
  "language_info": {
   "codemirror_mode": {
    "name": "ipython",
    "version": 3
   },
   "file_extension": ".py",
   "mimetype": "text/x-python",
   "name": "python",
   "nbconvert_exporter": "python",
   "pygments_lexer": "ipython3",
   "version": "3.11.3"
  }
 },
 "nbformat": 4,
 "nbformat_minor": 5
}
