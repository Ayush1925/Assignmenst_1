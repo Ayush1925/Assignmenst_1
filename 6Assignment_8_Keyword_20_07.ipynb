{
 "cells": [
  {
   "cell_type": "markdown",
   "id": "c4e1399c",
   "metadata": {},
   "source": [
    "## Q.1. What are keywords in python? Using the keyword library, print all the python keywords."
   ]
  },
  {
   "cell_type": "markdown",
   "id": "072cc1b8",
   "metadata": {},
   "source": [
    "Keywords in Python"
   ]
  },
  {
   "cell_type": "markdown",
   "id": "e35de225",
   "metadata": {},
   "source": [
    "# Here are the key points related to keywords in Python:\n",
    "\n",
    "Definition: Keywords in Python are reserved words that cannot be used as ordinary identifiers. They are used to define the syntax and structure of the Python language.\n",
    "\n",
    "Immutability: Keywords are immutable. This means their meaning and definition can't be altered.\n",
    "\n",
    "Case Sensitivity: Keywords are case-sensitive. For example, True is a valid keyword, but true is not.\n",
    "\n",
    "Total Number: As of Python 3.9, there are 35 keywords.\n",
    "\n",
    "List of Keywords: The complete list of Python keywords are False, None, True, and, as, assert, async, await, break, class, continue, def, del, elif, else, except, finally, for, from, global, if, import, in, is, lambda, nonlocal, not, or, pass, raise, return, try, while, with, yield.\n",
    "\n",
    "Special Keywords: async and await are used for handling asynchronous processing, and they became keywords in Python 3.7.\n",
    "\n",
    "Usage: Each keyword has a specific meaning and usage in Python programming. For instance, def is used for defining functions, if is used for making conditional statements, for and while are used for loops, class is used for defining a class, and so on.\n",
    "\n",
    "Identifying Keywords: You can get the list of all keywords in Python by using the following code:"
   ]
  },
  {
   "cell_type": "code",
   "execution_count": 2,
   "id": "388f1f13",
   "metadata": {},
   "outputs": [
    {
     "name": "stdout",
     "output_type": "stream",
     "text": [
      "['False', 'None', 'True', 'and', 'as', 'assert', 'async', 'await', 'break', 'class', 'continue', 'def', 'del', 'elif', 'else', 'except', 'finally', 'for', 'from', 'global', 'if', 'import', 'in', 'is', 'lambda', 'nonlocal', 'not', 'or', 'pass', 'raise', 'return', 'try', 'while', 'with', 'yield']\n"
     ]
    }
   ],
   "source": [
    "import keyword\n",
    "print(keyword.kwlist)"
   ]
  },
  {
   "cell_type": "code",
   "execution_count": null,
   "id": "771e173b",
   "metadata": {},
   "outputs": [],
   "source": []
  },
  {
   "cell_type": "markdown",
   "id": "a36046f7",
   "metadata": {},
   "source": [
    "## Q.2. What are the rules to create variables in python?"
   ]
  },
  {
   "cell_type": "markdown",
   "id": "4ada81f9",
   "metadata": {},
   "source": [
    "1. A variable name must start with a letter or the underscore character\n",
    "\n",
    "2. A variable name cannot start with a number\n",
    "\n",
    "3. A variable name can only contain alpha-numeric characters and underscores (A-z, 0-9, and _ )\n",
    "\n",
    "4. Variable names are case-sensitive (age, Age and AGE are three different variables)"
   ]
  },
  {
   "cell_type": "markdown",
   "id": "bafa71ae",
   "metadata": {},
   "source": [
    "0x = Variable cannot start with numbers\n",
    "\n",
    "x,_name = these are example of variables\n",
    "\n",
    "Age,AGE = Both variables are different."
   ]
  },
  {
   "cell_type": "code",
   "execution_count": null,
   "id": "c322356f",
   "metadata": {},
   "outputs": [],
   "source": []
  },
  {
   "cell_type": "markdown",
   "id": "fd39f6be",
   "metadata": {},
   "source": [
    "## Q.3. What are the standards and conventions followed for the nomenclature of variables in python to improve code readability and maintainability?"
   ]
  },
  {
   "cell_type": "markdown",
   "id": "f22302b5",
   "metadata": {},
   "source": [
    "NAMING CONVENTIONS\n",
    "\n",
    "Use grammatically correct variable names, the class name should start with an uppercase and must follow camelCase convention If more than two words are to be used. In the same way, a function name should be joined with an underscore, and it must be lowercase."
   ]
  },
  {
   "cell_type": "code",
   "execution_count": 8,
   "id": "c09a0ac4",
   "metadata": {},
   "outputs": [],
   "source": [
    "class StudentDetails:\n",
    "                \n",
    "    def __init__(self, first_name, last_name):\n",
    "        self.first_name = first_name\n",
    "        self.last_name = last_name"
   ]
  },
  {
   "cell_type": "code",
   "execution_count": null,
   "id": "139ecf5b",
   "metadata": {},
   "outputs": [],
   "source": []
  },
  {
   "cell_type": "markdown",
   "id": "21659fbc",
   "metadata": {},
   "source": [
    "## Q.4. What will happen if a keyword is used as a variable name?"
   ]
  },
  {
   "cell_type": "markdown",
   "id": "ecae9cfe",
   "metadata": {},
   "source": [
    "we cannot use them as variable names. We'll get a SyntaxError if we try to do that."
   ]
  },
  {
   "cell_type": "code",
   "execution_count": 2,
   "id": "1434c6ce",
   "metadata": {},
   "outputs": [
    {
     "ename": "SyntaxError",
     "evalue": "invalid syntax (3576177248.py, line 1)",
     "output_type": "error",
     "traceback": [
      "\u001b[1;36m  Cell \u001b[1;32mIn[2], line 1\u001b[1;36m\u001b[0m\n\u001b[1;33m    import = \"Hallo\" #import is an inbuilt function, When I used as a varible it shows \"SyntaxError\"\u001b[0m\n\u001b[1;37m           ^\u001b[0m\n\u001b[1;31mSyntaxError\u001b[0m\u001b[1;31m:\u001b[0m invalid syntax\n"
     ]
    }
   ],
   "source": [
    "import = \"Hallo\" #import is an inbuilt function, When I used as a varible it shows \"SyntaxError\"\n",
    "print(list)"
   ]
  },
  {
   "cell_type": "code",
   "execution_count": null,
   "id": "5fa64e21",
   "metadata": {},
   "outputs": [],
   "source": []
  },
  {
   "cell_type": "markdown",
   "id": "96c025b5",
   "metadata": {},
   "source": [
    "## Q.5. For what purpose def keyword is used?"
   ]
  },
  {
   "cell_type": "markdown",
   "id": "58719b57",
   "metadata": {},
   "source": [
    "Python def keyword is used to define a function, it is placed before a function name that is provided by the user to create a user-defined function."
   ]
  },
  {
   "cell_type": "code",
   "execution_count": 3,
   "id": "e98a5b9b",
   "metadata": {},
   "outputs": [
    {
     "name": "stdout",
     "output_type": "stream",
     "text": [
      "[2, 3]\n"
     ]
    }
   ],
   "source": [
    "# Example:\n",
    "\n",
    "list1 = [1,2,3]\n",
    "del list1[0]   #del Keyword for deleating.\n",
    "print(list1)"
   ]
  },
  {
   "cell_type": "code",
   "execution_count": null,
   "id": "5eb648b3",
   "metadata": {},
   "outputs": [],
   "source": []
  },
  {
   "cell_type": "markdown",
   "id": "da662b19",
   "metadata": {},
   "source": [
    "## Q.6. What is the operation of this special character ‘\\’?"
   ]
  },
  {
   "cell_type": "raw",
   "id": "1ba42d8c",
   "metadata": {},
   "source": [
    "In Python, end of a statement is marked by a newline character. \n",
    "\n",
    "But we can make a statement extend over multiple lines with the line continuation character (\\)"
   ]
  },
  {
   "cell_type": "code",
   "execution_count": 4,
   "id": "c05ad9e3",
   "metadata": {},
   "outputs": [
    {
     "name": "stdout",
     "output_type": "stream",
     "text": [
      "15\n"
     ]
    }
   ],
   "source": [
    "s = 1 + 2 + 3 + \\\n",
    "    4 + 5\n",
    "print(s)"
   ]
  },
  {
   "cell_type": "code",
   "execution_count": null,
   "id": "e7269795",
   "metadata": {},
   "outputs": [],
   "source": []
  },
  {
   "cell_type": "markdown",
   "id": "28e2fbf7",
   "metadata": {},
   "source": [
    "## Q.7. Give an example of the following conditions:\n",
    "\n",
    "## (i) Homogeneous list\n",
    "\n",
    "## (ii) Heterogeneous set\n",
    "\n",
    "## (iii) Homogeneous tuple"
   ]
  },
  {
   "cell_type": "code",
   "execution_count": 23,
   "id": "dab6ce33",
   "metadata": {},
   "outputs": [],
   "source": [
    "# Homogeneous list\n",
    "\n",
    "list1 = [\"Apple\",\"Ayush\",\"Kiddo\"] #containing only string type data"
   ]
  },
  {
   "cell_type": "code",
   "execution_count": 22,
   "id": "047bcf8b",
   "metadata": {},
   "outputs": [],
   "source": [
    "# Heterogeneous set\n",
    "mixed_set = {'Hello', 101, -2, 'Bye'} # containing string type and int type"
   ]
  },
  {
   "cell_type": "code",
   "execution_count": 24,
   "id": "b252fabc",
   "metadata": {},
   "outputs": [],
   "source": [
    "#Homogeneous tuple\n",
    "tuple_1 = (1, 2, 3, 2) # containing only int type"
   ]
  },
  {
   "cell_type": "code",
   "execution_count": null,
   "id": "4603a838",
   "metadata": {},
   "outputs": [],
   "source": []
  },
  {
   "cell_type": "markdown",
   "id": "ef091cbe",
   "metadata": {},
   "source": [
    "## Q.8. Explain the mutable and immutable data types with proper explanation & examples."
   ]
  },
  {
   "cell_type": "markdown",
   "id": "c1091134",
   "metadata": {},
   "source": [
    "An object that allows you to change its values without changing its identity is a mutable object. The changes that you can perform on a mutable object's value are known as mutations. In contrast, an object that doesn't allow changes in its value is an immutable object."
   ]
  },
  {
   "cell_type": "raw",
   "id": "1adc550a",
   "metadata": {},
   "source": [
    "Objects of built-in type that are mutable are:\n",
    "\n",
    "Lists\n",
    "Sets\n",
    "Dictionaries\n",
    "User-Defined Classes (It purely depends upon the user to define the characteristics) "
   ]
  },
  {
   "cell_type": "raw",
   "id": "36585251",
   "metadata": {},
   "source": [
    "Objects of built-in type that are immutable are:\n",
    "\n",
    "Numbers (Integer, Rational, Float, Decimal, Complex & Booleans)\n",
    "Strings\n",
    "Tuples\n",
    "Frozen Sets\n",
    "User-Defined Classes (It purely depends upon the user to define the characteristics)"
   ]
  },
  {
   "cell_type": "code",
   "execution_count": 26,
   "id": "c9034322",
   "metadata": {},
   "outputs": [
    {
     "name": "stdout",
     "output_type": "stream",
     "text": [
      "[1, 2, 3, 4, 5]\n"
     ]
    }
   ],
   "source": [
    "list1 = [1,2,3,4] #lists are mutable\n",
    "list1.append(5)   #we can change the list once it declared it\n",
    "print(list1)"
   ]
  },
  {
   "cell_type": "code",
   "execution_count": 29,
   "id": "61be1efc",
   "metadata": {},
   "outputs": [
    {
     "name": "stdout",
     "output_type": "stream",
     "text": [
      "{101, 'Hello', 8, 'Bye', -2}\n"
     ]
    }
   ],
   "source": [
    "mixed_set = {'Hello', 101, -2, 'Bye'} # sets are mutable\n",
    "mixed_set.add(8)                      # we can change it once it declared\n",
    "print(mixed_set)"
   ]
  },
  {
   "cell_type": "code",
   "execution_count": 31,
   "id": "7d40b41b",
   "metadata": {},
   "outputs": [
    {
     "name": "stdout",
     "output_type": "stream",
     "text": [
      "{'Name': 'Ayush', 'Age': 28}\n"
     ]
    }
   ],
   "source": [
    "Dict_1 = {'Name':'Ayush'} # Dictionaries are mutable\n",
    "Dict_1['Age'] = 28        # we can change it once it declared\n",
    "print(Dict_1)"
   ]
  },
  {
   "cell_type": "code",
   "execution_count": 34,
   "id": "c28d9ab6",
   "metadata": {},
   "outputs": [],
   "source": [
    "tup_1 = (1,2,3) # tuple is an immutable, Cannot change the value once it declare."
   ]
  },
  {
   "cell_type": "code",
   "execution_count": null,
   "id": "e67bd997",
   "metadata": {},
   "outputs": [],
   "source": []
  },
  {
   "cell_type": "markdown",
   "id": "f7e7fa88",
   "metadata": {},
   "source": [
    "# Q.9. Write a code to create the given structure using only for loop."
   ]
  },
  {
   "cell_type": "raw",
   "id": "6da84715",
   "metadata": {},
   "source": [
    "    *\n",
    "   ***\n",
    "  *****\n",
    " *******\n",
    "*********"
   ]
  },
  {
   "cell_type": "code",
   "execution_count": 1,
   "id": "f09cd48a",
   "metadata": {},
   "outputs": [
    {
     "name": "stdout",
     "output_type": "stream",
     "text": [
      "        * \n",
      "      * * * \n",
      "    * * * * * \n",
      "  * * * * * * * \n",
      "* * * * * * * * * \n"
     ]
    }
   ],
   "source": [
    "for i in range(5):          # row define\n",
    "    for j in range(5-1-i):  # space calculation\n",
    "        print(' ',end=\" \")  # print space\n",
    "    for j in range(2*i+1):  # coloum define\n",
    "        print('*',end=\" \")  # print *\n",
    "    print('\\r')             # new line"
   ]
  },
  {
   "cell_type": "code",
   "execution_count": null,
   "id": "fa3119ae",
   "metadata": {},
   "outputs": [],
   "source": []
  },
  {
   "cell_type": "markdown",
   "id": "1f8f7df0-07e8-4fed-861b-436d40088cb6",
   "metadata": {},
   "source": [
    "## Q.10. Write a code to create the given structure using while loop."
   ]
  },
  {
   "cell_type": "raw",
   "id": "b17cf00c-56cb-42c0-ad1f-20bb6b3e1524",
   "metadata": {},
   "source": [
    "|||||||||\n",
    " |||||||\n",
    "  |||||\n",
    "   |||\n",
    "    |"
   ]
  },
  {
   "cell_type": "code",
   "execution_count": 49,
   "id": "7d93eed0-5ced-4300-88d5-cfde5a89bf9f",
   "metadata": {},
   "outputs": [
    {
     "name": "stdout",
     "output_type": "stream",
     "text": [
      "| | | | | | | | | \n",
      "  | | | | | | | \n",
      "    | | | | | \n",
      "      | | | \n",
      "        | \n"
     ]
    }
   ],
   "source": [
    "n = 5\n",
    "i = 1\n",
    "while n > 0:\n",
    "    b = 1\n",
    "    while b < i:\n",
    "        print(' ', end=\" \")\n",
    "        b = b + 1\n",
    "    j = 1\n",
    "    while (j <= (n*2) - 1):\n",
    "        print('|',end=' ')\n",
    "        j = j+1\n",
    "    print()\n",
    "    n = n - 1\n",
    "    i = i + 1"
   ]
  },
  {
   "cell_type": "code",
   "execution_count": null,
   "id": "d92489b1-d083-4724-a951-4678203864b4",
   "metadata": {},
   "outputs": [],
   "source": []
  }
 ],
 "metadata": {
  "kernelspec": {
   "display_name": "Python 3 (ipykernel)",
   "language": "python",
   "name": "python3"
  },
  "language_info": {
   "codemirror_mode": {
    "name": "ipython",
    "version": 3
   },
   "file_extension": ".py",
   "mimetype": "text/x-python",
   "name": "python",
   "nbconvert_exporter": "python",
   "pygments_lexer": "ipython3",
   "version": "3.11.4"
  }
 },
 "nbformat": 4,
 "nbformat_minor": 5
}
