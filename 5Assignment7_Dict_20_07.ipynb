{
 "cells": [
  {
   "cell_type": "markdown",
   "id": "a544272b",
   "metadata": {},
   "source": [
    "## 1. What does an empty dictionary&#39;s code look like?"
   ]
  },
  {
   "cell_type": "markdown",
   "id": "40f1de5d",
   "metadata": {},
   "source": [
    "Two curly brackets: {}"
   ]
  },
  {
   "cell_type": "code",
   "execution_count": 4,
   "id": "952878cf",
   "metadata": {},
   "outputs": [
    {
     "data": {
      "text/plain": [
       "dict"
      ]
     },
     "execution_count": 4,
     "metadata": {},
     "output_type": "execute_result"
    }
   ],
   "source": [
    "Dic_1 = {}\n",
    "type(Dic_1)"
   ]
  },
  {
   "cell_type": "code",
   "execution_count": null,
   "id": "c3d76148",
   "metadata": {},
   "outputs": [],
   "source": []
  },
  {
   "cell_type": "markdown",
   "id": "3541e3fa",
   "metadata": {},
   "source": [
    "## 2. What is the value of a dictionary value with the key &#39;foo&#39; and the value 42?"
   ]
  },
  {
   "cell_type": "markdown",
   "id": "5e80c672",
   "metadata": {},
   "source": [
    "{'foo': 42}"
   ]
  },
  {
   "cell_type": "code",
   "execution_count": 5,
   "id": "a9d5bfd1",
   "metadata": {},
   "outputs": [
    {
     "name": "stdout",
     "output_type": "stream",
     "text": [
      "{'foo': 42}\n"
     ]
    }
   ],
   "source": [
    "Dic_2 = {'foo':42}\n",
    "print(Dic_2)"
   ]
  },
  {
   "cell_type": "code",
   "execution_count": null,
   "id": "cda54711",
   "metadata": {},
   "outputs": [],
   "source": []
  },
  {
   "cell_type": "markdown",
   "id": "ea5af633",
   "metadata": {},
   "source": [
    "## 3. What is the most significant distinction between a dictionary and a list?"
   ]
  },
  {
   "cell_type": "markdown",
   "id": "03ea2382",
   "metadata": {},
   "source": [
    "The items stored in a dictionary are unordered, while the items in a list are ordered."
   ]
  },
  {
   "cell_type": "code",
   "execution_count": 6,
   "id": "d433796f",
   "metadata": {},
   "outputs": [
    {
     "name": "stdout",
     "output_type": "stream",
     "text": [
      "[1, 3, 7, 3]\n",
      "{'Name': 'Ayush', 'Age': 29}\n"
     ]
    }
   ],
   "source": [
    "list1 = [1,3,7,3] #list\n",
    "print(list1)\n",
    "Dict_3 = {'Name':'Ayush','Age':29}\n",
    "print(Dict_3)"
   ]
  },
  {
   "cell_type": "code",
   "execution_count": null,
   "id": "632ab1b9",
   "metadata": {},
   "outputs": [],
   "source": []
  },
  {
   "cell_type": "markdown",
   "id": "add16e11",
   "metadata": {},
   "source": [
    "## 4. What happens if you try to access spam[&#39;foo&#39;] if spam is {&#39;bar&#39;: 100}?"
   ]
  },
  {
   "cell_type": "markdown",
   "id": "0d7fcfed",
   "metadata": {},
   "source": [
    "You get a KeyError error."
   ]
  },
  {
   "cell_type": "code",
   "execution_count": 7,
   "id": "d2c6e5b2",
   "metadata": {},
   "outputs": [
    {
     "ename": "KeyError",
     "evalue": "'foo'",
     "output_type": "error",
     "traceback": [
      "\u001b[1;31m---------------------------------------------------------------------------\u001b[0m",
      "\u001b[1;31mKeyError\u001b[0m                                  Traceback (most recent call last)",
      "Cell \u001b[1;32mIn[7], line 2\u001b[0m\n\u001b[0;32m      1\u001b[0m spam \u001b[38;5;241m=\u001b[39m {\u001b[38;5;124m'\u001b[39m\u001b[38;5;124mbar\u001b[39m\u001b[38;5;124m'\u001b[39m:\u001b[38;5;241m100\u001b[39m}\n\u001b[1;32m----> 2\u001b[0m \u001b[38;5;28mprint\u001b[39m(\u001b[43mspam\u001b[49m\u001b[43m[\u001b[49m\u001b[38;5;124;43m'\u001b[39;49m\u001b[38;5;124;43mfoo\u001b[39;49m\u001b[38;5;124;43m'\u001b[39;49m\u001b[43m]\u001b[49m)\n",
      "\u001b[1;31mKeyError\u001b[0m: 'foo'"
     ]
    }
   ],
   "source": [
    "spam = {'bar':100}\n",
    "print(spam['foo'])"
   ]
  },
  {
   "cell_type": "code",
   "execution_count": null,
   "id": "7f416885",
   "metadata": {},
   "outputs": [],
   "source": []
  },
  {
   "cell_type": "markdown",
   "id": "ce4c8693",
   "metadata": {},
   "source": [
    "## 5. If a dictionary is stored in spam, what is the difference between the expressions &#39;cat&#39; in spam and &#39;cat&#39; in spam.keys()?"
   ]
  },
  {
   "cell_type": "markdown",
   "id": "1cf4acd4",
   "metadata": {},
   "source": [
    "There is no difference. The in operator checks whether a value exists as a key in the dictionary. 'cat' in spam checks whether there is a 'cat' key in the dictionary, while 'cat' in spam. values() checks whether there is a value 'cat' for one of the keys in spam ."
   ]
  },
  {
   "cell_type": "code",
   "execution_count": null,
   "id": "2b4c2972",
   "metadata": {},
   "outputs": [],
   "source": []
  },
  {
   "cell_type": "markdown",
   "id": "8b571365",
   "metadata": {},
   "source": [
    "## 6. If a dictionary is stored in spam, what is the difference between the expressions &#39;cat&#39; in spam and &#39;cat&#39; in spam.values()?"
   ]
  },
  {
   "cell_type": "markdown",
   "id": "02d753d4",
   "metadata": {},
   "source": [
    "'cat' in spam checks whether there is a 'cat' key in the dictionary, while 'cat' in spam.values() checks whether there is a value 'cat' for one of the keys in spam."
   ]
  },
  {
   "cell_type": "code",
   "execution_count": null,
   "id": "6cb0a8bb",
   "metadata": {},
   "outputs": [],
   "source": []
  },
  {
   "cell_type": "markdown",
   "id": "54ef1d90",
   "metadata": {},
   "source": [
    "## 7. What is a shortcut for the following code?\n",
    "## if &#39;color&#39; not in spam:\n",
    "## spam[&#39;color&#39;] = &#39;black&#39;"
   ]
  },
  {
   "cell_type": "markdown",
   "id": "1e06baf1",
   "metadata": {},
   "source": [
    "spam.setdefault('color', 'black')"
   ]
  },
  {
   "cell_type": "code",
   "execution_count": 17,
   "id": "2bddeb59",
   "metadata": {},
   "outputs": [
    {
     "name": "stdout",
     "output_type": "stream",
     "text": [
      "{'color': 'black'}\n"
     ]
    }
   ],
   "source": [
    "spam = {}\n",
    "if 'color' not in spam:\n",
    "    spam['color'] = 'black'\n",
    "    print(spam)"
   ]
  },
  {
   "cell_type": "code",
   "execution_count": 18,
   "id": "377c8202",
   "metadata": {},
   "outputs": [
    {
     "name": "stdout",
     "output_type": "stream",
     "text": [
      "{'color': 'black'}\n"
     ]
    }
   ],
   "source": [
    "spam = {}\n",
    "spam.setdefault('color','black')\n",
    "print(spam)"
   ]
  },
  {
   "cell_type": "code",
   "execution_count": null,
   "id": "7c5bf7a6",
   "metadata": {},
   "outputs": [],
   "source": []
  },
  {
   "cell_type": "markdown",
   "id": "ba69bdf2",
   "metadata": {},
   "source": [
    "## 8. How do you &quot;pretty print&quot; dictionary values using which module and function?"
   ]
  },
  {
   "cell_type": "markdown",
   "id": "49564715",
   "metadata": {},
   "source": [
    "Answer : pprint.pprint()"
   ]
  },
  {
   "cell_type": "markdown",
   "id": "7cb0dedf-78b9-4f6a-830b-64f60529f9bd",
   "metadata": {},
   "source": [
    "\"Pretty print\" is a term used to describe the process of formatting data or code in a human-readable and well-organized way. It is commonly used to display structured data, such as JSON, XML, or Python data structures, in a format that is easy to read and understand."
   ]
  },
  {
   "cell_type": "markdown",
   "id": "301daa34-1e3b-4485-b479-130069361386",
   "metadata": {},
   "source": [
    "pprint.pprint() function indents the data structure and presents it in a more readable format. It is especially useful when dealing with complex nested data structures like dictionaries with multiple levels or lists of dictionaries."
   ]
  },
  {
   "cell_type": "code",
   "execution_count": 3,
   "id": "d4b6fa45-243b-4b82-98f5-7d1d9e24371c",
   "metadata": {},
   "outputs": [
    {
     "name": "stdout",
     "output_type": "stream",
     "text": [
      "{'AGE': 28,\n",
      " 'Address': {'City': 'Delhi', 'Pin': 10000235},\n",
      " 'Hobbies': ['Readin', 'Watching Movies'],\n",
      " 'Name': 'Ayush'}\n"
     ]
    }
   ],
   "source": [
    "import pprint\n",
    "data = {\"Name\":\"Ayush\",\"AGE\":28,\n",
    "        \"Address\":{\"City\":\"Delhi\",\"Pin\":10000235},\n",
    "        \"Hobbies\":[\"Readin\",\"Watching Movies\"]\n",
    "       }\n",
    "\n",
    "pprint.pprint(data)"
   ]
  },
  {
   "cell_type": "code",
   "execution_count": null,
   "id": "acb976b2-9eb4-4cdb-860c-ffe5f11e60a8",
   "metadata": {},
   "outputs": [],
   "source": []
  }
 ],
 "metadata": {
  "kernelspec": {
   "display_name": "Python 3 (ipykernel)",
   "language": "python",
   "name": "python3"
  },
  "language_info": {
   "codemirror_mode": {
    "name": "ipython",
    "version": 3
   },
   "file_extension": ".py",
   "mimetype": "text/x-python",
   "name": "python",
   "nbconvert_exporter": "python",
   "pygments_lexer": "ipython3",
   "version": "3.11.4"
  }
 },
 "nbformat": 4,
 "nbformat_minor": 5
}
