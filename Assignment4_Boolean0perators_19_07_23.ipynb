{
 "cells": [
  {
   "cell_type": "markdown",
   "id": "a7c11c7e",
   "metadata": {},
   "source": [
    "## 1.What are the two values of the Boolean data type? How do you write them?"
   ]
  },
  {
   "cell_type": "markdown",
   "id": "d5de740a",
   "metadata": {},
   "source": [
    "Python boolean type is one of the built-in data types provided by Python, which represents one of the two values i.e. True or False. Generally, it is used to represent the truth values of the expressions. For example, 1==1 is True whereas 2<1 is False."
   ]
  },
  {
   "cell_type": "code",
   "execution_count": 3,
   "id": "7ab5de80",
   "metadata": {},
   "outputs": [
    {
     "name": "stdout",
     "output_type": "stream",
     "text": [
      "False\n"
     ]
    }
   ],
   "source": [
    "x = 5\n",
    "y = 10\n",
    "print(bool(x==y))"
   ]
  },
  {
   "cell_type": "code",
   "execution_count": 4,
   "id": "b15b365c",
   "metadata": {},
   "outputs": [
    {
     "name": "stdout",
     "output_type": "stream",
     "text": [
      "True\n"
     ]
    }
   ],
   "source": [
    "x = 5\n",
    "y = 5\n",
    "print(bool(x==y))"
   ]
  },
  {
   "cell_type": "code",
   "execution_count": null,
   "id": "12156a90",
   "metadata": {},
   "outputs": [],
   "source": []
  },
  {
   "cell_type": "markdown",
   "id": "c90350ea",
   "metadata": {},
   "source": [
    "## 2. What are the three different types of Boolean operators?"
   ]
  },
  {
   "cell_type": "markdown",
   "id": "67ebe8cc",
   "metadata": {},
   "source": [
    "Python has three Boolean operators, or logical operators: \n",
    "                                                         \n",
    "                                                         and\n",
    "                                                         \n",
    "                                                         or\n",
    "                                                         \n",
    "                                                         not"
   ]
  },
  {
   "cell_type": "code",
   "execution_count": 10,
   "id": "3c1e4740",
   "metadata": {},
   "outputs": [
    {
     "name": "stdout",
     "output_type": "stream",
     "text": [
      "False\n",
      "True\n",
      "False\n"
     ]
    }
   ],
   "source": [
    "x = True\n",
    "y = False\n",
    "print(x and y)\n",
    "\n",
    "#------------------------\n",
    "a = True\n",
    "b = True\n",
    "print(a and b)\n",
    "\n",
    "#------------------------\n",
    "c = False\n",
    "d = False\n",
    "print(c and d)"
   ]
  },
  {
   "cell_type": "code",
   "execution_count": 11,
   "id": "f8490618",
   "metadata": {},
   "outputs": [
    {
     "name": "stdout",
     "output_type": "stream",
     "text": [
      "True\n",
      "True\n",
      "False\n"
     ]
    }
   ],
   "source": [
    "x = True\n",
    "y = False\n",
    "print(x or y)\n",
    "\n",
    "#------------------------\n",
    "a = True\n",
    "b = True\n",
    "print(a or b)\n",
    "\n",
    "#------------------------\n",
    "c = False\n",
    "d = False\n",
    "print(c or d)"
   ]
  },
  {
   "cell_type": "code",
   "execution_count": 16,
   "id": "ad5e0ea7",
   "metadata": {},
   "outputs": [
    {
     "name": "stdout",
     "output_type": "stream",
     "text": [
      "False\n",
      "False\n",
      "True\n"
     ]
    }
   ],
   "source": [
    "x = True\n",
    "print(not x)\n",
    "\n",
    "#------------------------\n",
    "b = True\n",
    "print(not b)\n",
    "\n",
    "#------------------------\n",
    "d = False\n",
    "print(not d)"
   ]
  },
  {
   "cell_type": "code",
   "execution_count": null,
   "id": "7ffa713e",
   "metadata": {},
   "outputs": [],
   "source": []
  },
  {
   "cell_type": "markdown",
   "id": "c58b0643",
   "metadata": {},
   "source": [
    "## 3. Make a list of each Boolean operator&#39;s truth tables (i.e. every possible combination     of Boolean values for the operator and what it evaluate )."
   ]
  },
  {
   "cell_type": "markdown",
   "id": "4c0b64ca",
   "metadata": {},
   "source": [
    "False and True   is False.\n",
    "\n",
    "False and False  is False.\n",
    "\n",
    "True  and True   is True.\n",
    "\n",
    "True  and False  is False\n",
    "\n",
    "True or True     is True.\n",
    "\n",
    "True or False    is True.\n",
    "\n",
    "False or True    is True.\n",
    "\n",
    "False or False   is False.\n",
    "\n",
    "not True         is False.\n",
    "\n",
    "not False        is True."
   ]
  },
  {
   "cell_type": "code",
   "execution_count": null,
   "id": "cfc6cce9",
   "metadata": {},
   "outputs": [],
   "source": []
  },
  {
   "cell_type": "markdown",
   "id": "1032c966",
   "metadata": {},
   "source": [
    "## 4. What are the values of the following expressions?"
   ]
  },
  {
   "cell_type": "raw",
   "id": "b1468304",
   "metadata": {},
   "source": [
    "1.  (5 > 4) and (3 == 5)\n",
    "\n",
    "2.  not (5 > 4)\n",
    "\n",
    "3.  (5 > 4) or (3 == 5)\n",
    "\n",
    "4.  not ((5 > 4) or (3 == 5))\n",
    "\n",
    "5.  (True and True) and (True == False)\n",
    "\n",
    "6.  (not False) or (not True)"
   ]
  },
  {
   "cell_type": "code",
   "execution_count": 23,
   "id": "2e7973b5",
   "metadata": {},
   "outputs": [
    {
     "name": "stdout",
     "output_type": "stream",
     "text": [
      "False\n"
     ]
    }
   ],
   "source": [
    "#Answer to 1 expression\n",
    "print((5 > 4) and (3 == 5))"
   ]
  },
  {
   "cell_type": "code",
   "execution_count": 24,
   "id": "fa7aca5c",
   "metadata": {},
   "outputs": [
    {
     "name": "stdout",
     "output_type": "stream",
     "text": [
      "False\n"
     ]
    }
   ],
   "source": [
    "#Answer to 2 expression\n",
    "print(not (5 > 4))"
   ]
  },
  {
   "cell_type": "code",
   "execution_count": 25,
   "id": "9ac50910",
   "metadata": {},
   "outputs": [
    {
     "name": "stdout",
     "output_type": "stream",
     "text": [
      "True\n"
     ]
    }
   ],
   "source": [
    "#Answer to 3 expression\n",
    "print((5 > 4) or (3 == 5))"
   ]
  },
  {
   "cell_type": "code",
   "execution_count": 26,
   "id": "332a5e77",
   "metadata": {},
   "outputs": [
    {
     "name": "stdout",
     "output_type": "stream",
     "text": [
      "False\n"
     ]
    }
   ],
   "source": [
    "#Anser to 4 expression\n",
    "print(not ((5 > 4) or (3 == 5)))"
   ]
  },
  {
   "cell_type": "code",
   "execution_count": 27,
   "id": "1f321c7b",
   "metadata": {},
   "outputs": [
    {
     "name": "stdout",
     "output_type": "stream",
     "text": [
      "False\n"
     ]
    }
   ],
   "source": [
    "#Answer to 5 expression\n",
    "print( (True and True) and (True == False))"
   ]
  },
  {
   "cell_type": "code",
   "execution_count": 28,
   "id": "c4fd2dcd",
   "metadata": {},
   "outputs": [
    {
     "name": "stdout",
     "output_type": "stream",
     "text": [
      "True\n"
     ]
    }
   ],
   "source": [
    "#Answer to 6 expression\n",
    "print((not False) or (not True))"
   ]
  },
  {
   "cell_type": "code",
   "execution_count": null,
   "id": "6c6fe631",
   "metadata": {},
   "outputs": [],
   "source": []
  },
  {
   "cell_type": "markdown",
   "id": "a35901b5",
   "metadata": {},
   "source": [
    "## 5. What are the six comparison operators?"
   ]
  },
  {
   "cell_type": "markdown",
   "id": "ed0c4452",
   "metadata": {},
   "source": [
    "Python has six comparison operators: \n",
    "1. less than ( < )\n",
    "2. less than or equal to ( <= )\n",
    "3. greater than ( > )\n",
    "4. greater than or equal to ( >= )\n",
    "5. equal to ( == )\n",
    "6. not equal to ( != )"
   ]
  },
  {
   "cell_type": "code",
   "execution_count": null,
   "id": "947425db",
   "metadata": {},
   "outputs": [],
   "source": []
  },
  {
   "cell_type": "markdown",
   "id": "7eee6676",
   "metadata": {},
   "source": [
    "## 6. How do you tell the difference between the equal to and assignment operators?Describe a condition and when you would use one."
   ]
  },
  {
   "cell_type": "markdown",
   "id": "a6dcb28b",
   "metadata": {},
   "source": [
    "\"=\" is used to assign the value. Example: x = 2, then value of x is 2. \"==\" is to show equality between values, Example x == y, here the value of y equal to x. = is used for assigning value eg- x=3 y=3. == is used for comparing whether the value is equal eg- if(x==y) comparing whether x is equal to y."
   ]
  },
  {
   "cell_type": "code",
   "execution_count": 32,
   "id": "57b0d4ef",
   "metadata": {},
   "outputs": [
    {
     "name": "stdout",
     "output_type": "stream",
     "text": [
      "10\n",
      "Not Equal\n"
     ]
    }
   ],
   "source": [
    "x = 5  #assigning a value\n",
    "y = 10 #assigning a value\n",
    "print(x+5)\n",
    "\n",
    "if x==y: #comparing both values\n",
    "    print(\"Eqaul\")\n",
    "else:\n",
    "    print(\"Not Equal\")"
   ]
  },
  {
   "cell_type": "code",
   "execution_count": null,
   "id": "fa2ff92d",
   "metadata": {},
   "outputs": [],
   "source": []
  },
  {
   "cell_type": "markdown",
   "id": "95b82c97",
   "metadata": {},
   "source": [
    "## 7. Identify the three blocks in this code:"
   ]
  },
  {
   "cell_type": "markdown",
   "id": "724c8f3c",
   "metadata": {},
   "source": [
    "spam = 0\n",
    "\n",
    "if spam == 10:\n",
    "\n",
    "print('eggs')\n",
    "\n",
    "if spam > 5:\n",
    "\n",
    "print('bacon')\n",
    "\n",
    "else:\n",
    "\n",
    "print('ham')\n",
    "\n",
    "print('spam')\n",
    "\n",
    "print('spam')"
   ]
  },
  {
   "cell_type": "markdown",
   "id": "009815b7",
   "metadata": {},
   "source": [
    "Answer: The three blocks are everything inside the if statement."
   ]
  },
  {
   "cell_type": "code",
   "execution_count": 42,
   "id": "a9e1a5d7",
   "metadata": {},
   "outputs": [
    {
     "name": "stdout",
     "output_type": "stream",
     "text": [
      "ham\n",
      "spam\n",
      "spam\n"
     ]
    }
   ],
   "source": [
    "#First Block : \n",
    "\n",
    "spam = 0\n",
    "if spam == 10:\n",
    "    print('eggs')\n",
    "    \n",
    "#-------------------\n",
    "\n",
    "#Second Block : \n",
    "\n",
    "if spam > 5:\n",
    "\n",
    "    print('bacon')\n",
    "    \n",
    "#-------------------\n",
    "\n",
    "#Third Block :\n",
    "\n",
    "else:\n",
    "\n",
    "    print('ham')\n",
    "\n",
    "    print('spam')\n",
    "\n",
    "    print('spam')\n",
    "    \n",
    "#-------------------"
   ]
  },
  {
   "cell_type": "code",
   "execution_count": null,
   "id": "69daa107",
   "metadata": {},
   "outputs": [],
   "source": []
  },
  {
   "cell_type": "markdown",
   "id": "f6c02b41",
   "metadata": {},
   "source": [
    "## 8. Write code that prints Hello if 1 is stored in spam, prints Howdy if 2 is stored in spam, and prints Greetings! if anything else is stored in spam."
   ]
  },
  {
   "cell_type": "code",
   "execution_count": 44,
   "id": "f272b076",
   "metadata": {},
   "outputs": [
    {
     "name": "stdout",
     "output_type": "stream",
     "text": [
      "Hello\n"
     ]
    }
   ],
   "source": [
    "spam = 1\n",
    "if spam == 1:\n",
    "    print(\"Hello\")\n",
    "elif spam == 2:\n",
    "    print(\"Howdy\")\n",
    "else:\n",
    "    print(\"Greeting\")"
   ]
  },
  {
   "cell_type": "code",
   "execution_count": 45,
   "id": "996f38c1",
   "metadata": {},
   "outputs": [
    {
     "name": "stdout",
     "output_type": "stream",
     "text": [
      "Howdy\n"
     ]
    }
   ],
   "source": [
    "spam = 2\n",
    "if spam == 1:\n",
    "    print(\"Hello\")\n",
    "elif spam == 2:\n",
    "    print(\"Howdy\")\n",
    "else:\n",
    "    print(\"Greeting\")"
   ]
  },
  {
   "cell_type": "code",
   "execution_count": 46,
   "id": "efbb172f",
   "metadata": {},
   "outputs": [
    {
     "name": "stdout",
     "output_type": "stream",
     "text": [
      "Greeting\n"
     ]
    }
   ],
   "source": [
    "spam = 3\n",
    "if spam == 1:\n",
    "    print(\"Hello\")\n",
    "elif spam == 2:\n",
    "    print(\"Howdy\")\n",
    "else:\n",
    "    print(\"Greeting\")"
   ]
  },
  {
   "cell_type": "code",
   "execution_count": null,
   "id": "91912cfc",
   "metadata": {},
   "outputs": [],
   "source": []
  },
  {
   "cell_type": "markdown",
   "id": "b8cbc0ab",
   "metadata": {},
   "source": [
    "## 9.If your programme is stuck in an endless loop, what keys you’ll press?"
   ]
  },
  {
   "cell_type": "markdown",
   "id": "9c3effa5",
   "metadata": {},
   "source": [
    "An infinite loop is a loop that runs indefinitely and it only stops with external intervention or when a break statement is found. You can stop an infinite loop with CTRL + C ."
   ]
  },
  {
   "cell_type": "code",
   "execution_count": null,
   "id": "8d72b17f",
   "metadata": {},
   "outputs": [],
   "source": []
  },
  {
   "cell_type": "markdown",
   "id": "f963bbf4",
   "metadata": {},
   "source": [
    "## 10. How can you tell the difference between break and continue?"
   ]
  },
  {
   "cell_type": "markdown",
   "id": "9ca9db85",
   "metadata": {},
   "source": [
    "The break statement will move the execution outside and just after a loop. The continue statement will move the execution to the start of the loop."
   ]
  },
  {
   "cell_type": "code",
   "execution_count": 48,
   "id": "60ee3643",
   "metadata": {},
   "outputs": [
    {
     "name": "stdout",
     "output_type": "stream",
     "text": [
      "0\n",
      "1\n",
      "2\n"
     ]
    }
   ],
   "source": [
    "##break statement\n",
    "##We can use the break statement with the for loop to terminate the loop when a certain condition is met.\n",
    "\n",
    "for i in range(5):\n",
    "    if(i==3):\n",
    "        break\n",
    "    print(i)"
   ]
  },
  {
   "cell_type": "code",
   "execution_count": 53,
   "id": "e6c0135b",
   "metadata": {},
   "outputs": [
    {
     "name": "stdout",
     "output_type": "stream",
     "text": [
      "0\n",
      "1\n",
      "2\n",
      "4\n"
     ]
    }
   ],
   "source": [
    "##continue statement\n",
    "##The continue statement is used to skip the current iteration of the loop and the control flow of the program goes to the \n",
    "##next iteration.\n",
    "\n",
    "for i in range(5):\n",
    "    if(i==3):\n",
    "        continue\n",
    "    print(i)"
   ]
  },
  {
   "cell_type": "code",
   "execution_count": null,
   "id": "362e6083",
   "metadata": {},
   "outputs": [],
   "source": []
  },
  {
   "cell_type": "markdown",
   "id": "a1407b4e",
   "metadata": {},
   "source": [
    "## 11. In a for loop, what is the difference between range(10), range(0, 10), and range(0, 10, 1)?"
   ]
  },
  {
   "cell_type": "markdown",
   "id": "bf0ec7f0",
   "metadata": {},
   "source": [
    ". They all do the same thing. The range(10) call ranges from 0 up to (but not including) 10.\n",
    ". range(0, 10) explicitly tells the loop to start at 0\n",
    ". range(0, 10, 1) explicitly tells the loop to increase the variable by 1 on each iteration."
   ]
  },
  {
   "cell_type": "code",
   "execution_count": 75,
   "id": "125c7051",
   "metadata": {},
   "outputs": [
    {
     "name": "stdout",
     "output_type": "stream",
     "text": [
      "0\n",
      "1\n",
      "2\n",
      "3\n",
      "4\n",
      "5\n",
      "6\n",
      "7\n",
      "8\n",
      "9\n",
      "     0\n",
      "     1\n",
      "     2\n",
      "     3\n",
      "     4\n",
      "     5\n",
      "     6\n",
      "     7\n",
      "     8\n",
      "     9\n",
      "0\n",
      "1\n",
      "2\n",
      "3\n",
      "4\n",
      "5\n",
      "6\n",
      "7\n",
      "8\n",
      "9\n"
     ]
    }
   ],
   "source": [
    "for i in range(10):\n",
    "    print(i)\n",
    "    #print(end=' ')\n",
    "for i in range(0,10):\n",
    "    print(end='     ')\n",
    "    print(i)\n",
    "for i in range(0,10,1):\n",
    "    print(i)"
   ]
  },
  {
   "cell_type": "code",
   "execution_count": null,
   "id": "ed891057",
   "metadata": {},
   "outputs": [],
   "source": []
  },
  {
   "cell_type": "markdown",
   "id": "cb790de6",
   "metadata": {},
   "source": [
    "## 12. Write a short program that prints the numbers 1 to 10 using a for loop. Then write an equivalent program that prints the numbers 1 to 10 using a while loop."
   ]
  },
  {
   "cell_type": "code",
   "execution_count": 77,
   "id": "b972de06",
   "metadata": {},
   "outputs": [
    {
     "name": "stdout",
     "output_type": "stream",
     "text": [
      "1\n",
      "2\n",
      "3\n",
      "4\n",
      "5\n",
      "6\n",
      "7\n",
      "8\n",
      "9\n",
      "10\n"
     ]
    }
   ],
   "source": [
    "#using for loop\n",
    "#-------------------\n",
    "\n",
    "for i in range(1,11):\n",
    "    print(i)"
   ]
  },
  {
   "cell_type": "code",
   "execution_count": 10,
   "id": "b99e4d36",
   "metadata": {},
   "outputs": [
    {
     "name": "stdout",
     "output_type": "stream",
     "text": [
      "1\n",
      "2\n",
      "3\n",
      "4\n",
      "5\n",
      "6\n",
      "7\n",
      "8\n",
      "9\n",
      "10\n"
     ]
    }
   ],
   "source": [
    "#using while loop\n",
    "#-------------------\n",
    "\n",
    "x = 1\n",
    "while x <= 10:\n",
    "    print(x)\n",
    "    x += 1"
   ]
  },
  {
   "cell_type": "code",
   "execution_count": null,
   "id": "6d4f06fd",
   "metadata": {},
   "outputs": [],
   "source": []
  },
  {
   "cell_type": "markdown",
   "id": "22f5f025",
   "metadata": {},
   "source": [
    "## 13. If you had a function named bacon() inside a module named spam, how would you call it after importing spam?"
   ]
  },
  {
   "cell_type": "markdown",
   "id": "25ed6d2d",
   "metadata": {},
   "source": [
    "This function can be called with spam.bacon()."
   ]
  },
  {
   "cell_type": "code",
   "execution_count": null,
   "id": "204cddc4",
   "metadata": {},
   "outputs": [],
   "source": []
  }
 ],
 "metadata": {
  "kernelspec": {
   "display_name": "Python 3 (ipykernel)",
   "language": "python",
   "name": "python3"
  },
  "language_info": {
   "codemirror_mode": {
    "name": "ipython",
    "version": 3
   },
   "file_extension": ".py",
   "mimetype": "text/x-python",
   "name": "python",
   "nbconvert_exporter": "python",
   "pygments_lexer": "ipython3",
   "version": "3.11.3"
  }
 },
 "nbformat": 4,
 "nbformat_minor": 5
}
