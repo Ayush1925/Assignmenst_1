{
 "cells": [
  {
   "cell_type": "markdown",
   "id": "fade3a8e-d2c5-4823-be4a-ecd3b74b4120",
   "metadata": {},
   "source": [
    "## 1. In Python, what is the difference between a built-in function and a user-defined function? Provide an example of each."
   ]
  },
  {
   "cell_type": "raw",
   "id": "0423bfe6-8454-4f77-ab7d-bf58b5923073",
   "metadata": {},
   "source": [
    "Functions that readily come with Python are called built-in functions. If we use functions written by others in the form of library, it can be termed as library functions. All the other functions that we write on our own fall under user-defined functions."
   ]
  },
  {
   "cell_type": "raw",
   "id": "885c3bbc-5820-4c31-8e9e-fbadc560eb12",
   "metadata": {},
   "source": [
    "User Defined Function:"
   ]
  },
  {
   "cell_type": "code",
   "execution_count": 6,
   "id": "aac8a87c-8100-4ef9-85ac-bfe4895b25c1",
   "metadata": {},
   "outputs": [],
   "source": [
    "def Add_Num(): # User Defined Function\n",
    "    a = 10\n",
    "    b = 20\n",
    "    c = a + b"
   ]
  },
  {
   "cell_type": "code",
   "execution_count": 7,
   "id": "9383e301-97cc-433d-abb2-d166215e209c",
   "metadata": {},
   "outputs": [],
   "source": [
    "Add_Num() # Calling Function"
   ]
  },
  {
   "cell_type": "raw",
   "id": "f053fbd8-54ad-4855-9964-3594437b7c62",
   "metadata": {},
   "source": [
    "Built-in-function :"
   ]
  },
  {
   "cell_type": "code",
   "execution_count": 10,
   "id": "896f4ee6-9383-4343-8afb-62833b4ab2ba",
   "metadata": {},
   "outputs": [],
   "source": [
    "def Add_Num(): # User Defined Function\n",
    "    a = 10\n",
    "    b = 20\n",
    "    c = a + b\n",
    "    print(c)  # built-in-function in python for print any values"
   ]
  },
  {
   "cell_type": "code",
   "execution_count": 9,
   "id": "1029b326-1421-44da-ba1f-4c9de5c16f66",
   "metadata": {},
   "outputs": [
    {
     "name": "stdout",
     "output_type": "stream",
     "text": [
      "30\n"
     ]
    }
   ],
   "source": [
    "Add_Num()"
   ]
  },
  {
   "cell_type": "code",
   "execution_count": null,
   "id": "ff390762-34a3-498d-b141-43f54c983b6b",
   "metadata": {},
   "outputs": [],
   "source": []
  },
  {
   "cell_type": "markdown",
   "id": "eb9cd8e6-5a2e-481a-8001-0012341e41fb",
   "metadata": {},
   "source": [
    "## 2. How can you pass arguments to a function in Python? Explain the difference between positional arguments and keyword arguments."
   ]
  },
  {
   "cell_type": "code",
   "execution_count": 11,
   "id": "b0d570b0-5259-49ad-bcd4-34807daa425c",
   "metadata": {},
   "outputs": [],
   "source": [
    "def sum1(a,b): # Defining passing arguments in the function.\n",
    "    c = a + b\n",
    "    print(c)"
   ]
  },
  {
   "cell_type": "code",
   "execution_count": 13,
   "id": "e772d8f2-6dcd-402f-872b-8266f30ecae1",
   "metadata": {},
   "outputs": [
    {
     "name": "stdout",
     "output_type": "stream",
     "text": [
      "5\n"
     ]
    }
   ],
   "source": [
    "sum1(2,3) # Calling the 'sum1' user defined function with argument passing."
   ]
  },
  {
   "cell_type": "code",
   "execution_count": null,
   "id": "45a16d8b-fcac-4960-9a21-8eca2a43785e",
   "metadata": {},
   "outputs": [],
   "source": []
  },
  {
   "cell_type": "raw",
   "id": "a2abbed1-c044-4f25-9741-74e088a58c39",
   "metadata": {},
   "source": [
    "Positional Arguments:"
   ]
  },
  {
   "cell_type": "raw",
   "id": "b585d6ae-d2d2-4cfa-87c8-c8b8f8b00167",
   "metadata": {},
   "source": [
    "Positional arguments have commas between their values. Positional arguments, you will get more than one output on changing the order of the arguments.\n",
    "When you call the built-in print function, you can pass in any number of arguments positionally."
   ]
  },
  {
   "cell_type": "code",
   "execution_count": 15,
   "id": "0e6a5e1f-259e-4b48-99b9-a0aef305c3cd",
   "metadata": {},
   "outputs": [
    {
     "name": "stdout",
     "output_type": "stream",
     "text": [
      "1 2 3 4\n"
     ]
    }
   ],
   "source": [
    "print(1,2,3,4)"
   ]
  },
  {
   "cell_type": "raw",
   "id": "3fa0e4ab-c0e2-448a-920b-9c9e93c03340",
   "metadata": {},
   "source": [
    "We call these positional arguments because their position matters. The order of these arguments is significant: the first argument is printed out first; the last one is printed out last."
   ]
  },
  {
   "cell_type": "code",
   "execution_count": null,
   "id": "36d0476b-6a2f-47bc-b4e3-b5f3d2cf32d4",
   "metadata": {},
   "outputs": [],
   "source": []
  },
  {
   "cell_type": "raw",
   "id": "9fa509ff-e4f6-4c53-82f1-7b2184cee5b3",
   "metadata": {},
   "source": [
    "Keyword Arguments:"
   ]
  },
  {
   "cell_type": "raw",
   "id": "686f931f-0747-410c-b9e6-911dc43a2f82",
   "metadata": {},
   "source": [
    "Keyword arguments (named arguments) have a name and an equals sign in addition to those values and commas. On using keyword arguments you will get the correct output because the order of argument doesn't matter provided the logic of your code is correct. "
   ]
  },
  {
   "cell_type": "code",
   "execution_count": 17,
   "id": "2bcf6614-f56c-4d4b-9c69-480eea201cf9",
   "metadata": {},
   "outputs": [
    {
     "name": "stdout",
     "output_type": "stream",
     "text": [
      "1 ' 2 ' 3 ' 4\n"
     ]
    }
   ],
   "source": [
    "print(1,2,3,4, sep = \" ' \")"
   ]
  },
  {
   "cell_type": "raw",
   "id": "c18ec788-167a-49af-a19c-a35d9664d109",
   "metadata": {},
   "source": [
    "That sep argument defines the separator that should be printed-out between each of the positional arguments given to print."
   ]
  },
  {
   "cell_type": "code",
   "execution_count": null,
   "id": "0c18dd81-11e5-44db-8006-c41d9562a3d4",
   "metadata": {},
   "outputs": [],
   "source": []
  },
  {
   "cell_type": "markdown",
   "id": "6db7401f-38e9-41c9-9b02-b40d5955fa63",
   "metadata": {},
   "source": [
    "## 3. What is the purpose of the return statement in a function? Can a function have multiple return statements? Explain with an example."
   ]
  },
  {
   "cell_type": "raw",
   "id": "fd086134-b704-45a8-b157-2d692ef2cbfa",
   "metadata": {},
   "source": [
    "The Python return statement is a key component of functions and methods. You can use the return statement to make your functions send Python objects back to the caller code. These objects are known as the function's return value. You can use them to perform further computation in your programs.\n",
    "In Python, you can return multiple values by simply separating them with commas in the return statement. In Python, comma-separated values are treated as tuples, even without parentheses, unless the syntax requires them. "
   ]
  },
  {
   "cell_type": "code",
   "execution_count": 34,
   "id": "9beef6ab-5aa6-4764-ae60-446a6f953fb8",
   "metadata": {},
   "outputs": [],
   "source": [
    "def Add_Num(): # defining a function\n",
    "    a = 10     # assing value to 'a'\n",
    "    b = 20     # assing value to 'b'\n",
    "    c = a + b  # storing result in 'c'\n",
    "    # funtion without a 'return' statement."
   ]
  },
  {
   "cell_type": "code",
   "execution_count": 37,
   "id": "965140b4-933b-446d-ac7d-e1ef27f4a293",
   "metadata": {},
   "outputs": [],
   "source": [
    "Add_Num()     # calling the function, but not showing the value stored in 'c'"
   ]
  },
  {
   "cell_type": "code",
   "execution_count": 30,
   "id": "41d45570-c5ae-4443-9165-e056a6050318",
   "metadata": {},
   "outputs": [],
   "source": [
    "def Add_Num(): # defining a function\n",
    "    a = 10     # assing value to 'a'\n",
    "    b = 20     # assing value to 'b'\n",
    "    c = a + b  # storing result in 'c'\n",
    "    return(c)  # returning result 'c' to the main function 'Add_Num()'"
   ]
  },
  {
   "cell_type": "code",
   "execution_count": 40,
   "id": "09be3bff-bc68-4455-9d69-9b9a415652b9",
   "metadata": {},
   "outputs": [
    {
     "data": {
      "text/plain": [
       "(30, 200)"
      ]
     },
     "execution_count": 40,
     "metadata": {},
     "output_type": "execute_result"
    }
   ],
   "source": [
    "Add_Num()      # when we call the function 'Add_Num()', it shows the result '30'."
   ]
  },
  {
   "cell_type": "code",
   "execution_count": 38,
   "id": "fa9b2459-7791-47cc-8ef4-5eebc46e4dd5",
   "metadata": {},
   "outputs": [],
   "source": [
    "def Add_Num():   # defining a function\n",
    "    a = 10       # assing value to 'a'\n",
    "    b = 20       # assing value to 'b'\n",
    "    c = a + b    # storing result in 'c'\n",
    "    d = a * b    # storing result in 'd'\n",
    "    return(c,d)  # returning result 'c' and 'd' to the main function 'Add_Num()'"
   ]
  },
  {
   "cell_type": "code",
   "execution_count": 39,
   "id": "ad362528-5058-4907-90eb-6a67d6d9fba9",
   "metadata": {},
   "outputs": [
    {
     "data": {
      "text/plain": [
       "(30, 200)"
      ]
     },
     "execution_count": 39,
     "metadata": {},
     "output_type": "execute_result"
    }
   ],
   "source": [
    "Add_Num()        # when we call the function 'Add_Num()', it shows the results '30' and '200'."
   ]
  },
  {
   "cell_type": "code",
   "execution_count": null,
   "id": "59fce91e-72a7-4460-90b1-d5f2c579fd76",
   "metadata": {},
   "outputs": [],
   "source": []
  },
  {
   "cell_type": "markdown",
   "id": "e8c89929-bc8f-4402-a23e-5eee9560d15c",
   "metadata": {},
   "source": [
    "## 4. What are lambda functions in Python? How are they different from regular functions? Provide an example where a lambda function can be useful."
   ]
  },
  {
   "cell_type": "raw",
   "id": "5875aeb5-eec2-4cb9-9e0c-7992da7b2f0d",
   "metadata": {},
   "source": [
    "here are some key points about lambda functions in Python:\n",
    "\n",
    "Lambda functions are small, anonymous functions defined with the lambda keyword.\n",
    "They can take any number of arguments but can only have one expression.\n",
    "The expression is evaluated and returned when the function is called.\n",
    "Lambda functions do not require a return statement, the expression is implicitly returned.\n",
    "They can be used wherever function objects are required, like inside functions like map(), filter(), and reduce().\n",
    "You can't include statements like loops, if, or else in lambda functions; only expressions are allowed.\n",
    "Lambda functions are useful for small tasks that are not reused throughout your code.\n",
    "They can be assigned to variables and used like regular functions."
   ]
  },
  {
   "cell_type": "raw",
   "id": "8fc26b49-7035-4ef2-8287-a3df7008d0e3",
   "metadata": {},
   "source": [
    "Example:"
   ]
  },
  {
   "cell_type": "code",
   "execution_count": 51,
   "id": "b68ed02d-991a-40b3-876b-b2a79bc52d40",
   "metadata": {},
   "outputs": [],
   "source": [
    "#Normal Function\n",
    "def Add_Num(a,b):\n",
    "    c = a + b\n",
    "    return(c)"
   ]
  },
  {
   "cell_type": "code",
   "execution_count": 48,
   "id": "45807b84-2b25-4eca-970b-ad491dcb022a",
   "metadata": {},
   "outputs": [
    {
     "data": {
      "text/plain": [
       "5"
      ]
     },
     "execution_count": 48,
     "metadata": {},
     "output_type": "execute_result"
    }
   ],
   "source": [
    "Add_Num(2,3)"
   ]
  },
  {
   "cell_type": "code",
   "execution_count": null,
   "id": "98f6b84b-57d3-42ce-975e-e676b2d4888d",
   "metadata": {},
   "outputs": [],
   "source": []
  },
  {
   "cell_type": "code",
   "execution_count": 52,
   "id": "d8c3b6ae-ca2f-42c2-a77d-e43db254d2fb",
   "metadata": {},
   "outputs": [],
   "source": [
    "#Lambda function\n",
    "Add = lambda x,y: x+y # #Lambda function itself works as a return statement, Doesn't need to mention 'return statement' seperately"
   ]
  },
  {
   "cell_type": "code",
   "execution_count": 44,
   "id": "e746aa95-8940-4e79-aa1c-744317e70e03",
   "metadata": {},
   "outputs": [
    {
     "data": {
      "text/plain": [
       "5"
      ]
     },
     "execution_count": 44,
     "metadata": {},
     "output_type": "execute_result"
    }
   ],
   "source": [
    "Add(2,3)"
   ]
  },
  {
   "cell_type": "code",
   "execution_count": null,
   "id": "d18cbdc0-150b-43bf-b791-88b369cd31e6",
   "metadata": {},
   "outputs": [],
   "source": []
  },
  {
   "cell_type": "markdown",
   "id": "b68282f5-3e5d-4627-b8a6-f147db36ba02",
   "metadata": {},
   "source": [
    "## 5. How does the concept of \"scope\" apply to functions in Python? Explain the difference between local scope and global scope."
   ]
  },
  {
   "cell_type": "raw",
   "id": "ac58d6e6-ec19-4152-8bad-c527c1e799cd",
   "metadata": {},
   "source": [
    "Variables that are defined inside a function body have a local scope, and those defined outside have a global scope. This means that local variables can be accessed only inside the function in which they are declared, whereas global variables can be accessed throughout the program body by all functions."
   ]
  },
  {
   "cell_type": "code",
   "execution_count": 60,
   "id": "4eedcd8b-1d61-42b6-98b1-c33304b407c4",
   "metadata": {},
   "outputs": [],
   "source": [
    "total = 100      # Global Scope Variable\n",
    "def Add_Num():   # Whater the value comes inside this 'Add_Num() function are Local Scope Variable'\n",
    "    a = 10\n",
    "    b = 20\n",
    "    total = a + b\n",
    "    print(\"Value of the Local Vaiable 'total' = \", total)"
   ]
  },
  {
   "cell_type": "code",
   "execution_count": 61,
   "id": "f2e6ed2d-4b7b-4cb2-9791-2ae95cb5400b",
   "metadata": {},
   "outputs": [
    {
     "name": "stdout",
     "output_type": "stream",
     "text": [
      "Value of the Local Vaiable 'total' =  30\n",
      "Value of the Gloabla Vaiable 'total' =  100\n"
     ]
    }
   ],
   "source": [
    "Add_Num()\n",
    "print(\"Value of the Gloabla Vaiable 'total' = \", total)"
   ]
  },
  {
   "cell_type": "code",
   "execution_count": null,
   "id": "a3f5bfb2-b7b0-4d5c-88bf-f49ee78ec59c",
   "metadata": {},
   "outputs": [],
   "source": []
  },
  {
   "cell_type": "markdown",
   "id": "3a3b4be8-d64b-45a1-a613-8babddb85da3",
   "metadata": {},
   "source": [
    "## 6. How can you use the \"return\" statement in a Python function to return multiple values?"
   ]
  },
  {
   "cell_type": "raw",
   "id": "b73f2af5-c7b0-418e-a251-3783897e1cea",
   "metadata": {},
   "source": [
    "Example:"
   ]
  },
  {
   "cell_type": "code",
   "execution_count": 64,
   "id": "6955ea3f-da34-46e8-9ae2-10071da7a8a1",
   "metadata": {},
   "outputs": [],
   "source": [
    "def ABC():   # defining a function\n",
    "    a = 10       # assing value to 'a'\n",
    "    b = 20       # assing value to 'b'\n",
    "    c = a + b    # storing result in 'c'\n",
    "    d = a * b    # storing result in 'd'\n",
    "    return(c,d)  # returning result 'c' and 'd' to the main function 'Add_Num()'"
   ]
  },
  {
   "cell_type": "code",
   "execution_count": 65,
   "id": "0eb0bcfa-3c6c-45ad-8165-6639fdf92cba",
   "metadata": {},
   "outputs": [
    {
     "data": {
      "text/plain": [
       "(30, 200)"
      ]
     },
     "execution_count": 65,
     "metadata": {},
     "output_type": "execute_result"
    }
   ],
   "source": [
    "ABC()        # when we call the function 'Add_Num()', it shows the results '30' and '200'."
   ]
  },
  {
   "cell_type": "code",
   "execution_count": null,
   "id": "532da3c4-32ce-4fac-a569-066b1140c90d",
   "metadata": {},
   "outputs": [],
   "source": []
  },
  {
   "cell_type": "markdown",
   "id": "6834a2d9-dee6-4c80-91ad-392ffb7e695c",
   "metadata": {},
   "source": [
    "## 7. What is the difference between the \"pass by value\" and \"pass by reference\" concepts when it comes to function arguments in Python?"
   ]
  },
  {
   "cell_type": "raw",
   "id": "66218dac-3cf1-4631-9655-6f39a53d2534",
   "metadata": {},
   "source": [
    "When you give function parameters via reference, you're just passing references to values that already exist. When you pass arguments by value, on the other hand, the arguments become independent copies of the original values."
   ]
  },
  {
   "cell_type": "raw",
   "id": "d41ace6d-c72e-4fde-85bb-fba24e626f45",
   "metadata": {},
   "source": [
    "Pass by value:"
   ]
  },
  {
   "cell_type": "code",
   "execution_count": 69,
   "id": "d344b89b-5f39-4c2c-9b2f-5e9fd9da869d",
   "metadata": {},
   "outputs": [
    {
     "name": "stdout",
     "output_type": "stream",
     "text": [
      "30\n"
     ]
    }
   ],
   "source": [
    "def pass_by_value(p):\n",
    "    p += 10\n",
    "    print(p)\n",
    "c = pass_by_value(20) # passing value '20'"
   ]
  },
  {
   "cell_type": "code",
   "execution_count": null,
   "id": "5736597e-6028-4d08-99e5-52e9ea9186e8",
   "metadata": {},
   "outputs": [],
   "source": []
  },
  {
   "cell_type": "raw",
   "id": "aa581a8b-3496-41a2-9aae-21a289f7494f",
   "metadata": {},
   "source": [
    "Pass by reference:"
   ]
  },
  {
   "cell_type": "code",
   "execution_count": 70,
   "id": "4fe26fa3-a907-4bc9-bc5b-0e370f45747e",
   "metadata": {},
   "outputs": [
    {
     "name": "stdout",
     "output_type": "stream",
     "text": [
      "110\n"
     ]
    }
   ],
   "source": [
    "def pass_by_reference(r):\n",
    "    r += 10\n",
    "    print(r)\n",
    "ref = 100\n",
    "h = pass_by_reference(ref) # passing reference 'ref'"
   ]
  },
  {
   "cell_type": "code",
   "execution_count": null,
   "id": "23d94f70-bb3a-46ec-9515-4b60494a2dec",
   "metadata": {},
   "outputs": [],
   "source": []
  },
  {
   "cell_type": "markdown",
   "id": "c42b742a-8e6d-4322-a6f2-ecdd07201a75",
   "metadata": {},
   "source": [
    "## 8. Create a function that can intake integer or decimal value and do following operations:"
   ]
  },
  {
   "cell_type": "raw",
   "id": "cd595992-196e-4e7e-aa21-22074131ca9d",
   "metadata": {},
   "source": [
    "a. Logarithmic function (log x)\n",
    "b. Exponential function (exp(x))\n",
    "c. Power function with base 2 (2*)\n",
    "d. Square root"
   ]
  },
  {
   "cell_type": "raw",
   "id": "03bf0809-039b-4514-916c-97b5af27841a",
   "metadata": {},
   "source": [
    "Answer:"
   ]
  },
  {
   "cell_type": "code",
   "execution_count": 15,
   "id": "4e045ac0-65a2-49f3-957c-fcc334082dd6",
   "metadata": {},
   "outputs": [],
   "source": [
    "import math\n",
    "def Operations():\n",
    "    x = float(input()) # asking user to enter any value.\n",
    "    a = math.log(x)\n",
    "    b = math.exp(x)\n",
    "    c = math.pow(x,2)\n",
    "    d = math.sqrt(x)\n",
    "    print(\"Logarithmic function : (log\",x,\")\" \" is :\" ,a)\n",
    "    print(\"Exponential function : (exp\",x,\")\" \" is :\" ,b)\n",
    "    print(\"Power function with base 2 of \", x,\" is :\" ,c)\n",
    "    print(\"Square root\", x,\" is :\" ,d)"
   ]
  },
  {
   "cell_type": "code",
   "execution_count": 16,
   "id": "6a50c685-957a-4dda-84b5-57af408d2ccd",
   "metadata": {},
   "outputs": [
    {
     "name": "stdin",
     "output_type": "stream",
     "text": [
      " 10\n"
     ]
    },
    {
     "name": "stdout",
     "output_type": "stream",
     "text": [
      "Logarithmic function : (log 10.0 ) is : 2.302585092994046\n",
      "Exponential function : (exp 10.0 ) is : 22026.465794806718\n",
      "Power function with base 2 of  10.0  is : 100.0\n",
      "Square root 10.0  is : 3.1622776601683795\n"
     ]
    }
   ],
   "source": [
    "Operations()"
   ]
  },
  {
   "cell_type": "code",
   "execution_count": null,
   "id": "fbbebdbe-57ae-4c3c-9e44-f09df2fce8e9",
   "metadata": {},
   "outputs": [],
   "source": []
  },
  {
   "cell_type": "markdown",
   "id": "3531827d-43d6-4c2c-93d9-1060cb5e6156",
   "metadata": {},
   "source": [
    "## 9. Create a function that takes a full name as an argument and returns first name and last name."
   ]
  },
  {
   "cell_type": "code",
   "execution_count": 38,
   "id": "cf1e49a8-3d83-452b-a3bc-7f1e4d47d014",
   "metadata": {},
   "outputs": [],
   "source": [
    "def full_name(Name):\n",
    "    list1 = []  #declaring an empty list\n",
    "    list1 = Name # store full name in the list1\n",
    "    First = list1.split()[0]\n",
    "    Second = list1.split()[-1]\n",
    "    return(First,Second)"
   ]
  },
  {
   "cell_type": "code",
   "execution_count": 39,
   "id": "6fa73a96-0fb3-47ff-8597-bef8c953d664",
   "metadata": {},
   "outputs": [
    {
     "data": {
      "text/plain": [
       "('MS', 'Dhoni')"
      ]
     },
     "execution_count": 39,
     "metadata": {},
     "output_type": "execute_result"
    }
   ],
   "source": [
    "full_name(\"MS Mahi Dhoni\")"
   ]
  },
  {
   "cell_type": "code",
   "execution_count": null,
   "id": "5a4d7aec-a8ef-47b0-93c8-e451ff0a5c04",
   "metadata": {},
   "outputs": [],
   "source": []
  }
 ],
 "metadata": {
  "kernelspec": {
   "display_name": "Python 3 (ipykernel)",
   "language": "python",
   "name": "python3"
  },
  "language_info": {
   "codemirror_mode": {
    "name": "ipython",
    "version": 3
   },
   "file_extension": ".py",
   "mimetype": "text/x-python",
   "name": "python",
   "nbconvert_exporter": "python",
   "pygments_lexer": "ipython3",
   "version": "3.11.4"
  }
 },
 "nbformat": 4,
 "nbformat_minor": 5
}
