{
 "cells": [
  {
   "cell_type": "markdown",
   "id": "bcaa7ecc-e3f4-4a60-921d-591d118458af",
   "metadata": {},
   "source": [
    "## Q.1. Create two int type variables, apply addition, subtraction, division and multiplications and store the results in variables. Then print the data in the following format by calling the variables:"
   ]
  },
  {
   "cell_type": "raw",
   "id": "f8d6adc7-9984-4aa8-84f8-140c5205ee05",
   "metadata": {},
   "source": [
    "First variable is __ & second variable is __.\n",
    "Addition: __ + __ = __\n",
    "Subtraction: __ - __ = __\n",
    "Multiplication: __ * __ = __\n",
    "Division: __ / __ = __"
   ]
  },
  {
   "cell_type": "code",
   "execution_count": 110,
   "id": "f81eeee0-6272-4425-84aa-812095d68ae0",
   "metadata": {},
   "outputs": [
    {
     "name": "stdout",
     "output_type": "stream",
     "text": [
      "First variable is 20 & second variable is 10 .\n",
      "Addition: 20 + 10 = 30\n",
      "Subtraction: 20 - 10 = 10\n",
      "Multiplication: 20 * 10 = 200\n",
      "Division: 20 / 10 = 2.0\n"
     ]
    }
   ],
   "source": [
    "a = 20\n",
    "b = 10\n",
    "c = a + b\n",
    "d = a - b\n",
    "e = a * b\n",
    "f = a / b\n",
    "print(\"First variable is\", a, \"&\", \"second variable is\", b,\".\")\n",
    "print(\"Addition:\",a,\"+\", b, \"=\", c)\n",
    "print(\"Subtraction:\",a,\"-\", b, \"=\", d)\n",
    "print(\"Multiplication:\",a,\"*\", b, \"=\", e)\n",
    "print(\"Division:\",a,\"/\", b, \"=\", f)"
   ]
  },
  {
   "cell_type": "code",
   "execution_count": null,
   "id": "2ef50146-c899-4a7e-a853-2bb382a6111e",
   "metadata": {},
   "outputs": [],
   "source": []
  },
  {
   "cell_type": "markdown",
   "id": "4f042d7b-e5fa-4991-b963-f2890733b6c7",
   "metadata": {},
   "source": [
    "## Q.2. What is the difference between the following operators:"
   ]
  },
  {
   "cell_type": "raw",
   "id": "95e0d653-b029-4dc8-b305-71eafa18691c",
   "metadata": {},
   "source": [
    "(i) ‘/’ & ‘//’\n",
    "(ii) ‘**’ & ‘^’"
   ]
  },
  {
   "cell_type": "markdown",
   "id": "e1baf9e7-8fd8-4b75-837c-c44015a8df92",
   "metadata": {},
   "source": [
    "Answer:"
   ]
  },
  {
   "cell_type": "raw",
   "id": "482c8010-85d3-4874-96f9-16d2e78ff692",
   "metadata": {},
   "source": [
    "(i) '/' = is called Division Operator, It divides two values. Division operator '/' returns always a float value."
   ]
  },
  {
   "cell_type": "code",
   "execution_count": 113,
   "id": "afdc65a9-3199-4268-82f1-6441defdd3df",
   "metadata": {},
   "outputs": [
    {
     "name": "stdout",
     "output_type": "stream",
     "text": [
      "4.333333333333333\n"
     ]
    }
   ],
   "source": [
    "a = 13\n",
    "b = 3\n",
    "c = a/b  # Divison Operator.\n",
    "print(c)"
   ]
  },
  {
   "cell_type": "raw",
   "id": "6f517660-7b9b-48c5-be04-8d627bd2ecd1",
   "metadata": {},
   "source": [
    "Answer is 4.333333333333333, Division Operator shows the Decimal values."
   ]
  },
  {
   "cell_type": "raw",
   "id": "9070322c-62d7-4b75-b290-3fee6e9c613a",
   "metadata": {},
   "source": [
    "(i) '// ' = is called Floor Divsion Operator.\n",
    "            The “//” operator works as a floor division for integer and float arguments.\n",
    "            The “//” operator is used to return the closest integer value which is less than or equal to a specified expression or value."
   ]
  },
  {
   "cell_type": "code",
   "execution_count": 114,
   "id": "a838cfaa-b107-4d20-8f8e-c02c1f8a1c52",
   "metadata": {},
   "outputs": [
    {
     "name": "stdout",
     "output_type": "stream",
     "text": [
      "4\n"
     ]
    }
   ],
   "source": [
    "a = 13\n",
    "b = 3\n",
    "c = a//b  # Floor Divison Operator.\n",
    "print(c)"
   ]
  },
  {
   "cell_type": "raw",
   "id": "df4d2521-73ed-43d9-9b40-34ee8110f352",
   "metadata": {},
   "source": [
    "Answer is 4 Floor Division Operator shows the integer value only."
   ]
  },
  {
   "cell_type": "code",
   "execution_count": null,
   "id": "43e9ff5b-f5ac-4006-9390-30c102c8d011",
   "metadata": {},
   "outputs": [],
   "source": []
  },
  {
   "cell_type": "raw",
   "id": "ed13ea5a-5753-4b96-a07a-ca3b5c606c91",
   "metadata": {},
   "source": [
    "(ii) ‘**’ = is called Exponent Operator. The operator that can be used to perform the exponent arithmetic. Given two real number operands, one on each side of the operator, it performs the exponential calculation ( 2**5 translates to 2*2*2*2*2 ). "
   ]
  },
  {
   "cell_type": "code",
   "execution_count": 35,
   "id": "369216a0-4556-49d6-b065-5f666e88cc5b",
   "metadata": {},
   "outputs": [
    {
     "data": {
      "text/plain": [
       "32"
      ]
     },
     "execution_count": 35,
     "metadata": {},
     "output_type": "execute_result"
    }
   ],
   "source": [
    "2**5 # 2*2*2*2*2"
   ]
  },
  {
   "cell_type": "raw",
   "id": "248ba9a4-7db9-45c7-ac65-f611466521c1",
   "metadata": {},
   "source": [
    "(ii) ‘^’ = is called XOR Operator. XOR Operator Compares each bit of the first operand with the corresponding bit of the second operand. If one of the bits is 1 (but not both), the corresponding result bit is set to 1. Otherwise, the result bit is set to 0."
   ]
  },
  {
   "cell_type": "code",
   "execution_count": 36,
   "id": "0c14e4a8-c5c6-4844-bc1f-d3cbfb0b0005",
   "metadata": {},
   "outputs": [
    {
     "name": "stdout",
     "output_type": "stream",
     "text": [
      "14\n"
     ]
    }
   ],
   "source": [
    "a = 10       # in binary: 1010\n",
    "b = 4        # in binary: 0100\n",
    "result = a ^ b  # result is 14 (in binary: 1110)\n",
    "print(result)"
   ]
  },
  {
   "cell_type": "code",
   "execution_count": 41,
   "id": "5cf75d70-1d63-4a1b-b15a-f1b941e1c3b9",
   "metadata": {},
   "outputs": [
    {
     "data": {
      "text/plain": [
       "'0b1010'"
      ]
     },
     "execution_count": 41,
     "metadata": {},
     "output_type": "execute_result"
    }
   ],
   "source": [
    "bin(10)"
   ]
  },
  {
   "cell_type": "code",
   "execution_count": 42,
   "id": "f15f88f7-babf-4123-9b73-8fb4afc8a116",
   "metadata": {},
   "outputs": [
    {
     "data": {
      "text/plain": [
       "'0b100'"
      ]
     },
     "execution_count": 42,
     "metadata": {},
     "output_type": "execute_result"
    }
   ],
   "source": [
    "bin(4)"
   ]
  },
  {
   "cell_type": "code",
   "execution_count": 43,
   "id": "7a59307e-f44a-4f9f-ad46-517bcdd681bb",
   "metadata": {},
   "outputs": [
    {
     "data": {
      "text/plain": [
       "'0b1110'"
      ]
     },
     "execution_count": 43,
     "metadata": {},
     "output_type": "execute_result"
    }
   ],
   "source": [
    "bin(14)"
   ]
  },
  {
   "cell_type": "code",
   "execution_count": null,
   "id": "fd6de4de-5a83-495a-8cc0-45458724e717",
   "metadata": {},
   "outputs": [],
   "source": []
  },
  {
   "cell_type": "markdown",
   "id": "777692cf-58fd-42d4-90db-0e802c296fdd",
   "metadata": {},
   "source": [
    "## Q.3. List the logical operators."
   ]
  },
  {
   "cell_type": "raw",
   "id": "f5c43cee-0085-4bbe-9623-6945d20d29db",
   "metadata": {},
   "source": [
    "Python offers three logical or boolean operators, \"and\", \"or\" and \"not\" operators. These work on one or more operands, and depending on their values, evaluate to True or False."
   ]
  },
  {
   "cell_type": "raw",
   "id": "108a1b14-8435-46f1-a7a2-752aef08fac2",
   "metadata": {},
   "source": [
    "and = Returns True if both statements are true"
   ]
  },
  {
   "cell_type": "code",
   "execution_count": 115,
   "id": "0c63cbaa-a03d-451e-b3d3-69f4bdfc8f49",
   "metadata": {},
   "outputs": [
    {
     "data": {
      "text/plain": [
       "False"
      ]
     },
     "execution_count": 115,
     "metadata": {},
     "output_type": "execute_result"
    }
   ],
   "source": [
    "a = 10\n",
    "b = 5\n",
    "c = 20\n",
    "a > b and c < b # Value of a(10) is Greater than value of b(5)\n",
    "                # Value of c(20) is Not Greater than value of b(5), Therefore the answer shold be 'False'"
   ]
  },
  {
   "cell_type": "code",
   "execution_count": null,
   "id": "a4268ad5-8727-4471-a1bf-8526fc0e4177",
   "metadata": {},
   "outputs": [],
   "source": []
  },
  {
   "cell_type": "raw",
   "id": "a0b62ad9-bb30-4b44-a45c-23944637fb46",
   "metadata": {},
   "source": [
    "or = Returns True if one of the statements is true"
   ]
  },
  {
   "cell_type": "code",
   "execution_count": 116,
   "id": "0a8294aa-3adf-4d53-9f86-2cb9d51f84f8",
   "metadata": {},
   "outputs": [
    {
     "data": {
      "text/plain": [
       "True"
      ]
     },
     "execution_count": 116,
     "metadata": {},
     "output_type": "execute_result"
    }
   ],
   "source": [
    "a = 10\n",
    "b = 5\n",
    "c = 20\n",
    "a > b or c < b"
   ]
  },
  {
   "cell_type": "code",
   "execution_count": null,
   "id": "ff779836-885c-4ebd-812b-2b0e364bbaf7",
   "metadata": {},
   "outputs": [],
   "source": []
  },
  {
   "cell_type": "raw",
   "id": "8f1f0fd2-132f-469e-92e2-535455112e46",
   "metadata": {},
   "source": [
    "not = Reverse the result, returns False if the result is true"
   ]
  },
  {
   "cell_type": "code",
   "execution_count": 117,
   "id": "280ae79c-c0eb-4261-a092-247c90b6ad93",
   "metadata": {},
   "outputs": [
    {
     "data": {
      "text/plain": [
       "False"
      ]
     },
     "execution_count": 117,
     "metadata": {},
     "output_type": "execute_result"
    }
   ],
   "source": [
    "a = 10\n",
    "b = 5\n",
    "not(a>b)"
   ]
  },
  {
   "cell_type": "code",
   "execution_count": null,
   "id": "6f822805-6ad7-4b89-869f-840450d6fa4b",
   "metadata": {},
   "outputs": [],
   "source": []
  },
  {
   "cell_type": "markdown",
   "id": "69f8e301-e053-4d47-b10a-956492d2e1b3",
   "metadata": {},
   "source": [
    "## Q.4. Explain right shift operator and left shift operator with examples."
   ]
  },
  {
   "cell_type": "raw",
   "id": "2bd20dcc-59ed-4c71-b6af-139630bb694d",
   "metadata": {},
   "source": [
    "In Python, bitwise operators are used to perform bitwise calculations on integers. The integers are first converted into binary and then operations are performed on each bit or corresponding pair of bits, hence the name bitwise operators. The result is then returned in decimal format."
   ]
  },
  {
   "cell_type": "raw",
   "id": "e9e0934a-7db1-476e-a32c-4f3b3fce12b9",
   "metadata": {},
   "source": [
    ">>\t= Bitwise right shift\t\n",
    "      The left operand’s value is moved toward right by the number of bits specified by the right operand."
   ]
  },
  {
   "cell_type": "code",
   "execution_count": 118,
   "id": "90e38900-fe89-420d-ab9b-ef972c254ac5",
   "metadata": {},
   "outputs": [
    {
     "data": {
      "text/plain": [
       "'0b11110'"
      ]
     },
     "execution_count": 118,
     "metadata": {},
     "output_type": "execute_result"
    }
   ],
   "source": [
    "bin(30)"
   ]
  },
  {
   "cell_type": "code",
   "execution_count": 119,
   "id": "1480f89a-8282-4b97-bd00-2d69c45184f4",
   "metadata": {},
   "outputs": [
    {
     "data": {
      "text/plain": [
       "7"
      ]
     },
     "execution_count": 119,
     "metadata": {},
     "output_type": "execute_result"
    }
   ],
   "source": [
    "30 >> 2"
   ]
  },
  {
   "cell_type": "code",
   "execution_count": 120,
   "id": "1fa9c3f0-8212-43fd-ae87-733c3d678b17",
   "metadata": {},
   "outputs": [
    {
     "data": {
      "text/plain": [
       "'0b111'"
      ]
     },
     "execution_count": 120,
     "metadata": {},
     "output_type": "execute_result"
    }
   ],
   "source": [
    "bin(7)"
   ]
  },
  {
   "cell_type": "code",
   "execution_count": null,
   "id": "84744a2e-4315-4f4c-92ac-c352b6db3dad",
   "metadata": {},
   "outputs": [],
   "source": []
  },
  {
   "cell_type": "raw",
   "id": "5157a321-f6cc-4334-b2d0-4dcafa55a00b",
   "metadata": {},
   "source": [
    "<<\t= Bitwise left shift.\n",
    "      The left operand’s value is moved toward left by the number of bits specified by the right operand."
   ]
  },
  {
   "cell_type": "code",
   "execution_count": 121,
   "id": "afca8d51-fe06-4d95-8322-d3d36c8ed2e0",
   "metadata": {},
   "outputs": [
    {
     "data": {
      "text/plain": [
       "'0b10100'"
      ]
     },
     "execution_count": 121,
     "metadata": {},
     "output_type": "execute_result"
    }
   ],
   "source": [
    "bin(20)"
   ]
  },
  {
   "cell_type": "code",
   "execution_count": 122,
   "id": "25c9d95f-432b-4afd-9c8f-aae67e681906",
   "metadata": {},
   "outputs": [
    {
     "data": {
      "text/plain": [
       "80"
      ]
     },
     "execution_count": 122,
     "metadata": {},
     "output_type": "execute_result"
    }
   ],
   "source": [
    "20 << 2"
   ]
  },
  {
   "cell_type": "code",
   "execution_count": 123,
   "id": "5fdfee2d-95e8-45c7-8099-48bdb854fd6c",
   "metadata": {},
   "outputs": [
    {
     "data": {
      "text/plain": [
       "'0b1010000'"
      ]
     },
     "execution_count": 123,
     "metadata": {},
     "output_type": "execute_result"
    }
   ],
   "source": [
    "bin(80)"
   ]
  },
  {
   "cell_type": "code",
   "execution_count": null,
   "id": "f56d21bb-0d9e-453e-a2a4-8ffe49acd492",
   "metadata": {},
   "outputs": [],
   "source": []
  },
  {
   "cell_type": "markdown",
   "id": "bbbddb82-46a3-4bde-815d-3aa512dcccdb",
   "metadata": {},
   "source": [
    "## Q.5. Create a list containing int type data of length 15. Then write a code to check if 10 is present in the list or not."
   ]
  },
  {
   "cell_type": "raw",
   "id": "3e087ca1-51f5-4de6-86f5-ec72e252ef57",
   "metadata": {},
   "source": [
    "Answer:"
   ]
  },
  {
   "cell_type": "code",
   "execution_count": 124,
   "id": "c602ef6f-1cae-4553-b59d-6884c43c93e7",
   "metadata": {},
   "outputs": [
    {
     "name": "stdout",
     "output_type": "stream",
     "text": [
      "10 Present in the list1\n"
     ]
    }
   ],
   "source": [
    "list1 = [1,2,3,4,5,6,7,8,9,10,11,12,13,14,15]\n",
    "len(list1)\n",
    "i = 10\n",
    "if i in list1:\n",
    "    print(\"10 Present in the list1\")\n",
    "else:\n",
    "    print(\"Value Not Present in the list1\")"
   ]
  },
  {
   "cell_type": "code",
   "execution_count": null,
   "id": "0f86a2bb-a0b3-47c5-b710-ee2effe036f1",
   "metadata": {},
   "outputs": [],
   "source": []
  }
 ],
 "metadata": {
  "kernelspec": {
   "display_name": "Python 3 (ipykernel)",
   "language": "python",
   "name": "python3"
  },
  "language_info": {
   "codemirror_mode": {
    "name": "ipython",
    "version": 3
   },
   "file_extension": ".py",
   "mimetype": "text/x-python",
   "name": "python",
   "nbconvert_exporter": "python",
   "pygments_lexer": "ipython3",
   "version": "3.11.4"
  }
 },
 "nbformat": 4,
 "nbformat_minor": 5
}
